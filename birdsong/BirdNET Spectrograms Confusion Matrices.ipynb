{
 "cells": [
  {
   "cell_type": "markdown",
   "id": "917d562f",
   "metadata": {},
   "source": [
    "# BirdNET Spectrogram Classifier Confusion Matrices"
   ]
  },
  {
   "cell_type": "markdown",
   "id": "48d7b85e",
   "metadata": {},
   "source": [
    "#### In this notebook, we load the preprocessed BirdNET spectrogram dataset and explore using Logistic Regression, SVM, and KNN.\n",
    "\n",
    "This notebook makes heavy use of the module classifiers.py, which contains a custom class for applying various classification algorithms to a given dataset, as well as organizing statistical outputs. "
   ]
  },
  {
   "cell_type": "code",
   "execution_count": 10,
   "id": "3d288972",
   "metadata": {},
   "outputs": [],
   "source": [
    "## Import necessary modules\n",
    "import numpy as np\n",
    "import os\n",
    "import librosa\n",
    "import keras\n",
    "import pandas as pd\n",
    "import time\n",
    "import math\n",
    "from IPython.display import clear_output\n",
    "\n",
    "import matplotlib.pyplot as plt\n",
    "\n",
    "from sklearn.linear_model import LogisticRegression\n",
    "from sklearn.preprocessing import StandardScaler\n",
    "from sklearn.model_selection import train_test_split\n",
    "from sklearn.pipeline import Pipeline\n",
    "from sklearn.metrics import accuracy_score"
   ]
  },
  {
   "cell_type": "code",
   "execution_count": 2,
   "id": "ae89459e",
   "metadata": {},
   "outputs": [],
   "source": [
    "## Import the classifiers.py module\n",
    "import classifiers"
   ]
  },
  {
   "cell_type": "code",
   "execution_count": 3,
   "id": "976bc053",
   "metadata": {},
   "outputs": [],
   "source": [
    "spectrograms = pd.read_csv('/home/birdsong/processed_data/spectrograms/spectrograms.csv').values[:,1:]\n",
    "labels = pd.read_csv('/home/birdsong/processed_data/spectrograms/labels_fp_are_tp.csv').values[:,1]\n",
    "#labels = np.concatenate((labels_tp, np.full(7781, -1, dtype = int)))\n",
    "probabilities = pd.read_csv('/home/birdsong/processed_data/spectrograms/probabilities.csv').values"
   ]
  },
  {
   "cell_type": "code",
   "execution_count": 4,
   "id": "78d9a83a",
   "metadata": {},
   "outputs": [
    {
     "name": "stdout",
     "output_type": "stream",
     "text": [
      "(8997, 2816)\n",
      "(8997,)\n",
      "(8997, 25)\n"
     ]
    }
   ],
   "source": [
    "print(spectrograms.shape)\n",
    "print(labels.shape)\n",
    "print(probabilities.shape)"
   ]
  },
  {
   "cell_type": "code",
   "execution_count": 5,
   "id": "d543bfdd",
   "metadata": {},
   "outputs": [
    {
     "name": "stdout",
     "output_type": "stream",
     "text": [
      "(1216, 2816)\n"
     ]
    }
   ],
   "source": [
    "## Only consider the true-positive data\n",
    "spectrograms_tp = spectrograms[:1216]\n",
    "print(spectrograms_tp.shape)"
   ]
  },
  {
   "cell_type": "code",
   "execution_count": 16,
   "id": "e090f92c",
   "metadata": {},
   "outputs": [
    {
     "data": {
      "text/plain": [
       "(26,)"
      ]
     },
     "execution_count": 16,
     "metadata": {},
     "output_type": "execute_result"
    }
   ],
   "source": [
    "# load frog and bird unique types\n",
    "frog_bird_labels = np.loadtxt('/home/birdsong/processed_data/frog_bird_labels.csv')\n",
    "frog_bird_labels.shape"
   ]
  },
  {
   "cell_type": "code",
   "execution_count": 7,
   "id": "d7dae8b5",
   "metadata": {},
   "outputs": [],
   "source": [
    "cls = classifiers.Classifier(input_X = spectrograms_tp,\n",
    "                             input_y = labels[:1216],\n",
    "                             ordered_labels = frog_bird_labels)\n",
    "\n",
    "cls.t_t_split()"
   ]
  },
  {
   "cell_type": "code",
   "execution_count": 8,
   "id": "68cb30b5",
   "metadata": {
    "scrolled": false
   },
   "outputs": [
    {
     "name": "stdout",
     "output_type": "stream",
     "text": [
      "The Logistic Regression test accuracy was 0.6065573770491803\n",
      "The Logistic Regression train accuracy was 1.0\n",
      "You can load and save the confusion matrix from the pickled dictionary under the key 'log_reg_mat'\n",
      "---------------------\n",
      "CV Split: 0\n",
      "CV Split: 1\n",
      "CV Split: 2\n",
      "CV Split: 3\n",
      "CV Split: 4\n",
      "Elapsed Time: 5.624545574188232\n",
      "The highest CV Logistic Regression test accuracy was 0.6376811594202898\n",
      "The highest CV Logistic Regression train accuracy was 1.0\n",
      "---------------------\n",
      "The SVM test accuracy was 0.4972677595628415\n",
      "The SVM train accuracy was 0.8238141335914811\n",
      "You can load and save the confusion matrix from the pickled dictionary under the key 'svm_mat'\n",
      "---------------------\n",
      "CV Split: 0\n",
      "CV Split: 1\n",
      "CV Split: 2\n",
      "CV Split: 3\n",
      "CV Split: 4\n",
      "Elapsed Time: 11.238420486450195\n",
      "The highest CV SVM test accuracy was 0.5048543689320388\n",
      "The highest CV SVM train accuracy was 0.8305084745762712\n",
      "---------------------\n",
      "The KNN test accuracy was 0.4644808743169399\n",
      "The KNN train accuracy was 1.0\n",
      "You can load and save the confusion matrix from the pickled dictionary under the key 'knn_mat'\n",
      "---------------------\n",
      "CV Split: 0\n",
      "CV Split: 1\n",
      "CV Split: 2\n",
      "CV Split: 3\n",
      "CV Split: 4\n",
      "Elapsed Time: 10.324375629425049\n",
      "The k with the highest AVG CV Accuracy was k = 1\n",
      "The highest CV KNN test accuracy was 0.3514094085643263\n",
      "The corresponding CV KNN train accuracy was 0.4498988438037072\n",
      "---------------------\n"
     ]
    }
   ],
   "source": [
    "cls.log_reg(CV = False)\n",
    "print(\"---------------------\")\n",
    "\n",
    "cls.log_reg(CV = True)\n",
    "print(\"---------------------\")\n",
    "\n",
    "cls.svm(CV = False)\n",
    "print(\"---------------------\")\n",
    "cls.svm(CV = True)\n",
    "print(\"---------------------\")\n",
    "\n",
    "cls.knn(CV = False,\n",
    "        max_n_neighbors = 1)\n",
    "print(\"---------------------\")\n",
    "\n",
    "cls.knn(CV = True,\n",
    "        max_n_neighbors = 30)\n",
    "print(\"---------------------\")"
   ]
  },
  {
   "cell_type": "markdown",
   "id": "ad293cc2",
   "metadata": {},
   "source": [
    "### Let's try to regularize a little bit with our Log Reg:"
   ]
  },
  {
   "cell_type": "code",
   "execution_count": 11,
   "id": "fc7030db",
   "metadata": {},
   "outputs": [
    {
     "name": "stdout",
     "output_type": "stream",
     "text": [
      "C = 0.000045\n"
     ]
    }
   ],
   "source": [
    "train_accuracies = []\n",
    "test_accuracies = []\n",
    "\n",
    "for alpha in np.linspace(0.0,10.0,50):\n",
    "    clear_output(wait = True)\n",
    "    print('C = %.6f' % math.exp(-alpha))\n",
    "\n",
    "    reg = LogisticRegression(max_iter=1000, penalty = 'l2', C=math.exp(-alpha)).fit(cls.X_train_scaled, cls.y_train)\n",
    "    y_train_pred = reg.predict(cls.X_train_scaled)\n",
    "    y_test_pred = reg.predict(cls.X_test_scaled)\n",
    "    train_accuracies.append(np.count_nonzero(cls.y_train == y_train_pred) / len(cls.y_train))\n",
    "    test_accuracies.append(np.count_nonzero(cls.y_test == y_test_pred) / len(cls.y_test))\n",
    "\n",
    "C_values = np.exp(-np.linspace(0.0,10.0,50))"
   ]
  },
  {
   "cell_type": "code",
   "execution_count": 18,
   "id": "bcae12e5",
   "metadata": {
    "scrolled": false
   },
   "outputs": [
    {
     "data": {
      "image/png": "[encoded data removed]",
      "text/plain": [
       "<Figure size 640x480 with 1 Axes>"
      ]
     },
     "metadata": {},
     "output_type": "display_data"
    }
   ],
   "source": [
    "plt.xscale('log')\n",
    "plt.plot(C_values,train_accuracies)\n",
    "plt.plot(C_values,test_accuracies)\n",
    "plt.ylim((0.4,1.0))\n",
    "plt.grid()\n",
    "plt.show()"
   ]
  },
  {
   "cell_type": "markdown",
   "id": "1875f9d6",
   "metadata": {},
   "source": [
    "#### Re-run Log Reg with C = 0.01:"
   ]
  },
  {
   "cell_type": "code",
   "execution_count": 20,
   "id": "e92ee851",
   "metadata": {},
   "outputs": [
    {
     "name": "stdout",
     "output_type": "stream",
     "text": [
      "The Logistic Regression test accuracy was 0.6284153005464481\n",
      "The Logistic Regression train accuracy was 0.957405614714424\n",
      "You can load and save the confusion matrix from the pickled dictionary under the key 'log_reg_mat'\n",
      "---------------------\n",
      "CV Split: 0\n",
      "CV Split: 1\n",
      "CV Split: 2\n",
      "CV Split: 3\n",
      "CV Split: 4\n",
      "Elapsed Time: 38.98455333709717\n",
      "The highest CV Logistic Regression test accuracy was 0.6618357487922706\n",
      "The highest CV Logistic Regression train accuracy was 0.969770253929867\n",
      "---------------------\n"
     ]
    }
   ],
   "source": [
    "cls.log_reg(CV = False,\n",
    "            penalty='l2',\n",
    "            C_val=0.005)\n",
    "print(\"---------------------\")\n",
    "\n",
    "cls.log_reg(CV = True,\n",
    "            penalty='l2',\n",
    "            C_val=0.005)\n",
    "print(\"---------------------\")"
   ]
  },
  {
   "cell_type": "code",
   "execution_count": 14,
   "id": "b4fc2b2a",
   "metadata": {},
   "outputs": [],
   "source": [
    "cls.save_statistics('/home/birdsong/classifier_stats/cls_stats_mat')\n",
    "classifiers.save_object_to_pickle(cls, '/home/birdsong/classifier_stats/cls_mat')"
   ]
  },
  {
   "cell_type": "code",
   "execution_count": 15,
   "id": "2198bca8",
   "metadata": {},
   "outputs": [],
   "source": [
    "np.savetxt('/home/birdsong/classifier_stats/cls_log_reg_CM_mat.csv', cls.log_reg_mat, delimiter = ',')\n",
    "np.savetxt('/home/birdsong/classifier_stats/cls_svm_CM_mat.csv', cls.svm_mat, delimiter = ',')\n",
    "np.savetxt('/home/birdsong/classifier_stats/cls_knn_CM_mat.csv', cls.knn_mat, delimiter = ',')"
   ]
  }
 ],
 "metadata": {
  "kernelspec": {
   "display_name": "Python 3 (ipykernel)",
   "language": "python",
   "name": "python3"
  },
  "language_info": {
   "codemirror_mode": {
    "name": "ipython",
    "version": 3
   },
   "file_extension": ".py",
   "mimetype": "text/x-python",
   "name": "python",
   "nbconvert_exporter": "python",
   "pygments_lexer": "ipython3",
   "version": "3.11.3"
  }
 },
 "nbformat": 4,
 "nbformat_minor": 5
}
