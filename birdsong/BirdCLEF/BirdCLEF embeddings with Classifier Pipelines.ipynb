{
 "cells": [
  {
   "cell_type": "code",
   "execution_count": 1,
   "id": "3d288972",
   "metadata": {},
   "outputs": [
    {
     "name": "stderr",
     "output_type": "stream",
     "text": [
      "2023-05-30 01:27:00.079770: I tensorflow/core/platform/cpu_feature_guard.cc:182] This TensorFlow binary is optimized to use available CPU instructions in performance-critical operations.\n",
      "To enable the following instructions: SSE3 SSE4.1 SSE4.2 AVX AVX2 FMA, in other operations, rebuild TensorFlow with the appropriate compiler flags.\n",
      "/usr/lib/python3.11/site-packages/h5py/__init__.py:36: UserWarning: h5py is running against HDF5 1.14.1 when it was built against 1.14.0, this may cause problems\n",
      "  _warn((\"h5py is running against HDF5 {0} when it was built against {1}, \"\n"
     ]
    }
   ],
   "source": [
    "import numpy as np\n",
    "import os\n",
    "import librosa\n",
    "import keras\n",
    "import pandas as pd\n",
    "import time\n",
    "\n",
    "import matplotlib.pyplot as plt\n",
    "\n",
    "from sklearn.linear_model import LogisticRegression\n",
    "from sklearn.preprocessing import StandardScaler\n",
    "from sklearn.model_selection import train_test_split\n",
    "from sklearn.pipeline import Pipeline"
   ]
  },
  {
   "cell_type": "code",
   "execution_count": 5,
   "id": "1f532c7a",
   "metadata": {},
   "outputs": [
    {
     "data": {
      "text/plain": [
       "['bswdov1-27',\n",
       " 'bawhor2-47',\n",
       " 'categr-166',\n",
       " 'bltbar1-7',\n",
       " 'combul2-200',\n",
       " 'carcha1-153',\n",
       " 'brctch1-62',\n",
       " 'barswa-500',\n",
       " 'afpwag1-81',\n",
       " 'afrthr1-45']"
      ]
     },
     "execution_count": 5,
     "metadata": {},
     "output_type": "execute_result"
    }
   ],
   "source": [
    "path = 'BirdCLEF/birdnet_embeddings'\n",
    "species = [f.split('.')[0] for f in os.listdir(path)][:10]\n",
    "species"
   ]
  },
  {
   "cell_type": "code",
   "execution_count": 11,
   "id": "0860266c",
   "metadata": {},
   "outputs": [],
   "source": [
    "embeddings = [np.load('%s/%s.npy' % (path, s)) for s in species]"
   ]
  },
  {
   "cell_type": "code",
   "execution_count": 12,
   "id": "7501a195",
   "metadata": {},
   "outputs": [],
   "source": [
    "X = np.concatenate(embeddings)\n",
    "y = np.concatenate([np.full(len(embeddings[i]), species[i]) for i in range(10)])"
   ]
  },
  {
   "cell_type": "code",
   "execution_count": 124,
   "id": "3d93a56a",
   "metadata": {},
   "outputs": [
    {
     "data": {
      "text/plain": [
       "(12546, 1024)"
      ]
     },
     "execution_count": 124,
     "metadata": {},
     "output_type": "execute_result"
    }
   ],
   "source": [
    "X.shape"
   ]
  },
  {
   "cell_type": "code",
   "execution_count": 13,
   "id": "05304547",
   "metadata": {},
   "outputs": [],
   "source": [
    "X_train, X_test, y_train, y_test = train_test_split(X, \n",
    "                                                    y,\n",
    "                                                    shuffle=True,\n",
    "                                                    test_size = 0.15, \n",
    "                                                    random_state = 431)"
   ]
  },
  {
   "cell_type": "code",
   "execution_count": 14,
   "id": "7045dbc3",
   "metadata": {},
   "outputs": [
    {
     "data": {
      "text/plain": [
       "(10664, 1024)"
      ]
     },
     "execution_count": 14,
     "metadata": {},
     "output_type": "execute_result"
    }
   ],
   "source": [
    "X_train.shape"
   ]
  },
  {
   "cell_type": "code",
   "execution_count": 15,
   "id": "b446c9f3",
   "metadata": {},
   "outputs": [],
   "source": [
    "scaler = StandardScaler().fit(X_train)\n",
    "X_train_scaled = scaler.transform(X_train)\n",
    "reg = LogisticRegression(max_iter=1000).fit(X_train_scaled, y_train)\n",
    "\n",
    "X_test_scaled = scaler.transform(X_test)"
   ]
  },
  {
   "cell_type": "code",
   "execution_count": 17,
   "id": "032c3cc9",
   "metadata": {},
   "outputs": [],
   "source": [
    "y_test_pred = reg.predict(X_test_scaled)"
   ]
  },
  {
   "cell_type": "code",
   "execution_count": 18,
   "id": "aef0f142",
   "metadata": {
    "scrolled": true
   },
   "outputs": [
    {
     "data": {
      "text/plain": [
       "(1790, 1882, 0.9511158342189161)"
      ]
     },
     "execution_count": 18,
     "metadata": {},
     "output_type": "execute_result"
    }
   ],
   "source": [
    "correct = np.count_nonzero(y_test == y_test_pred)\n",
    "all = len(y_test)\n",
    "correct, all, correct/all"
   ]
  },
  {
   "cell_type": "code",
   "execution_count": 19,
   "id": "78e4f778",
   "metadata": {},
   "outputs": [
    {
     "data": {
      "text/plain": [
       "(10664, 10664, 1.0)"
      ]
     },
     "execution_count": 19,
     "metadata": {},
     "output_type": "execute_result"
    }
   ],
   "source": [
    "y_train_pred = reg.predict(X_train_scaled)\n",
    "correct = np.count_nonzero(y_train == y_train_pred)\n",
    "all = len(y_train)\n",
    "correct, all, correct/all"
   ]
  },
  {
   "cell_type": "markdown",
   "id": "cdefbd7d",
   "metadata": {},
   "source": [
    "### Trying out some classifiers with and without PCA preprocessing"
   ]
  },
  {
   "cell_type": "code",
   "execution_count": 24,
   "id": "7f64ce36",
   "metadata": {},
   "outputs": [],
   "source": [
    "from sklearn.neighbors import KNeighborsClassifier\n",
    "from sklearn.model_selection import KFold\n",
    "from sklearn.metrics import accuracy_score\n",
    "from sklearn.decomposition import PCA\n",
    "\n",
    "from matplotlib.pyplot import cm"
   ]
  },
  {
   "cell_type": "code",
   "execution_count": 25,
   "id": "51a44a93",
   "metadata": {},
   "outputs": [],
   "source": [
    "## Make the kfold object here\n",
    "kfold = KFold(n_splits = 5,\n",
    "              shuffle=True,\n",
    "              random_state= 423)"
   ]
  },
  {
   "cell_type": "markdown",
   "id": "e02000f5",
   "metadata": {},
   "source": [
    "##### KNN without PCA (since it liked the higher dimension anyways)"
   ]
  },
  {
   "cell_type": "code",
   "execution_count": 26,
   "id": "ea022216",
   "metadata": {},
   "outputs": [
    {
     "name": "stdout",
     "output_type": "stream",
     "text": [
      "CV Split 0\n",
      "Num Neighbors = 1\n",
      "1.1198315620422363\n",
      "Num Neighbors = 2\n",
      "1.1278071403503418\n",
      "Num Neighbors = 3\n",
      "1.0587105751037598\n",
      "Num Neighbors = 4\n",
      "1.0743234157562256\n",
      "Num Neighbors = 5\n",
      "1.0496716499328613\n",
      "Num Neighbors = 6\n",
      "1.1017520427703857\n",
      "Num Neighbors = 7\n",
      "1.0389695167541504\n",
      "Num Neighbors = 8\n",
      "1.044992208480835\n",
      "Num Neighbors = 9\n",
      "1.0500023365020752\n",
      "Num Neighbors = 10\n",
      "1.0370731353759766\n",
      "Num Neighbors = 11\n",
      "1.0726933479309082\n",
      "Num Neighbors = 12\n",
      "1.0862066745758057\n",
      "Num Neighbors = 13\n",
      "1.0373139381408691\n",
      "Num Neighbors = 14\n",
      "1.0912432670593262\n",
      "Num Neighbors = 15\n",
      "1.1823914051055908\n",
      "Num Neighbors = 16\n",
      "1.1443371772766113\n",
      "Num Neighbors = 17\n",
      "1.106294870376587\n",
      "Num Neighbors = 18\n",
      "1.045180320739746\n",
      "Num Neighbors = 19\n",
      "1.0720529556274414\n",
      "Num Neighbors = 20\n",
      "1.0451509952545166\n",
      "Num Neighbors = 21\n",
      "1.0570313930511475\n",
      "Num Neighbors = 22\n",
      "1.0383589267730713\n",
      "Num Neighbors = 23\n",
      "1.087674856185913\n",
      "Num Neighbors = 24\n",
      "1.1517024040222168\n",
      "Num Neighbors = 25\n",
      "1.122746229171753\n",
      "Num Neighbors = 26\n",
      "1.0788395404815674\n",
      "Num Neighbors = 27\n",
      "1.1094014644622803\n",
      "Num Neighbors = 28\n",
      "1.0321078300476074\n",
      "Num Neighbors = 29\n",
      "1.041252613067627\n",
      "Num Neighbors = 30\n",
      "1.0422945022583008\n",
      "Num Neighbors = 31\n",
      "0.987307071685791\n",
      "Num Neighbors = 32\n",
      "1.155470371246338\n",
      "Num Neighbors = 33\n",
      "1.0527973175048828\n",
      "Num Neighbors = 34\n",
      "1.1369011402130127\n",
      "Num Neighbors = 35\n",
      "1.0613844394683838\n",
      "Num Neighbors = 36\n",
      "1.1127307415008545\n",
      "Num Neighbors = 37\n",
      "1.109740972518921\n",
      "Num Neighbors = 38\n",
      "1.0505871772766113\n",
      "Num Neighbors = 39\n",
      "1.0892298221588135\n",
      "Num Neighbors = 40\n",
      "1.026184320449829\n",
      "Num Neighbors = 41\n",
      "1.0096864700317383\n",
      "Num Neighbors = 42\n",
      "1.0842421054840088\n",
      "Num Neighbors = 43\n",
      "1.0569214820861816\n",
      "Num Neighbors = 44\n",
      "1.1318976879119873\n",
      "Num Neighbors = 45\n",
      "1.1095876693725586\n",
      "Num Neighbors = 46\n",
      "1.023130178451538\n",
      "Num Neighbors = 47\n",
      "1.122349500656128\n",
      "Num Neighbors = 48\n",
      "1.0866765975952148\n",
      "Num Neighbors = 49\n",
      "1.097872257232666\n",
      "Num Neighbors = 50\n",
      "1.1897859573364258\n",
      "CV Split 1\n",
      "Num Neighbors = 1\n",
      "0.9788155555725098\n",
      "Num Neighbors = 2\n",
      "1.0099217891693115\n",
      "Num Neighbors = 3\n",
      "1.0463535785675049\n",
      "Num Neighbors = 4\n",
      "0.9812664985656738\n",
      "Num Neighbors = 5\n",
      "0.9947760105133057\n",
      "Num Neighbors = 6\n",
      "1.0415797233581543\n",
      "Num Neighbors = 7\n",
      "1.0473077297210693\n",
      "Num Neighbors = 8\n",
      "1.0575320720672607\n",
      "Num Neighbors = 9\n",
      "1.0056211948394775\n",
      "Num Neighbors = 10\n",
      "1.0005168914794922\n",
      "Num Neighbors = 11\n",
      "1.0370421409606934\n",
      "Num Neighbors = 12\n",
      "1.0176470279693604\n",
      "Num Neighbors = 13\n",
      "0.9872550964355469\n",
      "Num Neighbors = 14\n",
      "0.9952266216278076\n",
      "Num Neighbors = 15\n",
      "0.9856123924255371\n",
      "Num Neighbors = 16\n",
      "1.0126173496246338\n",
      "Num Neighbors = 17\n",
      "0.9662673473358154\n",
      "Num Neighbors = 18\n",
      "0.9553854465484619\n",
      "Num Neighbors = 19\n",
      "0.9804205894470215\n",
      "Num Neighbors = 20\n",
      "0.9701752662658691\n",
      "Num Neighbors = 21\n",
      "0.9781231880187988\n",
      "Num Neighbors = 22\n",
      "0.9987173080444336\n",
      "Num Neighbors = 23\n",
      "0.99983811378479\n",
      "Num Neighbors = 24\n",
      "1.0087175369262695\n",
      "Num Neighbors = 25\n",
      "0.9965019226074219\n",
      "Num Neighbors = 26\n",
      "1.0203900337219238\n",
      "Num Neighbors = 27\n",
      "1.0134713649749756\n",
      "Num Neighbors = 28\n",
      "0.9927420616149902\n",
      "Num Neighbors = 29\n",
      "1.047348976135254\n",
      "Num Neighbors = 30\n",
      "1.0270004272460938\n",
      "Num Neighbors = 31\n",
      "1.02315354347229\n",
      "Num Neighbors = 32\n",
      "0.9985225200653076\n",
      "Num Neighbors = 33\n",
      "1.0475435256958008\n",
      "Num Neighbors = 34\n",
      "1.0757231712341309\n",
      "Num Neighbors = 35\n",
      "1.0750930309295654\n",
      "Num Neighbors = 36\n",
      "1.0880076885223389\n",
      "Num Neighbors = 37\n",
      "1.0556306838989258\n",
      "Num Neighbors = 38\n",
      "1.0695445537567139\n",
      "Num Neighbors = 39\n",
      "1.11397385597229\n",
      "Num Neighbors = 40\n",
      "1.1135694980621338\n",
      "Num Neighbors = 41\n",
      "1.0234837532043457\n",
      "Num Neighbors = 42\n",
      "1.0089480876922607\n",
      "Num Neighbors = 43\n",
      "1.0539710521697998\n",
      "Num Neighbors = 44\n",
      "1.1417627334594727\n",
      "Num Neighbors = 45\n",
      "1.1343274116516113\n",
      "Num Neighbors = 46\n",
      "1.1114046573638916\n",
      "Num Neighbors = 47\n",
      "1.0860929489135742\n",
      "Num Neighbors = 48\n",
      "1.0672433376312256\n",
      "Num Neighbors = 49\n",
      "1.123697280883789\n",
      "Num Neighbors = 50\n",
      "1.0586342811584473\n",
      "CV Split 2\n",
      "Num Neighbors = 1\n",
      "1.1684370040893555\n",
      "Num Neighbors = 2\n",
      "1.1009495258331299\n",
      "Num Neighbors = 3\n",
      "1.0364210605621338\n",
      "Num Neighbors = 4\n",
      "1.1048836708068848\n",
      "Num Neighbors = 5\n",
      "1.0144028663635254\n",
      "Num Neighbors = 6\n",
      "1.148799180984497\n",
      "Num Neighbors = 7\n",
      "1.0743303298950195\n",
      "Num Neighbors = 8\n",
      "1.009404182434082\n",
      "Num Neighbors = 9\n",
      "1.0333034992218018\n",
      "Num Neighbors = 10\n",
      "1.0127673149108887\n",
      "Num Neighbors = 11\n",
      "1.1275973320007324\n",
      "Num Neighbors = 12\n",
      "1.0455150604248047\n",
      "Num Neighbors = 13\n",
      "0.9870576858520508\n",
      "Num Neighbors = 14\n",
      "1.1253595352172852\n",
      "Num Neighbors = 15\n",
      "1.0067057609558105\n",
      "Num Neighbors = 16\n",
      "1.0475330352783203\n",
      "Num Neighbors = 17\n",
      "1.1052894592285156\n",
      "Num Neighbors = 18\n",
      "1.065917730331421\n",
      "Num Neighbors = 19\n",
      "1.1090691089630127\n",
      "Num Neighbors = 20\n",
      "1.1454308032989502\n",
      "Num Neighbors = 21\n",
      "1.0907261371612549\n",
      "Num Neighbors = 22\n",
      "1.1515254974365234\n",
      "Num Neighbors = 23\n",
      "1.0444080829620361\n",
      "Num Neighbors = 24\n",
      "1.0758209228515625\n",
      "Num Neighbors = 25\n",
      "1.0541210174560547\n",
      "Num Neighbors = 26\n",
      "1.042358636856079\n",
      "Num Neighbors = 27\n",
      "1.0626277923583984\n",
      "Num Neighbors = 28\n",
      "1.0690217018127441\n",
      "Num Neighbors = 29\n",
      "1.0277466773986816\n",
      "Num Neighbors = 30\n",
      "1.1643400192260742\n",
      "Num Neighbors = 31\n",
      "1.049351453781128\n",
      "Num Neighbors = 32\n",
      "1.0867230892181396\n",
      "Num Neighbors = 33\n",
      "1.0729975700378418\n",
      "Num Neighbors = 34\n",
      "1.0762457847595215\n",
      "Num Neighbors = 35\n",
      "1.084184169769287\n",
      "Num Neighbors = 36\n",
      "1.1106195449829102\n",
      "Num Neighbors = 37\n",
      "1.0482938289642334\n",
      "Num Neighbors = 38\n",
      "1.00443696975708\n",
      "Num Neighbors = 39\n",
      "1.0261783599853516\n",
      "Num Neighbors = 40\n",
      "1.067183494567871\n",
      "Num Neighbors = 41\n",
      "1.0469880104064941\n",
      "Num Neighbors = 42\n",
      "1.0907888412475586\n",
      "Num Neighbors = 43\n",
      "1.0169978141784668\n",
      "Num Neighbors = 44\n",
      "1.0876798629760742\n",
      "Num Neighbors = 45\n",
      "1.1307446956634521\n",
      "Num Neighbors = 46\n",
      "1.0826201438903809\n",
      "Num Neighbors = 47\n",
      "1.066357135772705\n",
      "Num Neighbors = 48\n",
      "1.2005016803741455\n",
      "Num Neighbors = 49\n",
      "1.122497320175171\n",
      "Num Neighbors = 50\n",
      "1.094275951385498\n",
      "CV Split 3\n",
      "Num Neighbors = 1\n",
      "0.9628839492797852\n",
      "Num Neighbors = 2\n",
      "1.0779097080230713\n",
      "Num Neighbors = 3\n",
      "1.0196306705474854\n",
      "Num Neighbors = 4\n",
      "0.9742844104766846\n",
      "Num Neighbors = 5\n",
      "1.0033977031707764\n",
      "Num Neighbors = 6\n",
      "1.0343852043151855\n",
      "Num Neighbors = 7\n",
      "0.9646260738372803\n",
      "Num Neighbors = 8\n",
      "1.0743794441223145\n",
      "Num Neighbors = 9\n",
      "1.0107290744781494\n",
      "Num Neighbors = 10\n",
      "1.0034925937652588\n",
      "Num Neighbors = 11\n",
      "0.9940540790557861\n",
      "Num Neighbors = 12\n",
      "0.952794075012207\n",
      "Num Neighbors = 13\n",
      "0.9742283821105957\n",
      "Num Neighbors = 14\n",
      "1.0206308364868164\n",
      "Num Neighbors = 15\n",
      "0.9718222618103027\n",
      "Num Neighbors = 16\n",
      "0.9603509902954102\n",
      "Num Neighbors = 17\n",
      "1.0280723571777344\n",
      "Num Neighbors = 18\n",
      "1.0293474197387695\n",
      "Num Neighbors = 19\n",
      "0.9974508285522461\n",
      "Num Neighbors = 20\n",
      "0.9849841594696045\n",
      "Num Neighbors = 21\n",
      "0.9856607913970947\n",
      "Num Neighbors = 22\n",
      "1.0459659099578857\n",
      "Num Neighbors = 23\n",
      "0.9867279529571533\n",
      "Num Neighbors = 24\n",
      "1.0225856304168701\n",
      "Num Neighbors = 25\n",
      "1.0895633697509766\n",
      "Num Neighbors = 26\n",
      "0.9936397075653076\n",
      "Num Neighbors = 27\n",
      "1.0267066955566406\n",
      "Num Neighbors = 28\n",
      "1.0297601222991943\n",
      "Num Neighbors = 29\n",
      "0.9838435649871826\n",
      "Num Neighbors = 30\n",
      "1.0330877304077148\n",
      "Num Neighbors = 31\n",
      "1.0526247024536133\n",
      "Num Neighbors = 32\n",
      "1.0239639282226562\n",
      "Num Neighbors = 33\n",
      "1.0359070301055908\n",
      "Num Neighbors = 34\n",
      "1.1107470989227295\n",
      "Num Neighbors = 35\n",
      "1.0859134197235107\n",
      "Num Neighbors = 36\n",
      "1.1295166015625\n",
      "Num Neighbors = 37\n",
      "1.1315362453460693\n",
      "Num Neighbors = 38\n",
      "1.1338825225830078\n",
      "Num Neighbors = 39\n",
      "1.0526649951934814\n",
      "Num Neighbors = 40\n",
      "1.0150153636932373\n",
      "Num Neighbors = 41\n",
      "1.0530033111572266\n",
      "Num Neighbors = 42\n",
      "1.1109929084777832\n",
      "Num Neighbors = 43\n",
      "1.054001808166504\n",
      "Num Neighbors = 44\n",
      "1.113156795501709\n",
      "Num Neighbors = 45\n",
      "1.0134141445159912\n",
      "Num Neighbors = 46\n",
      "1.060866355895996\n",
      "Num Neighbors = 47\n",
      "1.0707895755767822\n",
      "Num Neighbors = 48\n",
      "1.0565602779388428\n",
      "Num Neighbors = 49\n",
      "1.0390915870666504\n",
      "Num Neighbors = 50\n",
      "1.0128586292266846\n",
      "CV Split 4\n",
      "Num Neighbors = 1\n",
      "1.0657057762145996\n",
      "Num Neighbors = 2\n",
      "1.065610647201538\n",
      "Num Neighbors = 3\n",
      "1.09059739112854\n",
      "Num Neighbors = 4\n",
      "1.0297448635101318\n",
      "Num Neighbors = 5\n",
      "1.1037523746490479\n",
      "Num Neighbors = 6\n",
      "1.039628267288208\n",
      "Num Neighbors = 7\n",
      "1.2690186500549316\n",
      "Num Neighbors = 8\n",
      "1.0368993282318115\n",
      "Num Neighbors = 9\n",
      "1.0539805889129639\n",
      "Num Neighbors = 10\n",
      "1.0392296314239502\n",
      "Num Neighbors = 11\n",
      "1.0256023406982422\n",
      "Num Neighbors = 12\n",
      "1.0473520755767822\n",
      "Num Neighbors = 13\n",
      "1.029695987701416\n",
      "Num Neighbors = 14\n",
      "1.0996181964874268\n",
      "Num Neighbors = 15\n",
      "1.078965425491333\n",
      "Num Neighbors = 16\n",
      "1.043313980102539\n",
      "Num Neighbors = 17\n",
      "1.0427143573760986\n",
      "Num Neighbors = 18\n",
      "1.0179541110992432\n",
      "Num Neighbors = 19\n",
      "1.026641607284546\n",
      "Num Neighbors = 20\n",
      "1.0039246082305908\n",
      "Num Neighbors = 21\n",
      "1.022700548171997\n",
      "Num Neighbors = 22\n",
      "1.0206806659698486\n",
      "Num Neighbors = 23\n",
      "1.181776523590088\n",
      "Num Neighbors = 24\n",
      "1.0669033527374268\n",
      "Num Neighbors = 25\n",
      "1.037027359008789\n",
      "Num Neighbors = 26\n",
      "1.0108065605163574\n",
      "Num Neighbors = 27\n",
      "1.0221216678619385\n",
      "Num Neighbors = 28\n",
      "1.1269066333770752\n",
      "Num Neighbors = 29\n",
      "1.055147409439087\n",
      "Num Neighbors = 30\n",
      "1.0674235820770264\n",
      "Num Neighbors = 31\n",
      "1.0269296169281006\n",
      "Num Neighbors = 32\n",
      "1.0062744617462158\n",
      "Num Neighbors = 33\n",
      "1.1184139251708984\n",
      "Num Neighbors = 34\n",
      "1.1998450756072998\n",
      "Num Neighbors = 35\n",
      "1.1729929447174072\n",
      "Num Neighbors = 36\n",
      "1.0748698711395264\n",
      "Num Neighbors = 37\n",
      "1.0261449813842773\n",
      "Num Neighbors = 38\n",
      "1.1452207565307617\n",
      "Num Neighbors = 39\n",
      "1.0630860328674316\n",
      "Num Neighbors = 40\n",
      "1.1384615898132324\n",
      "Num Neighbors = 41\n",
      "1.0553345680236816\n",
      "Num Neighbors = 42\n",
      "1.072091817855835\n",
      "Num Neighbors = 43\n",
      "1.0644922256469727\n",
      "Num Neighbors = 44\n",
      "1.0327825546264648\n",
      "Num Neighbors = 45\n",
      "1.0116140842437744\n",
      "Num Neighbors = 46\n",
      "1.0948150157928467\n",
      "Num Neighbors = 47\n",
      "1.0821123123168945\n",
      "Num Neighbors = 48\n",
      "1.0627813339233398\n",
      "Num Neighbors = 49\n",
      "1.063800573348999\n",
      "Num Neighbors = 50\n",
      "1.0384678840637207\n",
      "264.50993251800537\n"
     ]
    }
   ],
   "source": [
    "ks = range(1, 51)\n",
    "n_splits = 5\n",
    "\n",
    "st = time.time()\n",
    "\n",
    "## Makes a 3-D array of to record the accuracies in\n",
    "knn_accs = np.zeros((n_splits, len(ks)))\n",
    "knn_accs2 = np.zeros((n_splits, len(ks)))\n",
    "\n",
    "i = 0\n",
    "for train_index, test_index in kfold.split(X_train, y_train):\n",
    "    ## Keeps track of the cross validation split you are on\n",
    "    ## This loop can be a little long\n",
    "    print(\"CV Split\", i)\n",
    "    tt = X_train[train_index]\n",
    "    ho = X_train[test_index]\n",
    "    y_tt = y_train[train_index]\n",
    "    y_ho = y_train[test_index]\n",
    "    \n",
    "    j = 0\n",
    "    for neighbors in ks:\n",
    "        dimst = time.time()\n",
    "        knn = KNeighborsClassifier(neighbors)\n",
    "\n",
    "        ## Fit on the tt data\n",
    "        knn.fit(tt, y_tt)\n",
    "\n",
    "        ## Get the holdout prediction\n",
    "        pred = knn.predict(ho)\n",
    "\n",
    "        knn_accs[i,j] = accuracy_score(y_ho, pred)\n",
    "        knn_accs2[i,j] = accuracy_score(y_tt, knn.predict(tt))\n",
    "        \n",
    "        j = j + 1\n",
    "        dimtime = time.time() - dimst\n",
    "        print(\"Num Neighbors = %s\" % neighbors)\n",
    "        print(dimtime)\n",
    "    i = i + 1\n",
    "et = time.time() - st\n",
    "print(et)"
   ]
  },
  {
   "cell_type": "code",
   "execution_count": 62,
   "id": "c91794ec",
   "metadata": {},
   "outputs": [
    {
     "name": "stdout",
     "output_type": "stream",
     "text": [
      "0\n",
      "The k with the highest AVG CV Accuracy was k = 1\n",
      "The highest AVG CV Accuracy was 0.9635216806565989\n",
      "The corresponding AVG CV Accuracy was 1.0\n"
     ]
    }
   ],
   "source": [
    "## This code will print out the best # components - k combo for you\n",
    "## It also prints out the highest AVG CV Accuracy\n",
    "max_index = np.argmax(np.mean(knn_accs, axis=0))\n",
    "\n",
    "print(max_index)\n",
    "\n",
    "print(\"The k with the highest AVG CV Accuracy was\",\n",
    "         \"k =\", ks[max_index])\n",
    "print(\"The highest AVG CV Accuracy was\", np.max(np.mean(knn_accs, axis=0)))\n",
    "\n",
    "print(\"The corresponding AVG CV Accuracy was\", np.mean(knn_accs2[:,max_index]))"
   ]
  },
  {
   "cell_type": "markdown",
   "id": "fd4e1859",
   "metadata": {},
   "source": [
    "##### KNN with PCA"
   ]
  },
  {
   "cell_type": "code",
   "execution_count": 28,
   "id": "e90f2f5d",
   "metadata": {
    "scrolled": true
   },
   "outputs": [
    {
     "name": "stdout",
     "output_type": "stream",
     "text": [
      "CV Split 0\n",
      "CV Split 1\n",
      "CV Split 2\n",
      "CV Split 3\n",
      "CV Split 4\n"
     ]
    }
   ],
   "source": [
    "ks = range(1, 11)\n",
    "comps = range(2,20)\n",
    "n_splits = 5\n",
    "## Makes a 3-D array of to record the accuracies in\n",
    "pca_accs = np.zeros((n_splits, len(comps), len(ks)))\n",
    "pca_accs2 = np.zeros((n_splits, len(comps), len(ks)))\n",
    "\n",
    "i = 0\n",
    "for train_index, test_index in kfold.split(X_train, y_train):\n",
    "    ## Keeps track of the cross validation split you are on\n",
    "    ## This loop can be a little long\n",
    "    print(\"CV Split\", i)\n",
    "    tt = X_train[train_index]\n",
    "    ho = X_train[test_index]\n",
    "    y_tt = y_train[train_index]\n",
    "    y_ho = y_train[test_index]\n",
    "    \n",
    "    j = 0\n",
    "    for n_comps in comps:\n",
    "        ## Make the PCA pipeline here\n",
    "        pca_pipe = Pipeline([('scale', StandardScaler()),\n",
    "                            ('pca', PCA(n_comps))])\n",
    "        \n",
    "        ## Fit and then get the PCA transformed tt data here\n",
    "        pca_tt = pca_pipe.fit_transform(tt)\n",
    "        \n",
    "        ## Get the transformed holdout data here\n",
    "        pca_ho = pca_pipe.transform(ho)\n",
    "        \n",
    "        k = 0\n",
    "        for neighbors in ks:\n",
    "            knn = KNeighborsClassifier(neighbors)\n",
    "            \n",
    "            ## Fit on the tt data\n",
    "            knn.fit(pca_tt, y_tt)\n",
    "\n",
    "            ## Get the holdout prediction\n",
    "            pred = knn.predict(pca_ho)\n",
    "\n",
    "            pca_accs[i,j,k] = accuracy_score(y_ho, pred)\n",
    "            pca_accs2[i,j,k] = accuracy_score(y_tt, knn.predict(pca_tt))\n",
    "            \n",
    "            \n",
    "            k = k + 1\n",
    "        j = j + 1\n",
    "    i = i + 1"
   ]
  },
  {
   "cell_type": "markdown",
   "id": "1db04843",
   "metadata": {},
   "source": [
    "##### The above CV analysis with KNN takes ~10 min"
   ]
  },
  {
   "cell_type": "code",
   "execution_count": 78,
   "id": "bbe2cf40",
   "metadata": {
    "scrolled": false
   },
   "outputs": [
    {
     "name": "stdout",
     "output_type": "stream",
     "text": [
      "(17, 0)\n",
      "1\n",
      "19\n",
      "19\n",
      "(5, 18, 10)\n",
      "The pair with the highest AVG CV Accuracy was k = 1 and number of components = 19\n",
      "The highest AVG CV validation Accuracy was 0.9378278794147888\n",
      "The AVG CV training Accuracy for this pair was 1.0\n"
     ]
    }
   ],
   "source": [
    "## This code will print out the best # components - k combo for you\n",
    "## It also prints out the highest AVG CV Accuracy\n",
    "max_index = np.unravel_index(np.argmax(np.mean(pca_accs, axis=0), axis=None), \n",
    "                                       np.mean(pca_accs, axis=0).shape)\n",
    "\n",
    "print(max_index)\n",
    "print(ks[max_index[1]])\n",
    "print(comps[max_index[0]])\n",
    "print(np.round(comps[max_index[0]],2))\n",
    "print(pca_accs.shape)\n",
    "print(\"The pair with the highest AVG CV Accuracy was\",\n",
    "         \"k =\", ks[max_index[1]],\n",
    "         \"and number of components =\", np.round(comps[max_index[0]],2))\n",
    "print(\"The highest AVG CV validation Accuracy was\", np.max(np.mean(pca_accs, axis=0)))\n",
    "\n",
    "print(\"The AVG CV training Accuracy for this pair was\", np.mean(pca_accs2[:,max_index[0], max_index[1]]))\n"
   ]
  },
  {
   "cell_type": "markdown",
   "id": "9f199176",
   "metadata": {},
   "source": [
    "##### It looks like the ideal PCA dimension to reduce to was the highest we tested still"
   ]
  },
  {
   "cell_type": "markdown",
   "id": "039a4663",
   "metadata": {},
   "source": [
    "#### Let's try out some small NN's:"
   ]
  },
  {
   "cell_type": "code",
   "execution_count": 80,
   "id": "d273236d",
   "metadata": {},
   "outputs": [],
   "source": [
    "from sklearn.neural_network import MLPClassifier"
   ]
  },
  {
   "cell_type": "code",
   "execution_count": 81,
   "id": "066aeaa2",
   "metadata": {},
   "outputs": [
    {
     "data": {
      "text/plain": [
       "0.9011689691817216"
      ]
     },
     "execution_count": 81,
     "metadata": {},
     "output_type": "execute_result"
    }
   ],
   "source": [
    "mlp = MLPClassifier(hidden_layer_sizes=(5,5,),\n",
    "                    max_iter=10000)\n",
    "\n",
    "mlp.fit(X_train, y_train)\n",
    "\n",
    "accuracy_score(mlp.predict(X_test), y_test)"
   ]
  },
  {
   "cell_type": "code",
   "execution_count": 82,
   "id": "c77de129",
   "metadata": {},
   "outputs": [
    {
     "data": {
      "text/plain": [
       "0.8937300743889479"
      ]
     },
     "execution_count": 82,
     "metadata": {},
     "output_type": "execute_result"
    }
   ],
   "source": [
    "mlp = MLPClassifier(hidden_layer_sizes=(8,5,),\n",
    "                    max_iter=10000)\n",
    "\n",
    "mlp.fit(X_train, y_train)\n",
    "\n",
    "accuracy_score(mlp.predict(X_test), y_test)"
   ]
  },
  {
   "cell_type": "code",
   "execution_count": 83,
   "id": "99b7462b",
   "metadata": {},
   "outputs": [
    {
     "data": {
      "text/plain": [
       "0.9075451647183846"
      ]
     },
     "execution_count": 83,
     "metadata": {},
     "output_type": "execute_result"
    }
   ],
   "source": [
    "mlp = MLPClassifier(hidden_layer_sizes=(8,8,5,),\n",
    "                    max_iter=10000)\n",
    "\n",
    "mlp.fit(X_train, y_train)\n",
    "\n",
    "accuracy_score(mlp.predict(X_test), y_test)"
   ]
  },
  {
   "cell_type": "code",
   "execution_count": 84,
   "id": "5755a1bd",
   "metadata": {},
   "outputs": [
    {
     "data": {
      "text/plain": [
       "0.9399574920297555"
      ]
     },
     "execution_count": 84,
     "metadata": {},
     "output_type": "execute_result"
    }
   ],
   "source": [
    "mlp = MLPClassifier(hidden_layer_sizes=(100,50,5,),\n",
    "                    max_iter=10000)\n",
    "\n",
    "mlp.fit(X_train, y_train)\n",
    "\n",
    "accuracy_score(mlp.predict(X_test), y_test)"
   ]
  },
  {
   "cell_type": "code",
   "execution_count": 86,
   "id": "7725bccd",
   "metadata": {},
   "outputs": [
    {
     "name": "stderr",
     "output_type": "stream",
     "text": [
      "/home/birdsong/.local/lib/python3.11/site-packages/sklearn/neural_network/_multilayer_perceptron.py:693: UserWarning: Training interrupted by user.\n",
      "  warnings.warn(\"Training interrupted by user.\")\n"
     ]
    },
    {
     "data": {
      "text/plain": [
       "0.9516471838469713"
      ]
     },
     "execution_count": 86,
     "metadata": {},
     "output_type": "execute_result"
    }
   ],
   "source": [
    "mlp = MLPClassifier(hidden_layer_sizes=(1024,128,128,24,),\n",
    "                    max_iter=10000)\n",
    "\n",
    "mlp.fit(X_train, y_train)\n",
    "\n",
    "accuracy_score(mlp.predict(X_test), y_test)"
   ]
  },
  {
   "cell_type": "code",
   "execution_count": 105,
   "id": "9ce2b782",
   "metadata": {},
   "outputs": [
    {
     "data": {
      "text/plain": [
       "0.963336875664187"
      ]
     },
     "execution_count": 105,
     "metadata": {},
     "output_type": "execute_result"
    }
   ],
   "source": [
    "mlp = MLPClassifier(hidden_layer_sizes=(1024,128,128,128,128,24,),\n",
    "                    max_iter=10000)\n",
    "\n",
    "mlp.fit(X_train, y_train)\n",
    "\n",
    "accuracy_score(mlp.predict(X_test), y_test)"
   ]
  },
  {
   "cell_type": "code",
   "execution_count": 108,
   "id": "7e11707f",
   "metadata": {},
   "outputs": [
    {
     "data": {
      "text/plain": [
       "1.0"
      ]
     },
     "execution_count": 108,
     "metadata": {},
     "output_type": "execute_result"
    }
   ],
   "source": [
    "accuracy_score(mlp.predict(X_train), y_train)"
   ]
  },
  {
   "cell_type": "markdown",
   "id": "be6821ff",
   "metadata": {},
   "source": [
    "##### Something must be weird with the MLPClassifier if the accuracy scores are all the same."
   ]
  },
  {
   "cell_type": "markdown",
   "id": "f91350c5",
   "metadata": {},
   "source": [
    "#### Random forests with CV:"
   ]
  },
  {
   "cell_type": "code",
   "execution_count": 106,
   "id": "42afbd82",
   "metadata": {},
   "outputs": [],
   "source": [
    "from sklearn.ensemble import RandomForestClassifier"
   ]
  },
  {
   "cell_type": "code",
   "execution_count": 116,
   "id": "7afde099",
   "metadata": {},
   "outputs": [
    {
     "name": "stdout",
     "output_type": "stream",
     "text": [
      "0 0 0\n",
      "0 0 1\n",
      "0 1 0\n",
      "0 1 1\n",
      "0 2 0\n",
      "0 2 1\n",
      "0 3 0\n",
      "0 3 1\n",
      "0 4 0\n",
      "0 4 1\n",
      "0 5 0\n",
      "0 5 1\n",
      "0 6 0\n",
      "0 6 1\n",
      "0 7 0\n",
      "0 7 1\n",
      "0 8 0\n",
      "0 8 1\n",
      "0 9 0\n",
      "0 9 1\n",
      "1 0 0\n",
      "1 0 1\n",
      "1 1 0\n",
      "1 1 1\n",
      "1 2 0\n",
      "1 2 1\n",
      "1 3 0\n",
      "1 3 1\n",
      "1 4 0\n",
      "1 4 1\n",
      "1 5 0\n",
      "1 5 1\n",
      "1 6 0\n",
      "1 6 1\n",
      "1 7 0\n",
      "1 7 1\n",
      "1 8 0\n",
      "1 8 1\n",
      "1 9 0\n",
      "1 9 1\n",
      "2 0 0\n",
      "2 0 1\n",
      "2 1 0\n",
      "2 1 1\n",
      "2 2 0\n",
      "2 2 1\n",
      "2 3 0\n",
      "2 3 1\n",
      "2 4 0\n",
      "2 4 1\n",
      "2 5 0\n",
      "2 5 1\n",
      "2 6 0\n",
      "2 6 1\n",
      "2 7 0\n",
      "2 7 1\n",
      "2 8 0\n",
      "2 8 1\n",
      "2 9 0\n",
      "2 9 1\n",
      "3 0 0\n",
      "3 0 1\n",
      "3 1 0\n",
      "3 1 1\n",
      "3 2 0\n",
      "3 2 1\n",
      "3 3 0\n",
      "3 3 1\n",
      "3 4 0\n",
      "3 4 1\n",
      "3 5 0\n",
      "3 5 1\n",
      "3 6 0\n",
      "3 6 1\n",
      "3 7 0\n",
      "3 7 1\n",
      "3 8 0\n",
      "3 8 1\n",
      "3 9 0\n",
      "3 9 1\n",
      "4 0 0\n",
      "4 0 1\n",
      "4 1 0\n",
      "4 1 1\n",
      "4 2 0\n",
      "4 2 1\n",
      "4 3 0\n",
      "4 3 1\n",
      "4 4 0\n",
      "4 4 1\n",
      "4 5 0\n",
      "4 5 1\n",
      "4 6 0\n",
      "4 6 1\n",
      "4 7 0\n",
      "4 7 1\n",
      "4 8 0\n",
      "4 8 1\n",
      "4 9 0\n",
      "4 9 1\n"
     ]
    }
   ],
   "source": [
    "## note this will take a minute or so to run\n",
    "\n",
    "max_depths = range(1, 11)\n",
    "n_trees = [100,500]\n",
    "\n",
    "## Make an array of zeros that will hold the cv accuracies\n",
    "rf_accs = np.zeros((5, len(max_depths), len(n_trees)))\n",
    "rf_accs2 = np.zeros((5, len(max_depths), len(n_trees)))\n",
    "\n",
    "\n",
    "i = 0\n",
    "for train_index, test_index in kfold.split(X_train, y_train):\n",
    "    tt = X_train[train_index]\n",
    "    ho = X_train[test_index]\n",
    "    y_tt = y_train[train_index]\n",
    "    y_ho = y_train[test_index]\n",
    "    \n",
    "    ## Loop through the max_depth options\n",
    "    j = 0\n",
    "    for depth in max_depths:\n",
    "        ## Look through the number of estimators options\n",
    "        k = 0\n",
    "        for n_est in n_trees:\n",
    "            ## This will help you keep track of where the loop is\n",
    "            print(i,j,k)\n",
    "            ## Make the model object, include a random state\n",
    "            rf = RandomForestClassifier(max_depth=depth,\n",
    "                                        n_estimators=n_est,\n",
    "                                        max_samples = int(.8*len(tt)))\n",
    "            \n",
    "            ## Fit the model\n",
    "            rf.fit(tt, y_tt)\n",
    "            \n",
    "            ## predict on the holdout set\n",
    "            pred = rf.predict(ho)\n",
    "            \n",
    "            ## Record the accuracy\n",
    "            rf_accs[i,j,k] = accuracy_score(y_ho,  pred)\n",
    "            #rf_accs2[i,j,k] = accuracy_score(y_tt, rf.predict(pca_tt))\n",
    "            k = k + 1\n",
    "        j = j + 1\n",
    "    i = i + 1"
   ]
  },
  {
   "cell_type": "code",
   "execution_count": 118,
   "id": "2d5f750a",
   "metadata": {},
   "outputs": [
    {
     "name": "stdout",
     "output_type": "stream",
     "text": [
      "10 500\n"
     ]
    }
   ],
   "source": [
    "## This gives you the optimal depth and number of trees\n",
    "max_index = np.unravel_index(np.argmax(np.mean(rf_accs, axis=0), axis=None), \n",
    "                                       np.mean(rf_accs, axis=0).shape)\n",
    "\n",
    "\n",
    "print(max_depths[max_index[0]],n_trees[max_index[1]])"
   ]
  },
  {
   "cell_type": "code",
   "execution_count": 121,
   "id": "68d9c6d0",
   "metadata": {},
   "outputs": [
    {
     "data": {
      "text/plain": [
       "0.8618710797624043"
      ]
     },
     "execution_count": 121,
     "metadata": {},
     "output_type": "execute_result"
    }
   ],
   "source": [
    "## What is the best avg cv accuracy? (Note here we only tried it out for 100 classifiers, hence the index of 0 below)\n",
    "np.mean(rf_accs, axis = 0)[max_depths[max_index[0]]-1, 0]"
   ]
  },
  {
   "cell_type": "code",
   "execution_count": 122,
   "id": "5e7fb004",
   "metadata": {},
   "outputs": [
    {
     "data": {
      "text/plain": [
       "0.8656220616084772"
      ]
     },
     "execution_count": 122,
     "metadata": {},
     "output_type": "execute_result"
    }
   ],
   "source": [
    "np.mean(rf_accs, axis = 0)[max_depths[max_index[0]]-1, 1]"
   ]
  },
  {
   "cell_type": "markdown",
   "id": "245f0da3",
   "metadata": {},
   "source": [
    "#### Bayes Classifiers:"
   ]
  },
  {
   "cell_type": "code",
   "execution_count": 109,
   "id": "7d1b41b9",
   "metadata": {},
   "outputs": [],
   "source": [
    "from sklearn.naive_bayes import GaussianNB\n",
    "from sklearn.discriminant_analysis import LinearDiscriminantAnalysis, QuadraticDiscriminantAnalysis"
   ]
  },
  {
   "cell_type": "code",
   "execution_count": null,
   "id": "6a097a93",
   "metadata": {},
   "outputs": [],
   "source": []
  },
  {
   "cell_type": "code",
   "execution_count": 110,
   "id": "65d3a6df",
   "metadata": {},
   "outputs": [
    {
     "name": "stderr",
     "output_type": "stream",
     "text": [
      "/home/birdsong/.local/lib/python3.11/site-packages/sklearn/discriminant_analysis.py:926: UserWarning: Variables are collinear\n",
      "  warnings.warn(\"Variables are collinear\")\n",
      "/home/birdsong/.local/lib/python3.11/site-packages/sklearn/discriminant_analysis.py:926: UserWarning: Variables are collinear\n",
      "  warnings.warn(\"Variables are collinear\")\n",
      "/home/birdsong/.local/lib/python3.11/site-packages/sklearn/discriminant_analysis.py:926: UserWarning: Variables are collinear\n",
      "  warnings.warn(\"Variables are collinear\")\n",
      "/home/birdsong/.local/lib/python3.11/site-packages/sklearn/discriminant_analysis.py:926: UserWarning: Variables are collinear\n",
      "  warnings.warn(\"Variables are collinear\")\n",
      "/home/birdsong/.local/lib/python3.11/site-packages/sklearn/discriminant_analysis.py:926: UserWarning: Variables are collinear\n",
      "  warnings.warn(\"Variables are collinear\")\n"
     ]
    }
   ],
   "source": [
    "## Make a holder for the accuracies\n",
    "bayes_accs = np.zeros((5,3))\n",
    "\n",
    "\n",
    "i = 0\n",
    "for train_index, test_index in kfold.split(X_train, y_train):\n",
    "    tt = X_train[train_index]\n",
    "    ho = X_train[test_index]\n",
    "    y_tt = y_train[train_index]\n",
    "    y_ho = y_train[test_index]\n",
    "    \n",
    "    ## Linear Discriminant Analysis\n",
    "    lda = LinearDiscriminantAnalysis()\n",
    "    \n",
    "    lda.fit(tt, y_tt)\n",
    "    lda_pred = lda.predict(ho)\n",
    "    \n",
    "    ## Records the accuracies\n",
    "    bayes_accs[i, 0] = accuracy_score(y_ho,\n",
    "                                      lda_pred)\n",
    "    \n",
    "    ## Quadratic Discriminant Analysis\n",
    "    qda = QuadraticDiscriminantAnalysis()\n",
    "    \n",
    "    qda.fit(tt,y_tt)\n",
    "    \n",
    "    qda_pred = qda.predict(ho)\n",
    "    \n",
    "    ## Records the accuracies\n",
    "    bayes_accs[i, 1] = accuracy_score(y_ho,\n",
    "                                      qda_pred)\n",
    "    \n",
    "    \n",
    "    ## Gaussian Naive Bayes\n",
    "    nb = GaussianNB()\n",
    "    \n",
    "    nb.fit(tt, y_tt)\n",
    "    nb_pred = nb.predict(ho)\n",
    "    \n",
    "    ## Records the accuracies\n",
    "    bayes_accs[i, 2] = accuracy_score(y_ho,\n",
    "                                      nb_pred)\n",
    "    \n",
    "    i = i + 1"
   ]
  },
  {
   "cell_type": "code",
   "execution_count": 111,
   "id": "3329c2af",
   "metadata": {},
   "outputs": [
    {
     "data": {
      "text/plain": [
       "array([0.93266994, 0.60099385, 0.88306449])"
      ]
     },
     "execution_count": 111,
     "metadata": {},
     "output_type": "execute_result"
    }
   ],
   "source": [
    "## Print the Average CV Accuracies here\n",
    "np.mean(bayes_accs, axis=0)"
   ]
  },
  {
   "cell_type": "code",
   "execution_count": 112,
   "id": "bd8ea898",
   "metadata": {},
   "outputs": [
    {
     "data": {
      "text/plain": [
       "array([[0.9254571 , 0.60056259, 0.87435537],\n",
       "       [0.9456165 , 0.60759494, 0.89404594],\n",
       "       [0.93014534, 0.5827473 , 0.87763713],\n",
       "       [0.93717768, 0.61462729, 0.88654477],\n",
       "       [0.9249531 , 0.59943715, 0.88273921]])"
      ]
     },
     "execution_count": 112,
     "metadata": {},
     "output_type": "execute_result"
    }
   ],
   "source": [
    "bayes_accs"
   ]
  },
  {
   "cell_type": "markdown",
   "id": "d638c810",
   "metadata": {},
   "source": [
    "#### Log Reg with PCA first:"
   ]
  },
  {
   "cell_type": "code",
   "execution_count": 113,
   "id": "2c6b0b1b",
   "metadata": {},
   "outputs": [],
   "source": [
    "import time"
   ]
  },
  {
   "cell_type": "code",
   "execution_count": 114,
   "id": "04bf9183",
   "metadata": {},
   "outputs": [
    {
     "name": "stdout",
     "output_type": "stream",
     "text": [
      "CV Split 0\n",
      "num comps = 2\n",
      "1.8617753982543945\n",
      "num comps = 3\n",
      "2.0311219692230225\n",
      "num comps = 4\n",
      "1.9511528015136719\n",
      "num comps = 5\n",
      "2.0948646068573\n",
      "num comps = 6\n",
      "2.1181423664093018\n",
      "num comps = 7\n",
      "2.237854242324829\n",
      "num comps = 8\n",
      "2.1872377395629883\n",
      "num comps = 9\n",
      "2.0633089542388916\n",
      "num comps = 10\n",
      "2.345895290374756\n",
      "num comps = 11\n",
      "2.3353073596954346\n",
      "num comps = 12\n",
      "2.016392230987549\n",
      "num comps = 13\n",
      "1.959672451019287\n",
      "num comps = 14\n",
      "1.9969921112060547\n",
      "num comps = 15\n",
      "2.2473320960998535\n",
      "num comps = 16\n",
      "2.2394721508026123\n",
      "num comps = 17\n",
      "2.053900957107544\n",
      "num comps = 18\n",
      "2.774163246154785\n",
      "num comps = 19\n",
      "2.4493117332458496\n",
      "num comps = 20\n",
      "2.2285797595977783\n",
      "num comps = 21\n",
      "2.643915891647339\n",
      "num comps = 22\n",
      "2.3413989543914795\n",
      "num comps = 23\n",
      "2.080789804458618\n",
      "num comps = 24\n",
      "2.018993377685547\n",
      "num comps = 25\n",
      "2.1512701511383057\n",
      "num comps = 26\n",
      "2.152663469314575\n",
      "num comps = 27\n",
      "2.0492873191833496\n",
      "num comps = 28\n",
      "2.0650150775909424\n",
      "num comps = 29\n",
      "2.378972053527832\n",
      "CV Split 1\n",
      "num comps = 2\n",
      "1.9828529357910156\n",
      "num comps = 3\n",
      "1.903393268585205\n",
      "num comps = 4\n",
      "1.9647059440612793\n",
      "num comps = 5\n",
      "2.0020945072174072\n",
      "num comps = 6\n",
      "2.1142795085906982\n",
      "num comps = 7\n",
      "2.095259428024292\n",
      "num comps = 8\n",
      "1.927643060684204\n",
      "num comps = 9\n",
      "2.1555399894714355\n",
      "num comps = 10\n",
      "2.0450639724731445\n",
      "num comps = 11\n",
      "2.12398099899292\n",
      "num comps = 12\n",
      "2.1358320713043213\n",
      "num comps = 13\n",
      "2.447979211807251\n",
      "num comps = 14\n",
      "2.244523763656616\n",
      "num comps = 15\n",
      "1.9984838962554932\n",
      "num comps = 16\n",
      "2.4904236793518066\n",
      "num comps = 17\n",
      "2.2097837924957275\n",
      "num comps = 18\n",
      "2.338522434234619\n",
      "num comps = 19\n",
      "2.0860774517059326\n",
      "num comps = 20\n",
      "2.0729167461395264\n",
      "num comps = 21\n",
      "2.534965991973877\n",
      "num comps = 22\n",
      "2.155910015106201\n",
      "num comps = 23\n",
      "2.5666768550872803\n",
      "num comps = 24\n",
      "2.019549608230591\n",
      "num comps = 25\n",
      "2.309607982635498\n",
      "num comps = 26\n",
      "2.562987804412842\n",
      "num comps = 27\n",
      "2.531437635421753\n",
      "num comps = 28\n",
      "2.5121498107910156\n",
      "num comps = 29\n",
      "2.0929975509643555\n",
      "CV Split 2\n",
      "num comps = 2\n",
      "2.075784921646118\n",
      "num comps = 3\n",
      "1.9826183319091797\n",
      "num comps = 4\n",
      "2.08927583694458\n",
      "num comps = 5\n",
      "2.125330686569214\n",
      "num comps = 6\n",
      "2.107109546661377\n",
      "num comps = 7\n",
      "2.16430401802063\n",
      "num comps = 8\n",
      "2.2660202980041504\n",
      "num comps = 9\n",
      "1.9834184646606445\n",
      "num comps = 10\n",
      "2.090132474899292\n",
      "num comps = 11\n",
      "2.0137970447540283\n",
      "num comps = 12\n",
      "2.4774177074432373\n",
      "num comps = 13\n",
      "2.206437587738037\n",
      "num comps = 14\n",
      "2.233391523361206\n",
      "num comps = 15\n",
      "2.317251682281494\n",
      "num comps = 16\n",
      "2.378546953201294\n",
      "num comps = 17\n",
      "2.1153323650360107\n",
      "num comps = 18\n",
      "2.3902602195739746\n",
      "num comps = 19\n",
      "2.0443758964538574\n",
      "num comps = 20\n",
      "2.0288443565368652\n",
      "num comps = 21\n",
      "2.0433526039123535\n",
      "num comps = 22\n",
      "2.2053611278533936\n",
      "num comps = 23\n",
      "2.0866498947143555\n",
      "num comps = 24\n",
      "2.508516550064087\n",
      "num comps = 25\n",
      "2.023345470428467\n",
      "num comps = 26\n",
      "2.095486640930176\n",
      "num comps = 27\n",
      "2.3075129985809326\n",
      "num comps = 28\n",
      "2.168806552886963\n",
      "num comps = 29\n",
      "2.1400649547576904\n",
      "CV Split 3\n",
      "num comps = 2\n",
      "2.2216453552246094\n",
      "num comps = 3\n",
      "2.064244270324707\n",
      "num comps = 4\n",
      "2.112516403198242\n",
      "num comps = 5\n",
      "2.1640851497650146\n",
      "num comps = 6\n",
      "2.2000417709350586\n",
      "num comps = 7\n",
      "2.193814277648926\n",
      "num comps = 8\n",
      "2.1017935276031494\n",
      "num comps = 9\n",
      "1.9945929050445557\n",
      "num comps = 10\n",
      "2.1356165409088135\n",
      "num comps = 11\n",
      "2.285184144973755\n",
      "num comps = 12\n",
      "2.2708327770233154\n",
      "num comps = 13\n",
      "2.5045626163482666\n",
      "num comps = 14\n",
      "2.333977222442627\n",
      "num comps = 15\n",
      "2.1220030784606934\n",
      "num comps = 16\n",
      "2.460265874862671\n",
      "num comps = 17\n",
      "2.459686517715454\n",
      "num comps = 18\n",
      "2.6862261295318604\n",
      "num comps = 19\n",
      "2.0631983280181885\n",
      "num comps = 20\n",
      "2.597813129425049\n",
      "num comps = 21\n",
      "2.4127848148345947\n",
      "num comps = 22\n",
      "2.5833988189697266\n",
      "num comps = 23\n",
      "2.7019989490509033\n",
      "num comps = 24\n",
      "2.522278070449829\n",
      "num comps = 25\n",
      "2.2593913078308105\n",
      "num comps = 26\n",
      "2.1281261444091797\n",
      "num comps = 27\n",
      "2.6203176975250244\n",
      "num comps = 28\n",
      "2.2968297004699707\n",
      "num comps = 29\n",
      "2.646937608718872\n",
      "CV Split 4\n",
      "num comps = 2\n",
      "2.047783136367798\n",
      "num comps = 3\n",
      "2.032926082611084\n",
      "num comps = 4\n",
      "2.1533851623535156\n",
      "num comps = 5\n",
      "2.1058082580566406\n",
      "num comps = 6\n",
      "2.2027547359466553\n",
      "num comps = 7\n",
      "2.191654920578003\n",
      "num comps = 8\n",
      "2.3221583366394043\n",
      "num comps = 9\n",
      "2.4967410564422607\n",
      "num comps = 10\n",
      "2.2680959701538086\n",
      "num comps = 11\n",
      "1.961792230606079\n",
      "num comps = 12\n",
      "2.5408079624176025\n",
      "num comps = 13\n",
      "2.4054083824157715\n",
      "num comps = 14\n",
      "2.451615810394287\n",
      "num comps = 15\n",
      "2.439119577407837\n",
      "num comps = 16\n",
      "2.262005090713501\n",
      "num comps = 17\n",
      "2.3274009227752686\n",
      "num comps = 18\n",
      "2.4256644248962402\n",
      "num comps = 19\n",
      "2.361117124557495\n",
      "num comps = 20\n",
      "2.101809501647949\n",
      "num comps = 21\n",
      "1.9824950695037842\n",
      "num comps = 22\n",
      "2.0100209712982178\n",
      "num comps = 23\n",
      "2.081389904022217\n",
      "num comps = 24\n",
      "2.1845288276672363\n",
      "num comps = 25\n",
      "2.397670030593872\n",
      "num comps = 26\n",
      "2.4181087017059326\n",
      "num comps = 27\n",
      "2.5090389251708984\n",
      "num comps = 28\n",
      "2.4661412239074707\n",
      "num comps = 29\n",
      "2.821042537689209\n",
      "Total time: 312.7746889591217\n"
     ]
    }
   ],
   "source": [
    "st = time.time()\n",
    "dimst = time.time()\n",
    "\n",
    "comps = range(2,30)\n",
    "n_splits = 5\n",
    "## Makes a 3-D array of to record the accuracies in\n",
    "log_reg_pca_accs = np.zeros((n_splits, len(comps)))\n",
    "log_reg_pca_accs2 = np.zeros((n_splits, len(comps)))\n",
    "\n",
    "i = 0\n",
    "for train_index, test_index in kfold.split(X_train, y_train):\n",
    "    ## Keeps track of the cross validation split you are on\n",
    "    ## This loop can be a little long\n",
    "    print(\"CV Split\", i)\n",
    "    tt = X_train[train_index]\n",
    "    ho = X_train[test_index]\n",
    "    y_tt = y_train[train_index]\n",
    "    y_ho = y_train[test_index]\n",
    "    \n",
    "    j = 0\n",
    "    for n_comps in comps:\n",
    "        dimst = time.time()\n",
    "        ## Make the PCA pipeline here\n",
    "        pca_pipe = Pipeline([('scale', StandardScaler()),\n",
    "                            ('pca', PCA(n_comps))])\n",
    "        \n",
    "        ## Fit and then get the PCA transformed tt data here\n",
    "        pca_tt = pca_pipe.fit_transform(tt)\n",
    "        \n",
    "        ## Get the transformed holdout data here\n",
    "        pca_ho = pca_pipe.transform(ho)\n",
    "        \n",
    "        #Logistic Regression here:\n",
    "        log_reg = LogisticRegression(max_iter=10000,\n",
    "                                     penalty=None)\n",
    "        \n",
    "        log_reg.fit(tt, y_tt)\n",
    "        \n",
    "        pred = log_reg.predict((ho))\n",
    "        \n",
    "        log_reg_pca_accs[i,j] = accuracy_score(y_ho, pred)\n",
    "        log_reg_pca_accs2[i,j] = accuracy_score(y_tt, log_reg.predict(tt))\n",
    "        \n",
    "        j = j + 1\n",
    "        dimtime = time.time() - dimst\n",
    "        print(\"num comps = %s\" % n_comps)\n",
    "        print(dimtime)\n",
    "    i = i + 1\n",
    "et = time.time() - st\n",
    "print(\"Total time: %s\" % et)"
   ]
  },
  {
   "cell_type": "code",
   "execution_count": 117,
   "id": "f805f97f",
   "metadata": {},
   "outputs": [
    {
     "name": "stdout",
     "output_type": "stream",
     "text": [
      "0\n",
      "The case with the highest AVG CV Accuracy had number of components = 2\n",
      "The highest AVG CV Accuracy was 0.940641170773928\n",
      "The corresponding AVG CV Accuracy was 1.0\n"
     ]
    }
   ],
   "source": [
    "## This code will print out the best # components - k combo for you\n",
    "## It also prints out the highest AVG CV Accuracy\n",
    "max_index = np.argmax(np.mean(log_reg_pca_accs, axis=0))\n",
    "\n",
    "print(max_index)\n",
    "\n",
    "print(\"The case with the highest AVG CV Accuracy had number of components =\", np.round(comps[max_index],2))\n",
    "print(\"The highest AVG CV Accuracy was\", np.max(np.mean(log_reg_pca_accs, axis=0)))\n",
    "\n",
    "print(\"The corresponding AVG CV Accuracy was\", np.mean(log_reg_pca_accs2[:,max_index]))"
   ]
  },
  {
   "cell_type": "code",
   "execution_count": null,
   "id": "07cb0cd0",
   "metadata": {},
   "outputs": [],
   "source": [
    "\n"
   ]
  }
 ],
 "metadata": {
  "kernelspec": {
   "display_name": "Python 3 (ipykernel)",
   "language": "python",
   "name": "python3"
  },
  "language_info": {
   "codemirror_mode": {
    "name": "ipython",
    "version": 3
   },
   "file_extension": ".py",
   "mimetype": "text/x-python",
   "name": "python",
   "nbconvert_exporter": "python",
   "pygments_lexer": "ipython3",
   "version": "3.11.3"
  }
 },
 "nbformat": 4,
 "nbformat_minor": 5
}
