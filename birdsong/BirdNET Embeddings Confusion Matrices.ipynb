{
 "cells": [
  {
   "cell_type": "markdown",
   "id": "917d562f",
   "metadata": {},
   "source": [
    "# BirdNET Embeddings Classifier Confusion Matrices"
   ]
  },
  {
   "cell_type": "markdown",
   "id": "48d7b85e",
   "metadata": {},
   "source": [
    "#### In this notebook, we load the preprocessed BirdNET embeddings dataset and explore using Logistic Regression, SVM, and KNN.\n",
    "\n",
    "This notebook makes heavy use of the module classifiers.py, which contains a custom class for applying various classification algorithms to a given dataset, as well as organizing statistical outputs. "
   ]
  },
  {
   "cell_type": "code",
   "execution_count": 1,
   "id": "3d288972",
   "metadata": {},
   "outputs": [
    {
     "name": "stderr",
     "output_type": "stream",
     "text": [
      "2023-06-02 14:54:49.864914: I tensorflow/core/platform/cpu_feature_guard.cc:182] This TensorFlow binary is optimized to use available CPU instructions in performance-critical operations.\n",
      "To enable the following instructions: SSE3 SSE4.1 SSE4.2 AVX AVX2 FMA, in other operations, rebuild TensorFlow with the appropriate compiler flags.\n",
      "/usr/lib/python3.11/site-packages/h5py/__init__.py:36: UserWarning: h5py is running against HDF5 1.14.1 when it was built against 1.14.0, this may cause problems\n",
      "  _warn((\"h5py is running against HDF5 {0} when it was built against {1}, \"\n"
     ]
    }
   ],
   "source": [
    "## Import necessary modules\n",
    "import numpy as np\n",
    "import os\n",
    "import librosa\n",
    "import keras\n",
    "import pandas as pd\n",
    "import time\n",
    "import math\n",
    "from IPython.display import clear_output\n",
    "\n",
    "import matplotlib.pyplot as plt\n",
    "\n",
    "from sklearn.linear_model import LogisticRegression\n",
    "from sklearn.preprocessing import StandardScaler\n",
    "from sklearn.model_selection import train_test_split\n",
    "from sklearn.pipeline import Pipeline\n",
    "from sklearn.metrics import accuracy_score"
   ]
  },
  {
   "cell_type": "code",
   "execution_count": 2,
   "id": "ae89459e",
   "metadata": {},
   "outputs": [],
   "source": [
    "## Import the classifiers.py module\n",
    "import classifiers"
   ]
  },
  {
   "cell_type": "code",
   "execution_count": 3,
   "id": "a446fa7c",
   "metadata": {},
   "outputs": [
    {
     "data": {
      "text/plain": [
       "(3648, 1024)"
      ]
     },
     "execution_count": 3,
     "metadata": {},
     "output_type": "execute_result"
    }
   ],
   "source": [
    "# run the BirdNET model on the data to get embeddings\n",
    "#embeddings = embedding_model.predict(np.array(samples))\n",
    "\n",
    "#np.savetxt('/home/birdsong/processed_data/embeddings.csv', embeddings, delimiter = ',')\n",
    "\n",
    "## Convert typesnp to a list of integer labels encoding the species and the songtype:\n",
    "#labels = []\n",
    "#for sp in typesnp:\n",
    " #   labels.append(int(sp.split('s')[-1].split('-')[0] + sp.split('s')[-1].split('-')[1]))\n",
    "#labels = np.array(labels)\n",
    "# labels.shape\n",
    "# np.savetxt('/home/birdsong/processed_data/emb_labels.csv', labels)\n",
    "\n",
    "\n",
    "\n",
    "\n",
    "# Load embeddings from file\n",
    "embeddings = np.loadtxt('/home/birdsong/processed_data/embeddings.csv', delimiter = ',')\n",
    "embeddings.shape"
   ]
  },
  {
   "cell_type": "code",
   "execution_count": 5,
   "id": "fee408ce",
   "metadata": {},
   "outputs": [
    {
     "data": {
      "text/plain": [
       "(3648,)"
      ]
     },
     "execution_count": 5,
     "metadata": {},
     "output_type": "execute_result"
    }
   ],
   "source": [
    "#load labels from file\n",
    "labels = np.loadtxt('/home/birdsong/processed_data/emb_labels.csv')\n",
    "labels.shape"
   ]
  },
  {
   "cell_type": "code",
   "execution_count": 6,
   "id": "48a61833",
   "metadata": {},
   "outputs": [
    {
     "data": {
      "text/plain": [
       "(26,)"
      ]
     },
     "execution_count": 6,
     "metadata": {},
     "output_type": "execute_result"
    }
   ],
   "source": [
    "# load frog and bird unique types\n",
    "frog_bird_labels = np.loadtxt('/home/birdsong/processed_data/frog_bird_labels.csv')\n",
    "frog_bird_labels.shape"
   ]
  },
  {
   "cell_type": "code",
   "execution_count": 7,
   "id": "d6b55e67",
   "metadata": {},
   "outputs": [],
   "source": [
    "# do a train-test-split with 15% test data. We don't use the function from sklearn here because we want\n",
    "# to make sure that differently shifted versions of the same recording (see augmentation above) don't end up\n",
    "# in both the train and test data, and inflate the accuracy score\n",
    "rng = np.random.default_rng(2023)\n",
    "\n",
    "n_test = int(1216*0.15)\n",
    "indices = rng.permutation(1216)\n",
    "test_indices = indices[:n_test]\n",
    "train_indices = indices[n_test:]\n",
    "X_test = embeddings.reshape(-1,3,1024)[test_indices][:,0,:]\n",
    "X_train = embeddings.reshape(-1,3,1024)[train_indices].reshape(-1,1024)\n",
    "y_test = labels.reshape(-1,3)[test_indices][:,0]\n",
    "y_train = labels.reshape(-1,3)[train_indices].reshape(-1)"
   ]
  },
  {
   "cell_type": "code",
   "execution_count": 8,
   "id": "9ddb7f36",
   "metadata": {},
   "outputs": [
    {
     "name": "stdout",
     "output_type": "stream",
     "text": [
      "C = 0.000045\n"
     ]
    }
   ],
   "source": [
    "# logistic regression on BirdNET embeddings with augmentation, trying different levels of regularization\n",
    "scaler = StandardScaler().fit(X_train)\n",
    "X_train_scaled = scaler.transform(X_train)\n",
    "X_test_scaled = scaler.transform(X_test)\n",
    "\n",
    "train_accuracies = []\n",
    "test_accuracies = []\n",
    "\n",
    "for alpha in np.linspace(0.0,10.0,50):\n",
    "    clear_output(wait = True)\n",
    "    print('C = %.6f' % math.exp(-alpha))\n",
    "\n",
    "    reg = LogisticRegression(max_iter=1000, penalty = 'l2', C=math.exp(-alpha)).fit(X_train_scaled, y_train)\n",
    "    y_train_pred = reg.predict(X_train_scaled)\n",
    "    y_test_pred = reg.predict(X_test_scaled)\n",
    "    train_accuracies.append(np.count_nonzero(y_train == y_train_pred) / len(y_train))\n",
    "    test_accuracies.append(np.count_nonzero(y_test == y_test_pred) / len(y_test))\n",
    "\n",
    "C_values = np.exp(-np.linspace(0.0,10.0,50))"
   ]
  },
  {
   "cell_type": "code",
   "execution_count": 9,
   "id": "7f537d88",
   "metadata": {},
   "outputs": [
    {
     "data": {
      "image/png": "[encoded data removed]",
      "text/plain": [
       "<Figure size 640x480 with 1 Axes>"
      ]
     },
     "metadata": {},
     "output_type": "display_data"
    }
   ],
   "source": [
    "plt.xscale('log')\n",
    "plt.plot(C_values,train_accuracies)\n",
    "plt.plot(C_values,test_accuracies)\n",
    "plt.ylim((0.6,1.0))\n",
    "plt.grid()\n",
    "plt.show()"
   ]
  },
  {
   "cell_type": "code",
   "execution_count": 10,
   "id": "d7dae8b5",
   "metadata": {},
   "outputs": [],
   "source": [
    "emb = classifiers.Classifier(input_X = embeddings,\n",
    "                             input_y = labels,\n",
    "                             ordered_labels = frog_bird_labels)\n",
    "\n",
    "emb.t_t_split()"
   ]
  },
  {
   "cell_type": "code",
   "execution_count": 11,
   "id": "33899f0c",
   "metadata": {},
   "outputs": [
    {
     "name": "stdout",
     "output_type": "stream",
     "text": [
      "The Logistic Regression test accuracy was 0.9178832116788321\n",
      "The Logistic Regression train accuracy was 1.0\n",
      "You can load and save the confusion matrix from the pickled dictionary under the key 'log_reg_mat'\n",
      "---------------------\n",
      "CV Split: 0\n",
      "CV Split: 1\n",
      "CV Split: 2\n",
      "CV Split: 3\n",
      "CV Split: 4\n",
      "Elapsed Time: 3.3230295181274414\n",
      "The highest CV Logistic Regression test accuracy was 0.95\n",
      "The highest CV Logistic Regression train accuracy was 1.0\n",
      "---------------------\n"
     ]
    }
   ],
   "source": [
    "emb.log_reg(CV = False)\n",
    "print(\"---------------------\")\n",
    "\n",
    "emb.log_reg(CV = True)\n",
    "print(\"---------------------\")"
   ]
  },
  {
   "cell_type": "markdown",
   "id": "da642ffb",
   "metadata": {},
   "source": [
    "##### Try Log Reg with some regularization based on the chart above:"
   ]
  },
  {
   "cell_type": "code",
   "execution_count": 32,
   "id": "f89b5ea6",
   "metadata": {},
   "outputs": [
    {
     "name": "stdout",
     "output_type": "stream",
     "text": [
      "The Logistic Regression test accuracy was 0.8248175182481752\n",
      "The Logistic Regression train accuracy was 0.9251612903225807\n",
      "You can load and save the confusion matrix from the pickled dictionary under the key 'log_reg_mat'\n",
      "---------------------\n",
      "CV Split: 0\n",
      "CV Split: 1\n",
      "CV Split: 2\n",
      "CV Split: 3\n",
      "CV Split: 4\n",
      "Elapsed Time: 9.608655214309692\n",
      "The highest CV Logistic Regression test accuracy was 0.85\n",
      "The highest CV Logistic Regression train accuracy was 0.9266129032258065\n",
      "---------------------\n"
     ]
    }
   ],
   "source": [
    "emb.log_reg(CV = False,\n",
    "            penalty='l2',\n",
    "            C_val=0.002)\n",
    "print(\"---------------------\")\n",
    "\n",
    "emb.log_reg(CV = True,\n",
    "            penalty='l2',\n",
    "            C_val=0.002)\n",
    "print(\"---------------------\")"
   ]
  },
  {
   "cell_type": "code",
   "execution_count": 13,
   "id": "88dedb06",
   "metadata": {},
   "outputs": [
    {
     "name": "stdout",
     "output_type": "stream",
     "text": [
      "The SVM test accuracy was 0.8978102189781022\n",
      "The SVM train accuracy was 0.9854838709677419\n",
      "You can load and save the confusion matrix from the pickled dictionary under the key 'svm_mat'\n",
      "---------------------\n",
      "CV Split: 0\n",
      "CV Split: 1\n",
      "CV Split: 2\n",
      "CV Split: 3\n",
      "CV Split: 4\n",
      "Elapsed Time: 27.57935357093811\n",
      "The highest CV SVM test accuracy was 0.9274193548387096\n",
      "The highest CV SVM train accuracy was 0.9822580645161291\n",
      "---------------------\n"
     ]
    }
   ],
   "source": [
    "emb.svm(CV = False)\n",
    "print(\"---------------------\")\n",
    "emb.svm(CV = True)\n",
    "print(\"---------------------\")"
   ]
  },
  {
   "cell_type": "code",
   "execution_count": 14,
   "id": "68cb30b5",
   "metadata": {},
   "outputs": [
    {
     "name": "stdout",
     "output_type": "stream",
     "text": [
      "The KNN test accuracy was 0.9635036496350365\n",
      "The KNN train accuracy was 1.0\n",
      "You can load and save the confusion matrix from the pickled dictionary under the key 'knn_mat'\n",
      "---------------------\n",
      "CV Split: 0\n",
      "CV Split: 1\n",
      "CV Split: 2\n",
      "CV Split: 3\n",
      "CV Split: 4\n",
      "Elapsed Time: 16.074874877929688\n",
      "The k with the highest AVG CV Accuracy was k = 1\n",
      "The highest CV KNN test accuracy was 0.6951612903225806\n",
      "The corresponding CV KNN train accuracy was 0.7434677419354839\n",
      "---------------------\n"
     ]
    }
   ],
   "source": [
    "emb.knn(CV = False,\n",
    "        n_neighbors = 1)\n",
    "print(\"---------------------\")\n",
    "\n",
    "emb.knn(CV = True,\n",
    "        max_n_neighbors = 20)\n",
    "print(\"---------------------\")"
   ]
  },
  {
   "cell_type": "code",
   "execution_count": 15,
   "id": "b6463625",
   "metadata": {},
   "outputs": [],
   "source": [
    "emb.save_statistics('/home/birdsong/classifier_stats/emb_stats')\n",
    "classifiers.save_object_to_pickle(emb, '/home/birdsong/classifier_stats/emb')"
   ]
  },
  {
   "cell_type": "code",
   "execution_count": 16,
   "id": "2198bca8",
   "metadata": {},
   "outputs": [],
   "source": [
    "np.savetxt('/home/birdsong/classifier_stats/emb_log_reg_CM_mat.csv', emb.log_reg_mat, delimiter = ',')\n",
    "np.savetxt('/home/birdsong/classifier_stats/emb_svm_CM_mat.csv', emb.svm_mat, delimiter = ',')\n",
    "np.savetxt('/home/birdsong/classifier_stats/emb_knn_CM_mat.csv', emb.knn_mat, delimiter = ',')"
   ]
  },
  {
   "cell_type": "markdown",
   "id": "24263a0f",
   "metadata": {},
   "source": [
    "#### These models seem to be overfitting a fair bit with the default train test split, so let's try out the same process, but load in our custom train test split from above that respects the data augmentation."
   ]
  },
  {
   "cell_type": "code",
   "execution_count": 28,
   "id": "40cad372",
   "metadata": {},
   "outputs": [],
   "source": [
    "emb_aug = classifiers.Classifier(input_X = embeddings,\n",
    "                             input_y = labels,\n",
    "                             ordered_labels = frog_bird_labels)"
   ]
  },
  {
   "cell_type": "code",
   "execution_count": 30,
   "id": "6f597862",
   "metadata": {},
   "outputs": [],
   "source": [
    "emb_aug.X_train = X_train\n",
    "emb_aug.X_test = X_test\n",
    "emb_aug.y_train = y_train\n",
    "emb_aug.y_test = y_test"
   ]
  },
  {
   "cell_type": "code",
   "execution_count": 34,
   "id": "b4ea646a",
   "metadata": {},
   "outputs": [
    {
     "name": "stdout",
     "output_type": "stream",
     "text": [
      "The Logistic Regression test accuracy was 0.7252747252747253\n",
      "The Logistic Regression train accuracy was 0.8862024500322373\n",
      "You can load and save the confusion matrix from the pickled dictionary under the key 'log_reg_mat'\n",
      "---------------------\n",
      "CV Split: 0\n",
      "CV Split: 1\n",
      "CV Split: 2\n",
      "CV Split: 3\n",
      "CV Split: 4\n",
      "Elapsed Time: 8.69735598564148\n",
      "The highest CV Logistic Regression test accuracy was 0.8209677419354838\n",
      "The highest CV Logistic Regression train accuracy was 0.8803384367445608\n",
      "---------------------\n"
     ]
    }
   ],
   "source": [
    "emb_aug.log_reg(CV = False,\n",
    "            penalty='l2',\n",
    "            C_val=0.001)\n",
    "print(\"---------------------\")\n",
    "\n",
    "emb_aug.log_reg(CV = True,\n",
    "            penalty='l2',\n",
    "            C_val=0.001)\n",
    "print(\"---------------------\")"
   ]
  },
  {
   "cell_type": "code",
   "execution_count": 35,
   "id": "19e0fd33",
   "metadata": {},
   "outputs": [
    {
     "name": "stdout",
     "output_type": "stream",
     "text": [
      "The SVM test accuracy was 0.7252747252747253\n",
      "The SVM train accuracy was 0.9887169568020632\n",
      "You can load and save the confusion matrix from the pickled dictionary under the key 'svm_mat'\n",
      "---------------------\n",
      "CV Split: 0\n",
      "CV Split: 1\n",
      "CV Split: 2\n",
      "CV Split: 3\n",
      "CV Split: 4\n",
      "Elapsed Time: 27.822956323623657\n",
      "The highest CV SVM test accuracy was 0.9338709677419355\n",
      "The highest CV SVM train accuracy was 0.9866989117291415\n",
      "---------------------\n"
     ]
    }
   ],
   "source": [
    "emb_aug.svm(CV = False)\n",
    "print(\"---------------------\")\n",
    "emb_aug.svm(CV = True)\n",
    "print(\"---------------------\")"
   ]
  },
  {
   "cell_type": "code",
   "execution_count": 36,
   "id": "f88e0c71",
   "metadata": {},
   "outputs": [
    {
     "name": "stdout",
     "output_type": "stream",
     "text": [
      "The KNN test accuracy was 0.6153846153846154\n",
      "The KNN train accuracy was 1.0\n",
      "You can load and save the confusion matrix from the pickled dictionary under the key 'knn_mat'\n",
      "---------------------\n",
      "CV Split: 0\n",
      "CV Split: 1\n",
      "CV Split: 2\n",
      "CV Split: 3\n",
      "CV Split: 4\n",
      "Elapsed Time: 40.95282173156738\n",
      "The k with the highest AVG CV Accuracy was k = 1\n",
      "The highest CV KNN test accuracy was 0.6921391096566412\n",
      "The corresponding CV KNN train accuracy was 0.7405691799172502\n",
      "---------------------\n"
     ]
    }
   ],
   "source": [
    "emb_aug.knn(CV = False,\n",
    "        n_neighbors = 1)\n",
    "print(\"---------------------\")\n",
    "\n",
    "emb_aug.knn(CV = True,\n",
    "        max_n_neighbors = 20)\n",
    "print(\"---------------------\")"
   ]
  },
  {
   "cell_type": "code",
   "execution_count": 37,
   "id": "8ee31c5f",
   "metadata": {},
   "outputs": [],
   "source": [
    "emb_aug.save_statistics('/home/birdsong/classifier_stats/emb_aug_stats')\n",
    "classifiers.save_object_to_pickle(emb_aug, '/home/birdsong/classifier_stats/emb_aug')"
   ]
  },
  {
   "cell_type": "code",
   "execution_count": 38,
   "id": "b9f4523e",
   "metadata": {},
   "outputs": [],
   "source": [
    "np.savetxt('/home/birdsong/classifier_stats/emb_aug_log_reg_CM_mat.csv', emb_aug.log_reg_mat, delimiter = ',')\n",
    "np.savetxt('/home/birdsong/classifier_stats/emb_aug_svm_CM_mat.csv', emb_aug.svm_mat, delimiter = ',')\n",
    "np.savetxt('/home/birdsong/classifier_stats/emb_aug_knn_CM_mat.csv', emb_aug.knn_mat, delimiter = ',')"
   ]
  }
 ],
 "metadata": {
  "kernelspec": {
   "display_name": "Python 3 (ipykernel)",
   "language": "python",
   "name": "python3"
  },
  "language_info": {
   "codemirror_mode": {
    "name": "ipython",
    "version": 3
   },
   "file_extension": ".py",
   "mimetype": "text/x-python",
   "name": "python",
   "nbconvert_exporter": "python",
   "pygments_lexer": "ipython3",
   "version": "3.11.3"
  }
 },
 "nbformat": 4,
 "nbformat_minor": 5
}
