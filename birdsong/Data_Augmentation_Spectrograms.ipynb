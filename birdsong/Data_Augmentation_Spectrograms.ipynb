{
 "cells": [
  {
   "cell_type": "code",
   "execution_count": null,
   "id": "cc328282",
   "metadata": {},
   "outputs": [],
   "source": [
    "import numpy as np # linear algebra\n",
    "import pandas as pd # data processing, CSV file I/O (e.g. pd.read_csv)\n",
    "import tensorflow as tf\n",
    "import os\n",
    "import matplotlib\n",
    "import matplotlib.pyplot as plt\n",
    "import librosa\n",
    "import soundfile\n",
    "import keras\n",
    "import librosa.display\n",
    "import IPython.display as ipd"
   ]
  },
  {
   "cell_type": "code",
   "execution_count": null,
   "id": "ab7ccdb5",
   "metadata": {},
   "outputs": [],
   "source": [
    "df = pd.read_csv('/home/birdsong/kaggle-data/train_tp.csv')\n",
    "df = df.sample(frac=1).reset_index(drop=True) #permutes the rows of the dataframe\n"
   ]
  },
  {
   "cell_type": "code",
   "execution_count": null,
   "id": "a4e5bc5a",
   "metadata": {},
   "outputs": [],
   "source": [
    "df1 = df[0:int(len(df)*0.8)] #0.8 vs 0.2 train-test split\n",
    "df1_test = df[int(len(df)*0.8)::]"
   ]
  },
  {
   "cell_type": "markdown",
   "id": "187f24e3",
   "metadata": {},
   "source": [
    "## Augment train data by including multiple random 2-second clips containing bird song (8 times the train data)"
   ]
  },
  {
   "cell_type": "code",
   "execution_count": null,
   "id": "36f59f6e",
   "metadata": {},
   "outputs": [],
   "source": [
    "#load train_tp.csv into a pandas df\n",
    "#loop through each row of the df (supposedly inefficient, but seems necessary here)\n",
    "spectrograms = []\n",
    "probabilities = []\n",
    "labels = []\n",
    "labels_fp_are_tp = []\n",
    "frog_or_bird = []\n",
    "for i in range(8):\n",
    "    for index, row in df1.iterrows():\n",
    "        infile =  '/home/birdsong/kaggle-data/train/%s.flac' %row['recording_id']\n",
    "        outfile = '/home/birdsong/processed_data/augmented_clips_tp/%d.flac' %index \n",
    "        sig, sr = librosa.load(infile)\n",
    "        tmin = row['t_min']*sr \n",
    "        tmax = row['t_max']*sr\n",
    "    #os.system('clear')\n",
    "    #print(index)\n",
    "        clip_length = 2 #No. of seconds\n",
    "        l = len(sig)\n",
    "        if tmax - tmin < clip_length*sr:\n",
    "            if  tmax - clip_length*sr > 0:\n",
    "                upper = np.random.randint(tmax, min(tmin + clip_length*sr,l-1)) \n",
    "                lower = upper - clip_length*sr\n",
    "            else:\n",
    "                lower = np.random.randint(0, tmin)\n",
    "                upper = lower + clip_length*sr\n",
    "        else:\n",
    "        #pick first clip_length seconds\n",
    "        #lower = 0 \n",
    "        #upper = clip_length*sr\n",
    "        #or pick middle segment\n",
    "            a = np.random.uniform(low = 0.1, high = 0.9)\n",
    "            lower = round(tmin + (tmax - tmin - clip_length*sr)*a)\n",
    "            upper = round(tmax - (tmax - tmin - clip_length*sr)*(1-a))\n",
    "        sig = sig[lower:upper]\n",
    "        #create mel spectrograms and labels\n",
    "        mel_spectrogram = librosa.feature.melspectrogram(y = sig, sr=sr, n_fft=2048, hop_length=1024, n_mels=64,  fmin= 64, fmax = 16384)\n",
    "        log_mel_spectrogram = librosa.power_to_db(mel_spectrogram)\n",
    "        #print(log_mel_spectrogram.shape)\n",
    "        spectrograms.append(log_mel_spectrogram.reshape(64*44))\n",
    "        prob = np.zeros(24, dtype = np.float16)\n",
    "        prob[row[\"species_id\"]] = 1\n",
    "        labels.append(str(row[\"species_id\"])+str(row[\"songtype_id\"]))\n",
    "        labels_fp_are_tp.append(str(row[\"species_id\"])+str(row[\"songtype_id\"]))\n",
    "        if row[\"species_id\"] in [0, 1, 2, 3, 4, 8, 12, 14, 16, 18, 21]:\n",
    "            frog_or_bird.append('frog')\n",
    "        else:\n",
    "            frog_or_bird.append('bird')\n",
    "        \n",
    "        probabilities.append(prob)\n",
    "        print(i,index)\n",
    "    #Uncomment to use moving average filter\n",
    "    #window = 70\n",
    "    #post_sig = np.asarray([(sum(sig[y:y+window])/window) for y in range(len(sig)-window)])\n",
    "    \n",
    "    # uncomment to actually write files\n",
    "    #soundfile.write(outfile, sig, sr)\n"
   ]
  },
  {
   "cell_type": "code",
   "execution_count": null,
   "id": "9cd5dda8",
   "metadata": {},
   "outputs": [],
   "source": [
    "X_train = np.array(spectrograms)\n",
    "p_train = np.array(probabilities)\n",
    "y_train = np.array(labels)"
   ]
  },
  {
   "cell_type": "code",
   "execution_count": null,
   "id": "85505fd8",
   "metadata": {},
   "outputs": [],
   "source": [
    "pd.DataFrame(X_train).to_csv('/home/birdsong/processed_data/augmented_clips_tp/spectrograms_hidef.csv')\n",
    "pd.DataFrame(y_train).to_csv('/home/birdsong/processed_data/augmented_clips_tp/labels.csv')\n",
    "pd.DataFrame(p_train).to_csv('/home/birdsong/processed_data/augmented_clips_tp/probabilities.csv')\n",
    "pd.DataFrame(np.array(frog_or_bird)).to_csv('/home/birdsong/processed_data/augmented_clips_tp/frog_or_bird.csv')\n"
   ]
  },
  {
   "cell_type": "code",
   "execution_count": null,
   "id": "b4a5cffa",
   "metadata": {},
   "outputs": [],
   "source": [
    "X_train.shape"
   ]
  },
  {
   "cell_type": "code",
   "execution_count": null,
   "id": "0e5aaa42",
   "metadata": {},
   "outputs": [],
   "source": [
    "y_train.shape"
   ]
  },
  {
   "cell_type": "markdown",
   "id": "1739a359",
   "metadata": {},
   "source": [
    "## Create spectrograms for test data"
   ]
  },
  {
   "cell_type": "code",
   "execution_count": null,
   "id": "0ea0ad0c",
   "metadata": {},
   "outputs": [],
   "source": [
    "test_spectrograms = []\n",
    "test_probabilities = []\n",
    "test_labels = []\n",
    "test_labels_fp_are_tp = []\n",
    "test_frog_or_bird = []\n",
    "\n",
    "for index, row in df2.iterrows():\n",
    "    infile =  '/home/birdsong/kaggle-data/train/%s.flac' %row['recording_id']\n",
    "    outfile = '/home/birdsong/processed_data/augmented_clips_tp/%d.flac' %index \n",
    "    sig, sr = librosa.load(infile)\n",
    "    tmin = row['t_min']*sr \n",
    "    tmax = row['t_max']*sr\n",
    "    #os.system('clear')\n",
    "    #print(index)\n",
    "    clip_length = 2 #No. of seconds\n",
    "    l = len(sig)\n",
    "    if tmax - tmin < clip_length*sr:\n",
    "        if  tmax - clip_length*sr > 0:\n",
    "            upper = np.random.randint(tmax, min(tmin + clip_length*sr,l-1)) \n",
    "            lower = upper - clip_length*sr\n",
    "        else:\n",
    "            lower = np.random.randint(0, tmin)\n",
    "            upper = lower + clip_length*sr\n",
    "    else:\n",
    "        #pick first clip_length seconds\n",
    "        #lower = 0 \n",
    "        #upper = clip_length*sr\n",
    "        #or pick middle segment\n",
    "        a = np.random.uniform(low = 0.1, high = 0.9)\n",
    "        lower = round(tmin + (tmax - tmin - clip_length*sr)*a)\n",
    "        upper = round(tmax - (tmax - tmin - clip_length*sr)*(1-a))\n",
    "    sig = sig[lower:upper]\n",
    "    \n",
    "    mel_spectrogram = librosa.feature.melspectrogram(y = sig, sr=sr, n_fft=2048, hop_length=1024, n_mels=64,  fmin= 64, fmax = 16384)\n",
    "    log_mel_spectrogram = librosa.power_to_db(mel_spectrogram)\n",
    "    #print(log_mel_spectrogram.shape)\n",
    "    test_spectrograms.append(log_mel_spectrogram.reshape(64*44))\n",
    "    prob = np.zeros(24, dtype = np.float16)\n",
    "    prob[row[\"species_id\"]] = 1\n",
    "    test_labels.append(str(row[\"species_id\"])+str(row[\"songtype_id\"]))\n",
    "    test_labels_fp_are_tp.append(str(row[\"species_id\"])+str(row[\"songtype_id\"]))\n",
    "    if row[\"species_id\"] in [0, 1, 2, 3, 4, 8, 12, 14, 16, 18, 21]:\n",
    "        test_frog_or_bird.append('frog')\n",
    "    else:\n",
    "        test_frog_or_bird.append('bird')\n",
    "        \n",
    "    test_probabilities.append(prob)\n",
    "    #print(i,index)"
   ]
  },
  {
   "cell_type": "markdown",
   "id": "f48a3cee",
   "metadata": {},
   "source": [
    "## Run Classifier"
   ]
  },
  {
   "cell_type": "code",
   "execution_count": null,
   "id": "82201986",
   "metadata": {},
   "outputs": [],
   "source": [
    "y_new = np.array(frog_or_bird)"
   ]
  },
  {
   "cell_type": "code",
   "execution_count": null,
   "id": "c53cfe5d",
   "metadata": {},
   "outputs": [],
   "source": [
    "X_test = np.array(test_spectrograms)\n",
    "p_test = np.array(test_probabilities)\n",
    "y_test = np.array(test_labels)\n",
    "y_new_test = np.array(test_frog_or_bird)"
   ]
  },
  {
   "cell_type": "code",
   "execution_count": null,
   "id": "3591fc33",
   "metadata": {},
   "outputs": [],
   "source": [
    "import sklearn\n",
    "from sklearn.model_selection import cross_val_score\n",
    "from sklearn.model_selection import RepeatedStratifiedKFold\n",
    "from sklearn.linear_model import LogisticRegression\n",
    "from sklearn.preprocessing import StandardScaler\n",
    "from sklearn.model_selection import train_test_split\n",
    "from sklearn.pipeline import Pipeline\n",
    "#X_train, X_test, y_train, y_test = train_test_split(X, y_frog_or_bird, test_size = 0.25, random_state = 792)\n",
    "\n",
    "scaler = StandardScaler().fit(X_train)\n",
    "X_train_scaled = scaler.transform(X_train)\n",
    "#reg = LogisticRegression(max_iter=1000).fit(X_train_scaled, y_train)\n",
    "\n",
    "\n",
    "reg = LogisticRegression(\n",
    "    penalty=\"l1\", solver = \"saga\", random_state = 25\n",
    ").fit(X_train_scaled, y_train)"
   ]
  },
  {
   "cell_type": "code",
   "execution_count": null,
   "id": "7a1abeb7",
   "metadata": {},
   "outputs": [],
   "source": [
    "X_test_scaled = scaler.transform(X_test)\n",
    "y_pred = reg.predict(X_test_scaled)"
   ]
  },
  {
   "cell_type": "code",
   "execution_count": null,
   "id": "f2f5165a",
   "metadata": {},
   "outputs": [],
   "source": [
    "correct = np.count_nonzero(y_test == y_pred)\n",
    "all = len(y_test)\n",
    "correct, all, correct/all"
   ]
  },
  {
   "cell_type": "code",
   "execution_count": null,
   "id": "1d69e949",
   "metadata": {},
   "outputs": [],
   "source": [
    "y_train_pred = reg.predict(X_train_scaled)"
   ]
  },
  {
   "cell_type": "code",
   "execution_count": null,
   "id": "9856afe4",
   "metadata": {},
   "outputs": [],
   "source": [
    "correct = np.count_nonzero(y_train == y_train_pred)\n",
    "all = len(y_train)\n",
    "correct, all, correct/all"
   ]
  },
  {
   "cell_type": "code",
   "execution_count": null,
   "id": "113d826e",
   "metadata": {},
   "outputs": [],
   "source": []
  }
 ],
 "metadata": {
  "kernelspec": {
   "display_name": "Python 3 (ipykernel)",
   "language": "python",
   "name": "python3"
  },
  "language_info": {
   "codemirror_mode": {
    "name": "ipython",
    "version": 3
   },
   "file_extension": ".py",
   "mimetype": "text/x-python",
   "name": "python",
   "nbconvert_exporter": "python",
   "pygments_lexer": "ipython3",
   "version": "3.11.3"
  }
 },
 "nbformat": 4,
 "nbformat_minor": 5
}
