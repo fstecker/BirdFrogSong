{
 "cells": [
  {
   "cell_type": "markdown",
   "id": "917d562f",
   "metadata": {},
   "source": [
    "# BirdNET Spectrogram Data and Logistic Regression"
   ]
  },
  {
   "cell_type": "markdown",
   "id": "48d7b85e",
   "metadata": {},
   "source": [
    "#### In this notebook, we load the preprocessed BirdNET spectrogram dataset and explore using Logistic Regression."
   ]
  },
  {
   "cell_type": "code",
   "execution_count": 1,
   "id": "3d288972",
   "metadata": {},
   "outputs": [
    {
     "name": "stderr",
     "output_type": "stream",
     "text": [
      "2023-06-01 14:31:00.755501: I tensorflow/core/platform/cpu_feature_guard.cc:182] This TensorFlow binary is optimized to use available CPU instructions in performance-critical operations.\n",
      "To enable the following instructions: SSE3 SSE4.1 SSE4.2 AVX AVX2 FMA, in other operations, rebuild TensorFlow with the appropriate compiler flags.\n",
      "/usr/lib/python3.11/site-packages/h5py/__init__.py:36: UserWarning: h5py is running against HDF5 1.14.1 when it was built against 1.14.0, this may cause problems\n",
      "  _warn((\"h5py is running against HDF5 {0} when it was built against {1}, \"\n"
     ]
    }
   ],
   "source": [
    "## Import necessary modules\n",
    "import numpy as np\n",
    "import os\n",
    "import librosa\n",
    "import keras\n",
    "import pandas as pd\n",
    "import time\n",
    "\n",
    "import matplotlib.pyplot as plt\n",
    "\n",
    "from sklearn.linear_model import LogisticRegression\n",
    "from sklearn.preprocessing import StandardScaler\n",
    "from sklearn.model_selection import train_test_split\n",
    "from sklearn.pipeline import Pipeline\n",
    "from sklearn.metrics import accuracy_score"
   ]
  },
  {
   "cell_type": "code",
   "execution_count": 2,
   "id": "ae89459e",
   "metadata": {},
   "outputs": [],
   "source": [
    "import classifiers"
   ]
  },
  {
   "cell_type": "code",
   "execution_count": 3,
   "id": "976bc053",
   "metadata": {},
   "outputs": [],
   "source": [
    "spectrograms = pd.read_csv('/home/birdsong/processed_data/spectrograms/spectrograms.csv').values[:,1:]\n",
    "labels = pd.read_csv('/home/birdsong/processed_data/spectrograms/labels_fp_are_tp.csv').values[:,1]\n",
    "#labels = np.concatenate((labels_tp, np.full(7781, -1, dtype = int)))\n",
    "probabilities = pd.read_csv('/home/birdsong/processed_data/spectrograms/probabilities.csv').values"
   ]
  },
  {
   "cell_type": "code",
   "execution_count": 4,
   "id": "78d9a83a",
   "metadata": {},
   "outputs": [
    {
     "name": "stdout",
     "output_type": "stream",
     "text": [
      "(8997, 2816)\n",
      "(8997,)\n",
      "(8997, 25)\n"
     ]
    }
   ],
   "source": [
    "print(spectrograms.shape)\n",
    "print(labels.shape)\n",
    "print(probabilities.shape)"
   ]
  },
  {
   "cell_type": "code",
   "execution_count": 5,
   "id": "d543bfdd",
   "metadata": {},
   "outputs": [
    {
     "name": "stdout",
     "output_type": "stream",
     "text": [
      "(1216, 2816)\n",
      "(7781, 2816)\n"
     ]
    }
   ],
   "source": [
    "## Only consider the true-positive data\n",
    "spectrograms_tp = spectrograms[:1216]\n",
    "print(spectrograms_tp.shape)\n",
    "\n",
    "## Only consider the false-positive data\n",
    "spectrograms_fp = spectrograms[1216:]\n",
    "print(spectrograms_fp.shape)"
   ]
  },
  {
   "cell_type": "code",
   "execution_count": 6,
   "id": "04059f5e",
   "metadata": {},
   "outputs": [],
   "source": [
    "arr0 = np.zeros(7781, dtype=int)\n",
    "arr1 = np.ones(1216, dtype=int)\n",
    "tp_or_fp = np.concatenate((arr1, arr0))"
   ]
  },
  {
   "cell_type": "code",
   "execution_count": 7,
   "id": "ac911f55",
   "metadata": {},
   "outputs": [],
   "source": [
    "cls_tp = classifiers.Classifier(input_X = spectrograms_tp,\n",
    "                                input_y = labels[:1216])\n",
    "\n",
    "cls_tp.t_t_split()"
   ]
  },
  {
   "cell_type": "code",
   "execution_count": 8,
   "id": "16eab320",
   "metadata": {
    "scrolled": false
   },
   "outputs": [
    {
     "name": "stdout",
     "output_type": "stream",
     "text": [
      "The Logistic Regression test accuracy was 0.6284153005464481\n",
      "The Logistic Regression train accuracy was 1.0\n",
      "---------------------\n",
      "CV Split: 0\n",
      "CV Split: 1\n",
      "CV Split: 2\n",
      "CV Split: 3\n",
      "CV Split: 4\n",
      "Elapsed Time: 5.393780946731567\n",
      "The highest CV Logistic Regression test accuracy was 0.6376811594202898\n",
      "The highest CV Logistic Regression train accuracy was 1.0\n",
      "---------------------\n",
      "The SVM test accuracy was 0.4972677595628415\n",
      "The SVM train accuracy was 0.8238141335914811\n",
      "---------------------\n",
      "CV Split: 0\n",
      "CV Split: 1\n",
      "CV Split: 2\n",
      "CV Split: 3\n",
      "CV Split: 4\n",
      "Elapsed Time: 9.415290594100952\n",
      "The highest CV SVM test accuracy was 0.5048543689320388\n",
      "The highest CV SVM train accuracy was 0.8305084745762712\n",
      "---------------------\n",
      "CV Split: 0\n",
      "CV Split: 1\n",
      "CV Split: 2\n",
      "CV Split: 3\n",
      "CV Split: 4\n",
      "Elapsed Time: 9.870601892471313\n",
      "The k with the highest AVG CV Accuracy was k = 1\n",
      "The highest CV KNN test accuracy was 0.3514094085643263\n",
      "The corresponding CV KNN train accuracy was 0.4498988438037072\n",
      "---------------------\n",
      "---------------------\n",
      "Projecting to dimension =  100\n",
      "The Logistic Regression test accuracy was 0.5628415300546448\n",
      "The Logistic Regression train accuracy was 0.9990319457889641\n",
      "---------------------\n",
      "Projecting to dimension =  200\n",
      "The Logistic Regression test accuracy was 0.6174863387978142\n",
      "The Logistic Regression train accuracy was 1.0\n",
      "---------------------\n",
      "Projecting to dimension =  300\n",
      "The Logistic Regression test accuracy was 0.5846994535519126\n",
      "The Logistic Regression train accuracy was 1.0\n",
      "---------------------\n",
      "Projecting to dimension =  400\n",
      "The Logistic Regression test accuracy was 0.6120218579234973\n",
      "The Logistic Regression train accuracy was 1.0\n",
      "---------------------\n",
      "Projecting to dimension =  500\n",
      "The Logistic Regression test accuracy was 0.644808743169399\n",
      "The Logistic Regression train accuracy was 1.0\n",
      "---------------------\n",
      "Projecting to dimension =  600\n",
      "The Logistic Regression test accuracy was 0.644808743169399\n",
      "The Logistic Regression train accuracy was 1.0\n",
      "---------------------\n",
      "Projecting to dimension =  700\n",
      "The Logistic Regression test accuracy was 0.6229508196721312\n",
      "The Logistic Regression train accuracy was 1.0\n",
      "---------------------\n",
      "Projecting to dimension =  800\n",
      "The Logistic Regression test accuracy was 0.6229508196721312\n",
      "The Logistic Regression train accuracy was 1.0\n",
      "---------------------\n",
      "Projecting to dimension =  900\n",
      "The Logistic Regression test accuracy was 0.6174863387978142\n",
      "The Logistic Regression train accuracy was 1.0\n",
      "---------------------\n"
     ]
    }
   ],
   "source": [
    "cls_tp.log_reg(CV = False)\n",
    "print(\"---------------------\")\n",
    "\n",
    "cls_tp.log_reg(CV = True)\n",
    "print(\"---------------------\")\n",
    "\n",
    "cls_tp.svm(CV = False)\n",
    "print(\"---------------------\")\n",
    "cls_tp.svm(CV = True)\n",
    "print(\"---------------------\")\n",
    "cls_tp.knn(CV = True,\n",
    "        max_n_neighbors = 30)\n",
    "print(\"---------------------\")\n",
    "\n",
    "cls_tp.save_statistics('/home/birdsong/classifier_stats/cls_tp_stats')\n",
    "classifiers.save_object_to_pickle(cls_tp, '/home/birdsong/classifier_stats/cls_tp')\n",
    "\n",
    "#cls_tp.log_reg_PCA(PCA_dims = [i for i in range(2, 50)])\n",
    "print(\"---------------------\")\n",
    "\n",
    "cls_tp.save_statistics('/home/birdsong/classifier_stats/cls_tp_stats')\n",
    "classifiers.save_object_to_pickle(cls_tp, '/home/birdsong/classifier_stats/cls_tp')\n",
    "\n",
    "for dim in range(100, 901, 100):\n",
    "    cls_tp.log_reg_PCA(CV = False, PCA_dim = dim)\n",
    "    print(\"---------------------\")\n",
    "    \n",
    "cls_tp.save_statistics('/home/birdsong/classifier_stats/cls_tp_stats')\n",
    "classifiers.save_object_to_pickle(cls_tp, '/home/birdsong/classifier_stats/cls_tp')\n",
    "\n",
    "#cls_tp.rand_forest(n_trees = [500])"
   ]
  },
  {
   "cell_type": "code",
   "execution_count": 9,
   "id": "b6463625",
   "metadata": {},
   "outputs": [],
   "source": [
    "cls_tp.save_statistics('/home/birdsong/classifier_stats/cls_tp_stats')\n",
    "classifiers.save_object_to_pickle(cls_tp, '/home/birdsong/classifier_stats/cls_tp')"
   ]
  },
  {
   "cell_type": "code",
   "execution_count": 10,
   "id": "0b6c908a",
   "metadata": {},
   "outputs": [],
   "source": [
    "cls_tp_fp = classifiers.Classifier(input_X = spectrograms,\n",
    "                                   input_y = labels, \n",
    "                                   stratify_var = tp_or_fp.reshape(-1,1))\n",
    "cls_tp_fp.t_t_split()"
   ]
  },
  {
   "cell_type": "code",
   "execution_count": 11,
   "id": "24f899d2",
   "metadata": {},
   "outputs": [
    {
     "name": "stdout",
     "output_type": "stream",
     "text": [
      "The Logistic Regression test accuracy was 0.2777777777777778\n",
      "The Logistic Regression train accuracy was 1.0\n",
      "---------------------\n",
      "CV Split: 0\n",
      "CV Split: 1\n",
      "CV Split: 2\n",
      "CV Split: 3\n",
      "CV Split: 4\n",
      "Elapsed Time: 84.08681750297546\n",
      "The highest CV Logistic Regression test accuracy was 0.26405228758169935\n",
      "The highest CV Logistic Regression train accuracy was 1.0\n",
      "---------------------\n",
      "The SVM test accuracy was 0.2651851851851852\n",
      "The SVM train accuracy was 0.49758075062115864\n",
      "---------------------\n",
      "CV Split: 0\n",
      "CV Split: 1\n",
      "CV Split: 2\n",
      "CV Split: 3\n",
      "CV Split: 4\n",
      "Elapsed Time: 575.3640592098236\n",
      "The highest CV SVM test accuracy was 0.26880313930673644\n",
      "The highest CV SVM train accuracy was 0.500817260542661\n",
      "---------------------\n",
      "CV Split: 0\n",
      "CV Split: 1\n",
      "CV Split: 2\n",
      "CV Split: 3\n",
      "CV Split: 4\n",
      "Elapsed Time: 155.1172456741333\n",
      "The k with the highest AVG CV Accuracy was k = 1\n",
      "The highest CV KNN test accuracy was 0.15561745256201456\n",
      "The corresponding CV KNN train accuracy was 0.23110388077578214\n",
      "---------------------\n",
      "Projecting to dimension =  100\n",
      "The Logistic Regression test accuracy was 0.30962962962962964\n",
      "The Logistic Regression train accuracy was 0.3957107362364326\n",
      "---------------------\n",
      "Projecting to dimension =  200\n",
      "The Logistic Regression test accuracy was 0.3118518518518518\n",
      "The Logistic Regression train accuracy was 0.48986530665620504\n",
      "---------------------\n",
      "Projecting to dimension =  300\n",
      "The Logistic Regression test accuracy was 0.2985185185185185\n",
      "The Logistic Regression train accuracy was 0.560088923760952\n",
      "---------------------\n",
      "Projecting to dimension =  400\n",
      "The Logistic Regression test accuracy was 0.27185185185185184\n",
      "The Logistic Regression train accuracy was 0.630443311102393\n",
      "---------------------\n",
      "Projecting to dimension =  500\n",
      "The Logistic Regression test accuracy was 0.2525925925925926\n",
      "The Logistic Regression train accuracy was 0.7264286648358833\n",
      "---------------------\n",
      "Projecting to dimension =  600\n",
      "The Logistic Regression test accuracy was 0.25333333333333335\n",
      "The Logistic Regression train accuracy was 0.8362756636589512\n",
      "---------------------\n",
      "Projecting to dimension =  700\n",
      "The Logistic Regression test accuracy was 0.2518518518518518\n",
      "The Logistic Regression train accuracy was 0.9353995030731006\n",
      "---------------------\n",
      "Projecting to dimension =  800\n",
      "The Logistic Regression test accuracy was 0.24592592592592594\n",
      "The Logistic Regression train accuracy was 0.9874460572773637\n",
      "---------------------\n",
      "Projecting to dimension =  900\n",
      "The Logistic Regression test accuracy was 0.26\n",
      "The Logistic Regression train accuracy was 0.9993461488165294\n",
      "---------------------\n",
      "---------------------\n"
     ]
    }
   ],
   "source": [
    "cls_tp_fp.log_reg(CV = False)\n",
    "print(\"---------------------\")\n",
    "\n",
    "cls_tp_fp.log_reg(CV = True)\n",
    "print(\"---------------------\")\n",
    "\n",
    "cls_tp_fp.svm(CV = False)\n",
    "print(\"---------------------\")\n",
    "cls_tp_fp.svm(CV = True)\n",
    "print(\"---------------------\")\n",
    "cls_tp_fp.knn(CV = True,\n",
    "        max_n_neighbors = 30)\n",
    "print(\"---------------------\")\n",
    "\n",
    "cls_tp_fp.save_statistics('/home/birdsong/classifier_stats/cls_tp_fp_stats')\n",
    "classifiers.save_object_to_pickle(cls_tp_fp, '/home/birdsong/classifier_stats/cls_tp_fp')\n",
    "\n",
    "for dim in range(100, 901, 100):\n",
    "    cls_tp_fp.log_reg_PCA(CV = False, PCA_dim = dim)\n",
    "    print(\"---------------------\")\n",
    "\n",
    "cls_tp_fp.save_statistics('/home/birdsong/classifier_stats/cls_tp_fp_stats')\n",
    "classifiers.save_object_to_pickle(cls_tp_fp, '/home/birdsong/classifier_stats/cls_tp_fp')\n",
    "    \n",
    "#cls_tp_fp.log_reg_PCA(PCA_dims = [i for i in range(2, 50)])\n",
    "print(\"---------------------\")\n",
    "\n",
    "cls_tp_fp.save_statistics('/home/birdsong/classifier_stats/cls_tp_fp_stats')\n",
    "classifiers.save_object_to_pickle(cls_tp_fp, '/home/birdsong/classifier_stats/cls_tp_fp')\n",
    "\n",
    "#cls_tp_fp.rand_forest(n_trees = [500])"
   ]
  },
  {
   "cell_type": "code",
   "execution_count": 12,
   "id": "46d1d859",
   "metadata": {},
   "outputs": [],
   "source": [
    "cls_tp_fp.save_statistics('/home/birdsong/classifier_stats/cls_tp_fp_stats')\n",
    "classifiers.save_object_to_pickle(cls_tp_fp, '/home/birdsong/classifier_stats/cls_tp_fp')"
   ]
  },
  {
   "cell_type": "code",
   "execution_count": 13,
   "id": "f4046209",
   "metadata": {},
   "outputs": [],
   "source": [
    "cls_tp_fp_unstrat = classifiers.Classifier(input_X = spectrograms,\n",
    "                                   input_y = labels)\n",
    "cls_tp_fp_unstrat.t_t_split()"
   ]
  },
  {
   "cell_type": "code",
   "execution_count": 14,
   "id": "348f3996",
   "metadata": {},
   "outputs": [
    {
     "name": "stdout",
     "output_type": "stream",
     "text": [
      "The Logistic Regression test accuracy was 0.2777777777777778\n",
      "The Logistic Regression train accuracy was 1.0\n",
      "---------------------\n",
      "CV Split: 0\n",
      "CV Split: 1\n",
      "CV Split: 2\n",
      "CV Split: 3\n",
      "CV Split: 4\n",
      "Elapsed Time: 83.47860145568848\n",
      "The highest CV Logistic Regression test accuracy was 0.26405228758169935\n",
      "The highest CV Logistic Regression train accuracy was 1.0\n",
      "---------------------\n"
     ]
    },
    {
     "ename": "KeyboardInterrupt",
     "evalue": "",
     "output_type": "error",
     "traceback": [
      "\u001b[0;31m---------------------------------------------------------------------------\u001b[0m",
      "\u001b[0;31mKeyboardInterrupt\u001b[0m                         Traceback (most recent call last)",
      "Cell \u001b[0;32mIn[14], line 7\u001b[0m\n\u001b[1;32m      4\u001b[0m cls_tp_fp_unstrat\u001b[38;5;241m.\u001b[39mlog_reg(CV \u001b[38;5;241m=\u001b[39m \u001b[38;5;28;01mTrue\u001b[39;00m)\n\u001b[1;32m      5\u001b[0m \u001b[38;5;28mprint\u001b[39m(\u001b[38;5;124m\"\u001b[39m\u001b[38;5;124m---------------------\u001b[39m\u001b[38;5;124m\"\u001b[39m)\n\u001b[0;32m----> 7\u001b[0m \u001b[43mcls_tp_fp_unstrat\u001b[49m\u001b[38;5;241;43m.\u001b[39;49m\u001b[43msvm\u001b[49m\u001b[43m(\u001b[49m\u001b[43mCV\u001b[49m\u001b[43m \u001b[49m\u001b[38;5;241;43m=\u001b[39;49m\u001b[43m \u001b[49m\u001b[38;5;28;43;01mFalse\u001b[39;49;00m\u001b[43m)\u001b[49m\n\u001b[1;32m      8\u001b[0m \u001b[38;5;28mprint\u001b[39m(\u001b[38;5;124m\"\u001b[39m\u001b[38;5;124m---------------------\u001b[39m\u001b[38;5;124m\"\u001b[39m)\n\u001b[1;32m      9\u001b[0m cls_tp_fp_unstrat\u001b[38;5;241m.\u001b[39msvm(CV \u001b[38;5;241m=\u001b[39m \u001b[38;5;28;01mTrue\u001b[39;00m)\n",
      "File \u001b[0;32m~/classifiers.py:210\u001b[0m, in \u001b[0;36mClassifier.svm\u001b[0;34m(self, CV)\u001b[0m\n\u001b[1;32m    206\u001b[0m svm \u001b[38;5;241m=\u001b[39m SVC()\u001b[38;5;241m.\u001b[39mfit(\u001b[38;5;28mself\u001b[39m\u001b[38;5;241m.\u001b[39mX_train_scaled, \u001b[38;5;28mself\u001b[39m\u001b[38;5;241m.\u001b[39my_train)\n\u001b[1;32m    208\u001b[0m \u001b[38;5;28mself\u001b[39m\u001b[38;5;241m.\u001b[39mX_test_scaled \u001b[38;5;241m=\u001b[39m scaler\u001b[38;5;241m.\u001b[39mtransform(\u001b[38;5;28mself\u001b[39m\u001b[38;5;241m.\u001b[39mX_test)\n\u001b[0;32m--> 210\u001b[0m \u001b[38;5;28mself\u001b[39m\u001b[38;5;241m.\u001b[39my_svm_test_pred \u001b[38;5;241m=\u001b[39m \u001b[43msvm\u001b[49m\u001b[38;5;241;43m.\u001b[39;49m\u001b[43mpredict\u001b[49m\u001b[43m(\u001b[49m\u001b[38;5;28;43mself\u001b[39;49m\u001b[38;5;241;43m.\u001b[39;49m\u001b[43mX_test_scaled\u001b[49m\u001b[43m)\u001b[49m\n\u001b[1;32m    211\u001b[0m \u001b[38;5;28mself\u001b[39m\u001b[38;5;241m.\u001b[39my_svm_train_pred \u001b[38;5;241m=\u001b[39m svm\u001b[38;5;241m.\u001b[39mpredict(\u001b[38;5;28mself\u001b[39m\u001b[38;5;241m.\u001b[39mX_train_scaled)\n\u001b[1;32m    213\u001b[0m \u001b[38;5;28mself\u001b[39m\u001b[38;5;241m.\u001b[39msvm_test_acc \u001b[38;5;241m=\u001b[39m accuracy_score(\u001b[38;5;28mself\u001b[39m\u001b[38;5;241m.\u001b[39my_test, \u001b[38;5;28mself\u001b[39m\u001b[38;5;241m.\u001b[39my_svm_test_pred)\n",
      "File \u001b[0;32m~/.local/lib/python3.11/site-packages/sklearn/svm/_base.py:820\u001b[0m, in \u001b[0;36mBaseSVC.predict\u001b[0;34m(self, X)\u001b[0m\n\u001b[1;32m    818\u001b[0m     y \u001b[38;5;241m=\u001b[39m np\u001b[38;5;241m.\u001b[39margmax(\u001b[38;5;28mself\u001b[39m\u001b[38;5;241m.\u001b[39mdecision_function(X), axis\u001b[38;5;241m=\u001b[39m\u001b[38;5;241m1\u001b[39m)\n\u001b[1;32m    819\u001b[0m \u001b[38;5;28;01melse\u001b[39;00m:\n\u001b[0;32m--> 820\u001b[0m     y \u001b[38;5;241m=\u001b[39m \u001b[38;5;28;43msuper\u001b[39;49m\u001b[43m(\u001b[49m\u001b[43m)\u001b[49m\u001b[38;5;241;43m.\u001b[39;49m\u001b[43mpredict\u001b[49m\u001b[43m(\u001b[49m\u001b[43mX\u001b[49m\u001b[43m)\u001b[49m\n\u001b[1;32m    821\u001b[0m \u001b[38;5;28;01mreturn\u001b[39;00m \u001b[38;5;28mself\u001b[39m\u001b[38;5;241m.\u001b[39mclasses_\u001b[38;5;241m.\u001b[39mtake(np\u001b[38;5;241m.\u001b[39masarray(y, dtype\u001b[38;5;241m=\u001b[39mnp\u001b[38;5;241m.\u001b[39mintp))\n",
      "File \u001b[0;32m~/.local/lib/python3.11/site-packages/sklearn/svm/_base.py:435\u001b[0m, in \u001b[0;36mBaseLibSVM.predict\u001b[0;34m(self, X)\u001b[0m\n\u001b[1;32m    433\u001b[0m X \u001b[38;5;241m=\u001b[39m \u001b[38;5;28mself\u001b[39m\u001b[38;5;241m.\u001b[39m_validate_for_predict(X)\n\u001b[1;32m    434\u001b[0m predict \u001b[38;5;241m=\u001b[39m \u001b[38;5;28mself\u001b[39m\u001b[38;5;241m.\u001b[39m_sparse_predict \u001b[38;5;28;01mif\u001b[39;00m \u001b[38;5;28mself\u001b[39m\u001b[38;5;241m.\u001b[39m_sparse \u001b[38;5;28;01melse\u001b[39;00m \u001b[38;5;28mself\u001b[39m\u001b[38;5;241m.\u001b[39m_dense_predict\n\u001b[0;32m--> 435\u001b[0m \u001b[38;5;28;01mreturn\u001b[39;00m \u001b[43mpredict\u001b[49m\u001b[43m(\u001b[49m\u001b[43mX\u001b[49m\u001b[43m)\u001b[49m\n",
      "File \u001b[0;32m~/.local/lib/python3.11/site-packages/sklearn/svm/_base.py:454\u001b[0m, in \u001b[0;36mBaseLibSVM._dense_predict\u001b[0;34m(self, X)\u001b[0m\n\u001b[1;32m    446\u001b[0m         \u001b[38;5;28;01mraise\u001b[39;00m \u001b[38;5;167;01mValueError\u001b[39;00m(\n\u001b[1;32m    447\u001b[0m             \u001b[38;5;124m\"\u001b[39m\u001b[38;5;124mX.shape[1] = \u001b[39m\u001b[38;5;132;01m%d\u001b[39;00m\u001b[38;5;124m should be equal to \u001b[39m\u001b[38;5;132;01m%d\u001b[39;00m\u001b[38;5;124m, \u001b[39m\u001b[38;5;124m\"\u001b[39m\n\u001b[1;32m    448\u001b[0m             \u001b[38;5;124m\"\u001b[39m\u001b[38;5;124mthe number of samples at training time\u001b[39m\u001b[38;5;124m\"\u001b[39m\n\u001b[1;32m    449\u001b[0m             \u001b[38;5;241m%\u001b[39m (X\u001b[38;5;241m.\u001b[39mshape[\u001b[38;5;241m1\u001b[39m], \u001b[38;5;28mself\u001b[39m\u001b[38;5;241m.\u001b[39mshape_fit_[\u001b[38;5;241m0\u001b[39m])\n\u001b[1;32m    450\u001b[0m         )\n\u001b[1;32m    452\u001b[0m svm_type \u001b[38;5;241m=\u001b[39m LIBSVM_IMPL\u001b[38;5;241m.\u001b[39mindex(\u001b[38;5;28mself\u001b[39m\u001b[38;5;241m.\u001b[39m_impl)\n\u001b[0;32m--> 454\u001b[0m \u001b[38;5;28;01mreturn\u001b[39;00m \u001b[43mlibsvm\u001b[49m\u001b[38;5;241;43m.\u001b[39;49m\u001b[43mpredict\u001b[49m\u001b[43m(\u001b[49m\n\u001b[1;32m    455\u001b[0m \u001b[43m    \u001b[49m\u001b[43mX\u001b[49m\u001b[43m,\u001b[49m\n\u001b[1;32m    456\u001b[0m \u001b[43m    \u001b[49m\u001b[38;5;28;43mself\u001b[39;49m\u001b[38;5;241;43m.\u001b[39;49m\u001b[43msupport_\u001b[49m\u001b[43m,\u001b[49m\n\u001b[1;32m    457\u001b[0m \u001b[43m    \u001b[49m\u001b[38;5;28;43mself\u001b[39;49m\u001b[38;5;241;43m.\u001b[39;49m\u001b[43msupport_vectors_\u001b[49m\u001b[43m,\u001b[49m\n\u001b[1;32m    458\u001b[0m \u001b[43m    \u001b[49m\u001b[38;5;28;43mself\u001b[39;49m\u001b[38;5;241;43m.\u001b[39;49m\u001b[43m_n_support\u001b[49m\u001b[43m,\u001b[49m\n\u001b[1;32m    459\u001b[0m \u001b[43m    \u001b[49m\u001b[38;5;28;43mself\u001b[39;49m\u001b[38;5;241;43m.\u001b[39;49m\u001b[43m_dual_coef_\u001b[49m\u001b[43m,\u001b[49m\n\u001b[1;32m    460\u001b[0m \u001b[43m    \u001b[49m\u001b[38;5;28;43mself\u001b[39;49m\u001b[38;5;241;43m.\u001b[39;49m\u001b[43m_intercept_\u001b[49m\u001b[43m,\u001b[49m\n\u001b[1;32m    461\u001b[0m \u001b[43m    \u001b[49m\u001b[38;5;28;43mself\u001b[39;49m\u001b[38;5;241;43m.\u001b[39;49m\u001b[43m_probA\u001b[49m\u001b[43m,\u001b[49m\n\u001b[1;32m    462\u001b[0m \u001b[43m    \u001b[49m\u001b[38;5;28;43mself\u001b[39;49m\u001b[38;5;241;43m.\u001b[39;49m\u001b[43m_probB\u001b[49m\u001b[43m,\u001b[49m\n\u001b[1;32m    463\u001b[0m \u001b[43m    \u001b[49m\u001b[43msvm_type\u001b[49m\u001b[38;5;241;43m=\u001b[39;49m\u001b[43msvm_type\u001b[49m\u001b[43m,\u001b[49m\n\u001b[1;32m    464\u001b[0m \u001b[43m    \u001b[49m\u001b[43mkernel\u001b[49m\u001b[38;5;241;43m=\u001b[39;49m\u001b[43mkernel\u001b[49m\u001b[43m,\u001b[49m\n\u001b[1;32m    465\u001b[0m \u001b[43m    \u001b[49m\u001b[43mdegree\u001b[49m\u001b[38;5;241;43m=\u001b[39;49m\u001b[38;5;28;43mself\u001b[39;49m\u001b[38;5;241;43m.\u001b[39;49m\u001b[43mdegree\u001b[49m\u001b[43m,\u001b[49m\n\u001b[1;32m    466\u001b[0m \u001b[43m    \u001b[49m\u001b[43mcoef0\u001b[49m\u001b[38;5;241;43m=\u001b[39;49m\u001b[38;5;28;43mself\u001b[39;49m\u001b[38;5;241;43m.\u001b[39;49m\u001b[43mcoef0\u001b[49m\u001b[43m,\u001b[49m\n\u001b[1;32m    467\u001b[0m \u001b[43m    \u001b[49m\u001b[43mgamma\u001b[49m\u001b[38;5;241;43m=\u001b[39;49m\u001b[38;5;28;43mself\u001b[39;49m\u001b[38;5;241;43m.\u001b[39;49m\u001b[43m_gamma\u001b[49m\u001b[43m,\u001b[49m\n\u001b[1;32m    468\u001b[0m \u001b[43m    \u001b[49m\u001b[43mcache_size\u001b[49m\u001b[38;5;241;43m=\u001b[39;49m\u001b[38;5;28;43mself\u001b[39;49m\u001b[38;5;241;43m.\u001b[39;49m\u001b[43mcache_size\u001b[49m\u001b[43m,\u001b[49m\n\u001b[1;32m    469\u001b[0m \u001b[43m\u001b[49m\u001b[43m)\u001b[49m\n",
      "\u001b[0;31mKeyboardInterrupt\u001b[0m: "
     ]
    }
   ],
   "source": [
    "cls_tp_fp_unstrat.log_reg(CV = False)\n",
    "print(\"---------------------\")\n",
    "\n",
    "cls_tp_fp_unstrat.svm(CV = False)\n",
    "print(\"---------------------\")\n",
    "\n",
    "cls_tp_fp_unstrat.log_reg(CV = True)\n",
    "print(\"---------------------\")\n",
    "\n",
    "cls_tp_fp_unstrat.svm(CV = True)\n",
    "print(\"---------------------\")\n",
    "cls_tp_fp_unstrat.knn(CV = True,\n",
    "        max_n_neighbors = 30)\n",
    "print(\"---------------------\")\n",
    "\n",
    "cls_tp_fp_unstrat.save_statistics('/home/birdsong/classifier_stats/cls_tp_fp_unstrat_stats')\n",
    "classifiers.save_object_to_pickle(cls_tp_fp_unstrat, '/home/birdsong/classifier_stats/cls_tp_fp_unstrat')\n",
    "\n",
    "for dim in range(100, 901, 100):\n",
    "    cls_tp_fp_unstrat.log_reg_PCA(CV = False, PCA_dim = dim)\n",
    "    print(\"---------------------\")\n",
    "\n",
    "cls_tp_fp_unstrat.save_statistics('/home/birdsong/classifier_stats/cls_tp_fp_unstrat_stats')\n",
    "classifiers.save_object_to_pickle(cls_tp_fp_unstrat, '/home/birdsong/classifier_stats/cls_tp_fp_unstrat')\n",
    "    \n",
    "#cls_tp_fp.log_reg_PCA(PCA_dims = [i for i in range(2, 50)])\n",
    "print(\"---------------------\")\n",
    "\n",
    "cls_tp_fp_unstrat.save_statistics('/home/birdsong/classifier_stats/cls_tp_fp_unstrat_stats')\n",
    "classifiers.save_object_to_pickle(cls_tp_fp_unstrat, '/home/birdsong/classifier_stats/cls_tp_fp_unstrat')\n",
    "\n",
    "#cls_tp_fp.rand_forest(n_trees = [500])"
   ]
  },
  {
   "cell_type": "code",
   "execution_count": 19,
   "id": "8e26c4e7",
   "metadata": {},
   "outputs": [
    {
     "data": {
      "text/plain": [
       "(8997,)"
      ]
     },
     "execution_count": 19,
     "metadata": {},
     "output_type": "execute_result"
    }
   ],
   "source": [
    "labels_old = pd.read_csv('/home/birdsong/processed_data/spectrograms/labels.csv').values[:,1]\n",
    "labels_old.shape"
   ]
  },
  {
   "cell_type": "code",
   "execution_count": 20,
   "id": "8c37189e",
   "metadata": {},
   "outputs": [],
   "source": [
    "cls_tp_fp_old = classifiers.Classifier(input_X = spectrograms,\n",
    "                                   input_y = labels_old, \n",
    "                                   stratify_var = tp_or_fp.reshape(-1,1))\n",
    "cls_tp_fp_old.t_t_split()"
   ]
  },
  {
   "cell_type": "code",
   "execution_count": 21,
   "id": "3d36096b",
   "metadata": {},
   "outputs": [
    {
     "name": "stdout",
     "output_type": "stream",
     "text": [
      "The Logistic Regression test accuracy was 0.8711111111111111\n",
      "The Logistic Regression train accuracy was 1.0\n",
      "---------------------\n",
      "The SVM test accuracy was 0.8637037037037038\n",
      "The SVM train accuracy was 0.8775990584542958\n",
      "CV Split: 0\n",
      "CV Split: 1\n",
      "CV Split: 2\n",
      "CV Split: 3\n",
      "CV Split: 4\n",
      "Elapsed Time: 155.42831254005432\n",
      "The k with the highest AVG CV Accuracy was k = 1\n",
      "The highest CV KNN test accuracy was 0.8658299456691332\n",
      "The corresponding CV KNN train accuracy was 0.8663855354530217\n",
      "---------------------\n"
     ]
    }
   ],
   "source": [
    "cls_tp_fp_old.log_reg(CV = False)\n",
    "print(\"---------------------\")\n",
    "\n",
    "cls_tp_fp_old.svm(CV = False)\n",
    "\n",
    "cls_tp_fp_old.knn(CV = True,\n",
    "        max_n_neighbors = 30)\n",
    "print(\"---------------------\")\n",
    "\n",
    "cls_tp_fp_old.save_statistics('/home/birdsong/classifier_stats/cls_tp_fp_stats_old')\n",
    "classifiers.save_object_to_pickle(cls_tp_fp_old, '/home/birdsong/classifier_stats/cls_tp_fp_old')"
   ]
  },
  {
   "cell_type": "code",
   "execution_count": 22,
   "id": "ff58957b",
   "metadata": {
    "scrolled": false
   },
   "outputs": [
    {
     "data": {
      "text/plain": [
       "{'ttsplit': [array([[-26.07621 , -28.625114, -28.038353, ..., -54.84223 , -54.84223 ,\n",
       "          -54.84223 ],\n",
       "         [-24.521595, -22.424809, -23.177723, ..., -59.69963 , -59.69963 ,\n",
       "          -59.69963 ],\n",
       "         [ -9.001114, -10.670686,  -9.204363, ..., -59.994778, -59.994778,\n",
       "          -59.994778],\n",
       "         ...,\n",
       "         [-19.07335 , -19.442553, -21.958101, ..., -57.718227, -57.718227,\n",
       "          -57.718227],\n",
       "         [-24.545622, -19.59078 , -22.405176, ..., -74.20475 , -74.20475 ,\n",
       "          -74.20475 ],\n",
       "         [-33.640034, -25.323025, -23.485662, ..., -75.25044 , -75.25044 ,\n",
       "          -75.25044 ]]),\n",
       "  array([[-24.870014 , -24.146294 , -19.906849 , ..., -81.47645  ,\n",
       "          -81.47645  , -81.47645  ],\n",
       "         [-20.263443 ,  -7.3932524, -12.107784 , ..., -64.78799  ,\n",
       "          -64.78799  , -64.78799  ],\n",
       "         [ -7.6386857,  -5.042379 , -12.9616585, ..., -79.15178  ,\n",
       "          -79.15178  , -79.15178  ],\n",
       "         ...,\n",
       "         [-18.565304 , -18.835167 , -16.506273 , ..., -56.69668  ,\n",
       "          -56.69668  , -56.69668  ],\n",
       "         [-28.711857 , -24.51907  , -24.771893 , ..., -96.19312  ,\n",
       "          -96.19312  , -96.19312  ],\n",
       "         [ -9.327501 , -12.990222 , -11.303976 , ..., -86.01358  ,\n",
       "          -86.01358  , -86.01358  ]]),\n",
       "  array([131,  11,  81, ..., 211, 151,  31]),\n",
       "  array([ 71,  11, 221,  51,  81, 234,  11,  51, 231, 121,  71,   1, 234,\n",
       "         211,   1, 121,  91, 234, 111,  81,  81, 174, 211,  71, 121, 234,\n",
       "         141,  51, 141, 131, 151,  21, 111,  41,  31, 221, 101, 111,  31,\n",
       "         164, 164,  61, 231, 131,  21,  21, 221,  81,  81,  11, 171, 151,\n",
       "          41, 231, 174,  81, 111, 151, 164, 141, 234,  51, 131, 201, 181,\n",
       "          91, 171,  71, 141, 101, 101, 181, 111, 101, 181, 121,  31,  41,\n",
       "         131,  11,  31, 131,  91, 221, 151, 234, 234,  81,  51, 231, 121,\n",
       "          71, 151, 131,  61, 151, 164, 121, 221, 141, 231,   1, 201, 234,\n",
       "         234,  21,  81, 221, 164,  61, 101,  61, 174,  71, 101, 151,   1,\n",
       "         191,  51, 231, 234, 231,  91,  11, 121, 111,  71, 211, 211,  81,\n",
       "         234, 231,  71, 131,  11, 191, 111,  81, 191, 141, 234, 151,  61,\n",
       "         101,  11,  11,  41, 164, 164, 111, 231, 191,  21, 191,  61,  81,\n",
       "         101, 141,  51, 231,  71, 181, 191,  31,  11, 121, 164, 141,  51,\n",
       "         191, 151,  11, 234, 171,  61,  51, 221,  11,  31,  31, 121, 231,\n",
       "         101])],\n",
       " 'log_reg': {'test_acc': 0.6284153005464481, 'train_acc': 1.0},\n",
       " 'log_reg_CV': {'test_acc': array([0.60386473, 0.58937198, 0.63768116, 0.61650485, 0.58737864]),\n",
       "  'train_acc': array([1., 1., 1., 1., 1.]),\n",
       "  'test_max': 0.6376811594202898,\n",
       "  'train_max': 1.0},\n",
       " 'svm': {'test_acc': 0.4972677595628415, 'train_acc': 0.8238141335914811},\n",
       " 'svm_CV': {'test_acc': array([0.50241546, 0.45410628, 0.49275362, 0.50485437, 0.45631068]),\n",
       "  'train_acc': array([0.83050847, 0.80992736, 0.8220339 , 0.82829504, 0.82587666]),\n",
       "  'test_max': 0.5048543689320388,\n",
       "  'train_max': 0.8305084745762712},\n",
       " 'knn_CV': {'test_acc': array([[0.36231884, 0.36231884, 0.36231884, 0.36231884, 0.36231884,\n",
       "          0.36231884, 0.36231884, 0.36231884, 0.36231884, 0.36231884,\n",
       "          0.36231884, 0.36231884, 0.36231884, 0.36231884, 0.36231884,\n",
       "          0.36231884, 0.36231884, 0.36231884, 0.36231884, 0.36231884,\n",
       "          0.36231884, 0.36231884, 0.36231884, 0.36231884, 0.36231884,\n",
       "          0.36231884, 0.36231884, 0.36231884, 0.36231884, 0.36231884],\n",
       "         [0.3236715 , 0.3236715 , 0.3236715 , 0.3236715 , 0.3236715 ,\n",
       "          0.3236715 , 0.3236715 , 0.3236715 , 0.3236715 , 0.3236715 ,\n",
       "          0.3236715 , 0.3236715 , 0.3236715 , 0.3236715 , 0.3236715 ,\n",
       "          0.3236715 , 0.3236715 , 0.3236715 , 0.3236715 , 0.3236715 ,\n",
       "          0.3236715 , 0.3236715 , 0.3236715 , 0.3236715 , 0.3236715 ,\n",
       "          0.3236715 , 0.3236715 , 0.3236715 , 0.3236715 , 0.3236715 ],\n",
       "         [0.36231884, 0.36231884, 0.36231884, 0.36231884, 0.36231884,\n",
       "          0.36231884, 0.36231884, 0.36231884, 0.36231884, 0.36231884,\n",
       "          0.36231884, 0.36231884, 0.36231884, 0.36231884, 0.36231884,\n",
       "          0.36231884, 0.36231884, 0.36231884, 0.36231884, 0.36231884,\n",
       "          0.36231884, 0.36231884, 0.36231884, 0.36231884, 0.36231884,\n",
       "          0.36231884, 0.36231884, 0.36231884, 0.36231884, 0.36231884],\n",
       "         [0.36893204, 0.36893204, 0.36893204, 0.36893204, 0.36893204,\n",
       "          0.36893204, 0.36893204, 0.36893204, 0.36893204, 0.36893204,\n",
       "          0.36893204, 0.36893204, 0.36893204, 0.36893204, 0.36893204,\n",
       "          0.36893204, 0.36893204, 0.36893204, 0.36893204, 0.36893204,\n",
       "          0.36893204, 0.36893204, 0.36893204, 0.36893204, 0.36893204,\n",
       "          0.36893204, 0.36893204, 0.36893204, 0.36893204, 0.36893204],\n",
       "         [0.33980583, 0.33980583, 0.33980583, 0.33980583, 0.33980583,\n",
       "          0.33980583, 0.33980583, 0.33980583, 0.33980583, 0.33980583,\n",
       "          0.33980583, 0.33980583, 0.33980583, 0.33980583, 0.33980583,\n",
       "          0.33980583, 0.33980583, 0.33980583, 0.33980583, 0.33980583,\n",
       "          0.33980583, 0.33980583, 0.33980583, 0.33980583, 0.33980583,\n",
       "          0.33980583, 0.33980583, 0.33980583, 0.33980583, 0.33980583]]),\n",
       "  'train_acc': array([[0.44915254, 0.44915254, 0.44915254, 0.44915254, 0.44915254,\n",
       "          0.44915254, 0.44915254, 0.44915254, 0.44915254, 0.44915254,\n",
       "          0.44915254, 0.44915254, 0.44915254, 0.44915254, 0.44915254,\n",
       "          0.44915254, 0.44915254, 0.44915254, 0.44915254, 0.44915254,\n",
       "          0.44915254, 0.44915254, 0.44915254, 0.44915254, 0.44915254,\n",
       "          0.44915254, 0.44915254, 0.44915254, 0.44915254, 0.44915254],\n",
       "         [0.44915254, 0.44915254, 0.44915254, 0.44915254, 0.44915254,\n",
       "          0.44915254, 0.44915254, 0.44915254, 0.44915254, 0.44915254,\n",
       "          0.44915254, 0.44915254, 0.44915254, 0.44915254, 0.44915254,\n",
       "          0.44915254, 0.44915254, 0.44915254, 0.44915254, 0.44915254,\n",
       "          0.44915254, 0.44915254, 0.44915254, 0.44915254, 0.44915254,\n",
       "          0.44915254, 0.44915254, 0.44915254, 0.44915254, 0.44915254],\n",
       "         [0.43341404, 0.43341404, 0.43341404, 0.43341404, 0.43341404,\n",
       "          0.43341404, 0.43341404, 0.43341404, 0.43341404, 0.43341404,\n",
       "          0.43341404, 0.43341404, 0.43341404, 0.43341404, 0.43341404,\n",
       "          0.43341404, 0.43341404, 0.43341404, 0.43341404, 0.43341404,\n",
       "          0.43341404, 0.43341404, 0.43341404, 0.43341404, 0.43341404,\n",
       "          0.43341404, 0.43341404, 0.43341404, 0.43341404, 0.43341404],\n",
       "         [0.46191052, 0.46191052, 0.46191052, 0.46191052, 0.46191052,\n",
       "          0.46191052, 0.46191052, 0.46191052, 0.46191052, 0.46191052,\n",
       "          0.46191052, 0.46191052, 0.46191052, 0.46191052, 0.46191052,\n",
       "          0.46191052, 0.46191052, 0.46191052, 0.46191052, 0.46191052,\n",
       "          0.46191052, 0.46191052, 0.46191052, 0.46191052, 0.46191052,\n",
       "          0.46191052, 0.46191052, 0.46191052, 0.46191052, 0.46191052],\n",
       "         [0.45586457, 0.45586457, 0.45586457, 0.45586457, 0.45586457,\n",
       "          0.45586457, 0.45586457, 0.45586457, 0.45586457, 0.45586457,\n",
       "          0.45586457, 0.45586457, 0.45586457, 0.45586457, 0.45586457,\n",
       "          0.45586457, 0.45586457, 0.45586457, 0.45586457, 0.45586457,\n",
       "          0.45586457, 0.45586457, 0.45586457, 0.45586457, 0.45586457,\n",
       "          0.45586457, 0.45586457, 0.45586457, 0.45586457, 0.45586457]]),\n",
       "  'test_max': 0.3514094085643263,\n",
       "  'train_max': 0.4498988438037072},\n",
       " 'pca_log_reg100': {'test_acc': 0.5628415300546448,\n",
       "  'train_acc': 0.9990319457889641},\n",
       " 'pca_log_reg200': {'test_acc': 0.6174863387978142, 'train_acc': 1.0},\n",
       " 'pca_log_reg300': {'test_acc': 0.5846994535519126, 'train_acc': 1.0},\n",
       " 'pca_log_reg400': {'test_acc': 0.6120218579234973, 'train_acc': 1.0},\n",
       " 'pca_log_reg500': {'test_acc': 0.644808743169399, 'train_acc': 1.0},\n",
       " 'pca_log_reg600': {'test_acc': 0.644808743169399, 'train_acc': 1.0},\n",
       " 'pca_log_reg700': {'test_acc': 0.6229508196721312, 'train_acc': 1.0},\n",
       " 'pca_log_reg800': {'test_acc': 0.6229508196721312, 'train_acc': 1.0},\n",
       " 'pca_log_reg900': {'test_acc': 0.6174863387978142, 'train_acc': 1.0}}"
      ]
     },
     "execution_count": 22,
     "metadata": {},
     "output_type": "execute_result"
    }
   ],
   "source": [
    "cls_tp.total_statistics"
   ]
  },
  {
   "cell_type": "code",
   "execution_count": 23,
   "id": "8c06c243",
   "metadata": {},
   "outputs": [
    {
     "data": {
      "text/plain": [
       "0.6284153005464481"
      ]
     },
     "execution_count": 23,
     "metadata": {},
     "output_type": "execute_result"
    }
   ],
   "source": [
    "accuracy_score(cls_tp.y_test, cls_tp.y_log_reg_test_pred)"
   ]
  },
  {
   "cell_type": "code",
   "execution_count": 40,
   "id": "d547db43",
   "metadata": {},
   "outputs": [
    {
     "data": {
      "text/plain": [
       "array([141, 231, 121, ..., 174, 141,  61])"
      ]
     },
     "execution_count": 40,
     "metadata": {},
     "output_type": "execute_result"
    }
   ],
   "source": [
    "labels"
   ]
  },
  {
   "cell_type": "code",
   "execution_count": 25,
   "id": "453cd7a7",
   "metadata": {},
   "outputs": [
    {
     "data": {
      "text/plain": [
       "array([1, 1, 0, 1, 1, 0, 1, 1, 1, 1, 1, 1, 1, 1, 0, 1, 0, 0, 0, 0, 0, 1,\n",
       "       1, 1, 0, 0, 1, 1, 0, 1, 0, 1, 1, 0, 0, 0, 1, 0, 0, 1, 1, 0, 1, 1,\n",
       "       1, 1, 1, 1, 0, 1, 0, 0, 1, 1, 0, 1, 1, 1, 1, 1, 0, 1, 1, 0, 1, 1,\n",
       "       1, 1, 1, 1, 1, 0, 1, 1, 1, 1, 0, 1, 1, 1, 0, 0, 0, 0, 1, 0, 0, 0,\n",
       "       1, 1, 0, 0, 0, 0, 1, 1, 1, 1, 0, 1, 1, 0, 1, 1, 1, 1, 1, 0, 1, 1,\n",
       "       1, 1, 1, 1, 0, 0, 1, 1, 0, 1, 0, 0, 0, 0, 1, 0, 1, 1, 0, 0, 0, 0,\n",
       "       1, 1, 0, 1, 1, 0, 0, 0, 0, 1, 1, 1, 0, 1, 0, 1, 1, 1, 1, 1, 1, 1,\n",
       "       0, 0, 1, 1, 1, 1, 1, 0, 1, 0, 0, 1, 1, 1, 1, 1, 1, 1, 0, 1, 1, 1,\n",
       "       1, 1, 0, 1, 0, 0, 1])"
      ]
     },
     "execution_count": 25,
     "metadata": {},
     "output_type": "execute_result"
    }
   ],
   "source": [
    "(cls_tp.y_test == cls_tp.y_log_reg_test_pred).astype(int)"
   ]
  },
  {
   "cell_type": "code",
   "execution_count": 86,
   "id": "0252f3b7",
   "metadata": {},
   "outputs": [
    {
     "data": {
      "text/plain": [
       "(183,)"
      ]
     },
     "execution_count": 86,
     "metadata": {},
     "output_type": "execute_result"
    }
   ],
   "source": [
    "cls_tp.y_test.shape"
   ]
  },
  {
   "cell_type": "code",
   "execution_count": 27,
   "id": "18fde07e",
   "metadata": {},
   "outputs": [
    {
     "data": {
      "text/plain": [
       "array([ 71,  11, 101,  51,  81,  11,  11,  51, 231, 121,  71,   1, 234,\n",
       "       211,  81, 121, 164, 231, 171, 211, 211, 174, 211,  71,   1, 101,\n",
       "       141,  51,  11, 131, 221,  21, 111, 211, 171,  21, 101, 201,  91,\n",
       "       164, 164, 221, 231, 131,  21,  21, 221,  81, 181,  11,  61,  21,\n",
       "        41, 231,  31,  81, 111, 151, 164, 141,  51,  51, 131,  51, 181,\n",
       "        91, 171,  71, 141, 101, 101,  41, 111, 101, 181, 121, 121,  41,\n",
       "       131,  11,   1,  41,  11, 231, 151, 231, 231, 211,  51, 231, 181,\n",
       "       221,  71, 151,  61, 151, 164, 121,  11, 141, 231, 181, 201, 234,\n",
       "       234,  21,  81,  91, 164,  61, 101,  61, 174,  71, 171,  31,   1,\n",
       "       191,  21, 231, 231,  71, 221, 141, 121,  91,  71, 211,  81, 181,\n",
       "       181, 221,  71, 131, 221, 191, 111, 211, 111,  31, 131, 151,  61,\n",
       "       101, 141,  11, 211, 164, 164, 111, 231, 191,  21, 191, 191,   1,\n",
       "       101, 141,  51, 231,  71,  81, 191, 234, 174, 121, 164, 141,  51,\n",
       "       191, 151,  11, 111, 171,  61,  51, 221,  11, 141,  31, 181,  51,\n",
       "       101])"
      ]
     },
     "execution_count": 27,
     "metadata": {},
     "output_type": "execute_result"
    }
   ],
   "source": [
    "cls_tp.y_log_reg_test_pred"
   ]
  },
  {
   "cell_type": "code",
   "execution_count": 99,
   "id": "810d10c1",
   "metadata": {},
   "outputs": [],
   "source": [
    "test_pred = np.concatenate((cls_tp.y_test.reshape(-1,1), cls_tp.y_log_reg_test_pred.reshape(-1,1)), axis = 1)"
   ]
  },
  {
   "cell_type": "code",
   "execution_count": 100,
   "id": "b0468c16",
   "metadata": {},
   "outputs": [
    {
     "data": {
      "text/plain": [
       "array([[ 71,  71],\n",
       "       [ 11,  11],\n",
       "       [221, 101],\n",
       "       [ 51,  51],\n",
       "       [ 81,  81],\n",
       "       [234,  11],\n",
       "       [ 11,  11],\n",
       "       [ 51,  51],\n",
       "       [231, 231],\n",
       "       [121, 121],\n",
       "       [ 71,  71],\n",
       "       [  1,   1],\n",
       "       [234, 234],\n",
       "       [211, 211],\n",
       "       [  1,  81],\n",
       "       [121, 121],\n",
       "       [ 91, 164],\n",
       "       [234, 231],\n",
       "       [111, 171],\n",
       "       [ 81, 211],\n",
       "       [ 81, 211],\n",
       "       [174, 174],\n",
       "       [211, 211],\n",
       "       [ 71,  71],\n",
       "       [121,   1],\n",
       "       [234, 101],\n",
       "       [141, 141],\n",
       "       [ 51,  51],\n",
       "       [141,  11],\n",
       "       [131, 131],\n",
       "       [151, 221],\n",
       "       [ 21,  21],\n",
       "       [111, 111],\n",
       "       [ 41, 211],\n",
       "       [ 31, 171],\n",
       "       [221,  21],\n",
       "       [101, 101],\n",
       "       [111, 201],\n",
       "       [ 31,  91],\n",
       "       [164, 164],\n",
       "       [164, 164],\n",
       "       [ 61, 221],\n",
       "       [231, 231],\n",
       "       [131, 131],\n",
       "       [ 21,  21],\n",
       "       [ 21,  21],\n",
       "       [221, 221],\n",
       "       [ 81,  81],\n",
       "       [ 81, 181],\n",
       "       [ 11,  11],\n",
       "       [171,  61],\n",
       "       [151,  21],\n",
       "       [ 41,  41],\n",
       "       [231, 231],\n",
       "       [174,  31],\n",
       "       [ 81,  81],\n",
       "       [111, 111],\n",
       "       [151, 151],\n",
       "       [164, 164],\n",
       "       [141, 141],\n",
       "       [234,  51],\n",
       "       [ 51,  51],\n",
       "       [131, 131],\n",
       "       [201,  51],\n",
       "       [181, 181],\n",
       "       [ 91,  91],\n",
       "       [171, 171],\n",
       "       [ 71,  71],\n",
       "       [141, 141],\n",
       "       [101, 101],\n",
       "       [101, 101],\n",
       "       [181,  41],\n",
       "       [111, 111],\n",
       "       [101, 101],\n",
       "       [181, 181],\n",
       "       [121, 121],\n",
       "       [ 31, 121],\n",
       "       [ 41,  41],\n",
       "       [131, 131],\n",
       "       [ 11,  11],\n",
       "       [ 31,   1],\n",
       "       [131,  41],\n",
       "       [ 91,  11],\n",
       "       [221, 231],\n",
       "       [151, 151],\n",
       "       [234, 231],\n",
       "       [234, 231],\n",
       "       [ 81, 211],\n",
       "       [ 51,  51],\n",
       "       [231, 231],\n",
       "       [121, 181],\n",
       "       [ 71, 221],\n",
       "       [151,  71],\n",
       "       [131, 151],\n",
       "       [ 61,  61],\n",
       "       [151, 151],\n",
       "       [164, 164],\n",
       "       [121, 121],\n",
       "       [221,  11],\n",
       "       [141, 141],\n",
       "       [231, 231],\n",
       "       [  1, 181],\n",
       "       [201, 201],\n",
       "       [234, 234],\n",
       "       [234, 234],\n",
       "       [ 21,  21],\n",
       "       [ 81,  81],\n",
       "       [221,  91],\n",
       "       [164, 164],\n",
       "       [ 61,  61],\n",
       "       [101, 101],\n",
       "       [ 61,  61],\n",
       "       [174, 174],\n",
       "       [ 71,  71],\n",
       "       [101, 171],\n",
       "       [151,  31],\n",
       "       [  1,   1],\n",
       "       [191, 191],\n",
       "       [ 51,  21],\n",
       "       [231, 231],\n",
       "       [234, 231],\n",
       "       [231,  71],\n",
       "       [ 91, 221],\n",
       "       [ 11, 141],\n",
       "       [121, 121],\n",
       "       [111,  91],\n",
       "       [ 71,  71],\n",
       "       [211, 211],\n",
       "       [211,  81],\n",
       "       [ 81, 181],\n",
       "       [234, 181],\n",
       "       [231, 221],\n",
       "       [ 71,  71],\n",
       "       [131, 131],\n",
       "       [ 11, 221],\n",
       "       [191, 191],\n",
       "       [111, 111],\n",
       "       [ 81, 211],\n",
       "       [191, 111],\n",
       "       [141,  31],\n",
       "       [234, 131],\n",
       "       [151, 151],\n",
       "       [ 61,  61],\n",
       "       [101, 101],\n",
       "       [ 11, 141],\n",
       "       [ 11,  11],\n",
       "       [ 41, 211],\n",
       "       [164, 164],\n",
       "       [164, 164],\n",
       "       [111, 111],\n",
       "       [231, 231],\n",
       "       [191, 191],\n",
       "       [ 21,  21],\n",
       "       [191, 191],\n",
       "       [ 61, 191],\n",
       "       [ 81,   1],\n",
       "       [101, 101],\n",
       "       [141, 141],\n",
       "       [ 51,  51],\n",
       "       [231, 231],\n",
       "       [ 71,  71],\n",
       "       [181,  81],\n",
       "       [191, 191],\n",
       "       [ 31, 234],\n",
       "       [ 11, 174],\n",
       "       [121, 121],\n",
       "       [164, 164],\n",
       "       [141, 141],\n",
       "       [ 51,  51],\n",
       "       [191, 191],\n",
       "       [151, 151],\n",
       "       [ 11,  11],\n",
       "       [234, 111],\n",
       "       [171, 171],\n",
       "       [ 61,  61],\n",
       "       [ 51,  51],\n",
       "       [221, 221],\n",
       "       [ 11,  11],\n",
       "       [ 31, 141],\n",
       "       [ 31,  31],\n",
       "       [121, 181],\n",
       "       [231,  51],\n",
       "       [101, 101]])"
      ]
     },
     "execution_count": 100,
     "metadata": {},
     "output_type": "execute_result"
    }
   ],
   "source": [
    "test_pred"
   ]
  },
  {
   "cell_type": "code",
   "execution_count": 52,
   "id": "41470c32",
   "metadata": {
    "scrolled": true
   },
   "outputs": [
    {
     "name": "stdout",
     "output_type": "stream",
     "text": [
      "[1, 11, 21, 31, 41, 81, 121, 141, 164, 181, 211]\n",
      "[51, 61, 71, 91, 101, 111, 131, 151, 171, 174, 191, 201, 221, 231, 234]\n",
      "[1, 11, 21, 31, 41, 81, 121, 141, 164, 181, 211, 51, 61, 71, 91, 101, 111, 131, 151, 171, 174, 191, 201, 221, 231, 234]\n"
     ]
    }
   ],
   "source": [
    "frog_types = [0, 1, 2, 3, 4, 8, 12, 14, 16, 18, 21]\n",
    "bird_types = [5, 6, 7, 9, 10, 11, 13, 15, 17, 19, 20, 22, 23]\n",
    "\n",
    "frog_labels = []\n",
    "for i in frog_types:\n",
    "    if i == 16:\n",
    "        new_i = 164\n",
    "        frog_labels.append(new_i)\n",
    "    else:\n",
    "        new_i = int(str(i) + '1')\n",
    "        frog_labels.append(new_i)\n",
    "print(frog_labels)\n",
    "\n",
    "bird_labels = []\n",
    "for i in bird_types:\n",
    "    if i == 17 or i == 23:\n",
    "        new_i_1 = int(str(i) + '1')\n",
    "        new_i_4 = int(str(i) + '4')\n",
    "        bird_labels.extend([new_i_1, new_i_4])\n",
    "    else:\n",
    "        new_i = int(str(i) + '1')\n",
    "        bird_labels.append(new_i)\n",
    "print(bird_labels)\n",
    "\n",
    "frog_bird_labels = frog_labels + bird_labels\n",
    "print(frog_bird_labels)"
   ]
  },
  {
   "cell_type": "code",
   "execution_count": 101,
   "id": "7650e22c",
   "metadata": {},
   "outputs": [],
   "source": [
    "frog_bird_labels_str = [str(item) for item in frog_bird_labels]\n",
    "mat = np.zeros((len(frog_bird_labels) + 1, len(frog_bird_labels) + 1), dtype = int)\n",
    "mat[0, 1:] = frog_bird_labels\n",
    "mat[1:,0] = frog_bird_labels\n",
    "\n",
    "for item in test_pred:\n",
    "    test = item[0]\n",
    "    ind = np.where(mat[0] == test)[0][0]\n",
    "    pred = item[1]\n",
    "    ind_pred = np.where(mat[:,0] == pred)[0][0]\n",
    "    if test == pred:\n",
    "        mat[ind, ind] += 2\n",
    "    else:\n",
    "        mat[ind, ind] += 1\n",
    "        mat[ind_pred, ind] += 1"
   ]
  },
  {
   "cell_type": "code",
   "execution_count": 106,
   "id": "759482e5",
   "metadata": {},
   "outputs": [],
   "source": [
    "np.savetxt('/home/birdsong/classifier_stats/cls_tp_log_reg_CM.csv', mat, delimiter = ',')"
   ]
  },
  {
   "cell_type": "code",
   "execution_count": null,
   "id": "5e5278a3",
   "metadata": {},
   "outputs": [],
   "source": [
    "mat = np.zeros((len(frog_bird_labels) + 1, len(frog_bird_labels) + 1), dtype = int)\n",
    "mat[0, 1:] = frog_bird_labels\n",
    "mat[1:,0] = frog_bird_labels\n",
    "\n",
    "for item in test_pred:\n",
    "    test = item[0]\n",
    "    ind = np.where(mat[0] == test)[0][0]\n",
    "    pred = item[1]\n",
    "    ind_pred = np.where(mat[:,0] == pred)[0][0]\n",
    "    if test == pred:\n",
    "        mat[ind, ind] += 2\n",
    "    else:\n",
    "        mat[ind, ind] += 1\n",
    "        mat[ind_pred, ind] += 1"
   ]
  }
 ],
 "metadata": {
  "kernelspec": {
   "display_name": "Python 3 (ipykernel)",
   "language": "python",
   "name": "python3"
  },
  "language_info": {
   "codemirror_mode": {
    "name": "ipython",
    "version": 3
   },
   "file_extension": ".py",
   "mimetype": "text/x-python",
   "name": "python",
   "nbconvert_exporter": "python",
   "pygments_lexer": "ipython3",
   "version": "3.11.3"
  }
 },
 "nbformat": 4,
 "nbformat_minor": 5
}
