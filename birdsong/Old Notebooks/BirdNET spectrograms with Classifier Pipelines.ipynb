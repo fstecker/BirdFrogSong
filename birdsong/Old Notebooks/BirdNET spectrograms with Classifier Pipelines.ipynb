{
 "cells": [
  {
   "cell_type": "code",
   "execution_count": 53,
   "id": "3d288972",
   "metadata": {},
   "outputs": [],
   "source": [
    "import numpy as np\n",
    "import os\n",
    "import librosa\n",
    "import keras\n",
    "import pandas as pd\n",
    "import time"
   ]
  },
  {
   "cell_type": "code",
   "execution_count": 2,
   "id": "fa51c025",
   "metadata": {},
   "outputs": [],
   "source": [
    "import matplotlib.pyplot as plt"
   ]
  },
  {
   "cell_type": "code",
   "execution_count": 3,
   "id": "ec8c8142",
   "metadata": {},
   "outputs": [],
   "source": [
    "from sklearn.linear_model import LogisticRegression\n",
    "from sklearn.preprocessing import StandardScaler\n",
    "from sklearn.model_selection import train_test_split\n",
    "from sklearn.pipeline import Pipeline"
   ]
  },
  {
   "cell_type": "code",
   "execution_count": 4,
   "id": "61eb00f8",
   "metadata": {},
   "outputs": [
    {
     "data": {
      "text/html": [
       "<div>\n",
       "<style scoped>\n",
       "    .dataframe tbody tr th:only-of-type {\n",
       "        vertical-align: middle;\n",
       "    }\n",
       "\n",
       "    .dataframe tbody tr th {\n",
       "        vertical-align: top;\n",
       "    }\n",
       "\n",
       "    .dataframe thead th {\n",
       "        text-align: right;\n",
       "    }\n",
       "</style>\n",
       "<table border=\"1\" class=\"dataframe\">\n",
       "  <thead>\n",
       "    <tr style=\"text-align: right;\">\n",
       "      <th></th>\n",
       "      <th>recording_id</th>\n",
       "      <th>species_id</th>\n",
       "      <th>songtype_id</th>\n",
       "      <th>t_min</th>\n",
       "      <th>f_min</th>\n",
       "      <th>t_max</th>\n",
       "      <th>f_max</th>\n",
       "    </tr>\n",
       "  </thead>\n",
       "  <tbody>\n",
       "    <tr>\n",
       "      <th>0</th>\n",
       "      <td>003bec244</td>\n",
       "      <td>14</td>\n",
       "      <td>1</td>\n",
       "      <td>44.5440</td>\n",
       "      <td>2531.250</td>\n",
       "      <td>45.1307</td>\n",
       "      <td>5531.25</td>\n",
       "    </tr>\n",
       "    <tr>\n",
       "      <th>1</th>\n",
       "      <td>006ab765f</td>\n",
       "      <td>23</td>\n",
       "      <td>1</td>\n",
       "      <td>39.9615</td>\n",
       "      <td>7235.160</td>\n",
       "      <td>46.0452</td>\n",
       "      <td>11283.40</td>\n",
       "    </tr>\n",
       "    <tr>\n",
       "      <th>2</th>\n",
       "      <td>007f87ba2</td>\n",
       "      <td>12</td>\n",
       "      <td>1</td>\n",
       "      <td>39.1360</td>\n",
       "      <td>562.500</td>\n",
       "      <td>42.2720</td>\n",
       "      <td>3281.25</td>\n",
       "    </tr>\n",
       "    <tr>\n",
       "      <th>3</th>\n",
       "      <td>0099c367b</td>\n",
       "      <td>17</td>\n",
       "      <td>4</td>\n",
       "      <td>51.4206</td>\n",
       "      <td>1464.260</td>\n",
       "      <td>55.1996</td>\n",
       "      <td>4565.04</td>\n",
       "    </tr>\n",
       "    <tr>\n",
       "      <th>4</th>\n",
       "      <td>009b760e6</td>\n",
       "      <td>10</td>\n",
       "      <td>1</td>\n",
       "      <td>50.0854</td>\n",
       "      <td>947.461</td>\n",
       "      <td>52.5293</td>\n",
       "      <td>10852.70</td>\n",
       "    </tr>\n",
       "    <tr>\n",
       "      <th>...</th>\n",
       "      <td>...</td>\n",
       "      <td>...</td>\n",
       "      <td>...</td>\n",
       "      <td>...</td>\n",
       "      <td>...</td>\n",
       "      <td>...</td>\n",
       "      <td>...</td>\n",
       "    </tr>\n",
       "    <tr>\n",
       "      <th>1211</th>\n",
       "      <td>fe8d9ac40</td>\n",
       "      <td>13</td>\n",
       "      <td>1</td>\n",
       "      <td>53.4720</td>\n",
       "      <td>93.750</td>\n",
       "      <td>54.0960</td>\n",
       "      <td>843.75</td>\n",
       "    </tr>\n",
       "    <tr>\n",
       "      <th>1212</th>\n",
       "      <td>fea6b438a</td>\n",
       "      <td>4</td>\n",
       "      <td>1</td>\n",
       "      <td>43.5787</td>\n",
       "      <td>2531.250</td>\n",
       "      <td>45.7653</td>\n",
       "      <td>4031.25</td>\n",
       "    </tr>\n",
       "    <tr>\n",
       "      <th>1213</th>\n",
       "      <td>ff2eb9ce5</td>\n",
       "      <td>0</td>\n",
       "      <td>1</td>\n",
       "      <td>15.2267</td>\n",
       "      <td>5906.250</td>\n",
       "      <td>16.0213</td>\n",
       "      <td>8250.00</td>\n",
       "    </tr>\n",
       "    <tr>\n",
       "      <th>1214</th>\n",
       "      <td>ffb8d8391</td>\n",
       "      <td>5</td>\n",
       "      <td>1</td>\n",
       "      <td>14.3467</td>\n",
       "      <td>4781.250</td>\n",
       "      <td>16.6987</td>\n",
       "      <td>10406.20</td>\n",
       "    </tr>\n",
       "    <tr>\n",
       "      <th>1215</th>\n",
       "      <td>ffb9a7b9a</td>\n",
       "      <td>18</td>\n",
       "      <td>1</td>\n",
       "      <td>40.3200</td>\n",
       "      <td>3187.500</td>\n",
       "      <td>41.0133</td>\n",
       "      <td>5062.50</td>\n",
       "    </tr>\n",
       "  </tbody>\n",
       "</table>\n",
       "<p>1216 rows × 7 columns</p>\n",
       "</div>"
      ],
      "text/plain": [
       "     recording_id  species_id  songtype_id    t_min     f_min    t_max  \\\n",
       "0       003bec244          14            1  44.5440  2531.250  45.1307   \n",
       "1       006ab765f          23            1  39.9615  7235.160  46.0452   \n",
       "2       007f87ba2          12            1  39.1360   562.500  42.2720   \n",
       "3       0099c367b          17            4  51.4206  1464.260  55.1996   \n",
       "4       009b760e6          10            1  50.0854   947.461  52.5293   \n",
       "...           ...         ...          ...      ...       ...      ...   \n",
       "1211    fe8d9ac40          13            1  53.4720    93.750  54.0960   \n",
       "1212    fea6b438a           4            1  43.5787  2531.250  45.7653   \n",
       "1213    ff2eb9ce5           0            1  15.2267  5906.250  16.0213   \n",
       "1214    ffb8d8391           5            1  14.3467  4781.250  16.6987   \n",
       "1215    ffb9a7b9a          18            1  40.3200  3187.500  41.0133   \n",
       "\n",
       "         f_max  \n",
       "0      5531.25  \n",
       "1     11283.40  \n",
       "2      3281.25  \n",
       "3      4565.04  \n",
       "4     10852.70  \n",
       "...        ...  \n",
       "1211    843.75  \n",
       "1212   4031.25  \n",
       "1213   8250.00  \n",
       "1214  10406.20  \n",
       "1215   5062.50  \n",
       "\n",
       "[1216 rows x 7 columns]"
      ]
     },
     "metadata": {},
     "output_type": "display_data"
    },
    {
     "data": {
      "text/html": [
       "<div>\n",
       "<style scoped>\n",
       "    .dataframe tbody tr th:only-of-type {\n",
       "        vertical-align: middle;\n",
       "    }\n",
       "\n",
       "    .dataframe tbody tr th {\n",
       "        vertical-align: top;\n",
       "    }\n",
       "\n",
       "    .dataframe thead th {\n",
       "        text-align: right;\n",
       "    }\n",
       "</style>\n",
       "<table border=\"1\" class=\"dataframe\">\n",
       "  <thead>\n",
       "    <tr style=\"text-align: right;\">\n",
       "      <th></th>\n",
       "      <th>recording_id</th>\n",
       "      <th>species_id</th>\n",
       "      <th>songtype_id</th>\n",
       "      <th>t_min</th>\n",
       "      <th>f_min</th>\n",
       "      <th>t_max</th>\n",
       "      <th>f_max</th>\n",
       "    </tr>\n",
       "  </thead>\n",
       "  <tbody>\n",
       "    <tr>\n",
       "      <th>0</th>\n",
       "      <td>00204008d</td>\n",
       "      <td>21</td>\n",
       "      <td>1</td>\n",
       "      <td>13.8400</td>\n",
       "      <td>3281.2500</td>\n",
       "      <td>14.9333</td>\n",
       "      <td>4125.0000</td>\n",
       "    </tr>\n",
       "    <tr>\n",
       "      <th>1</th>\n",
       "      <td>00204008d</td>\n",
       "      <td>8</td>\n",
       "      <td>1</td>\n",
       "      <td>24.4960</td>\n",
       "      <td>3750.0000</td>\n",
       "      <td>28.6187</td>\n",
       "      <td>5531.2500</td>\n",
       "    </tr>\n",
       "    <tr>\n",
       "      <th>2</th>\n",
       "      <td>00204008d</td>\n",
       "      <td>4</td>\n",
       "      <td>1</td>\n",
       "      <td>15.0027</td>\n",
       "      <td>2343.7500</td>\n",
       "      <td>16.8587</td>\n",
       "      <td>4218.7500</td>\n",
       "    </tr>\n",
       "    <tr>\n",
       "      <th>3</th>\n",
       "      <td>003b04435</td>\n",
       "      <td>22</td>\n",
       "      <td>1</td>\n",
       "      <td>43.2533</td>\n",
       "      <td>10687.5000</td>\n",
       "      <td>44.8587</td>\n",
       "      <td>13687.5000</td>\n",
       "    </tr>\n",
       "    <tr>\n",
       "      <th>4</th>\n",
       "      <td>003b04435</td>\n",
       "      <td>23</td>\n",
       "      <td>1</td>\n",
       "      <td>9.1254</td>\n",
       "      <td>7235.1562</td>\n",
       "      <td>15.2091</td>\n",
       "      <td>11283.3984</td>\n",
       "    </tr>\n",
       "    <tr>\n",
       "      <th>...</th>\n",
       "      <td>...</td>\n",
       "      <td>...</td>\n",
       "      <td>...</td>\n",
       "      <td>...</td>\n",
       "      <td>...</td>\n",
       "      <td>...</td>\n",
       "      <td>...</td>\n",
       "    </tr>\n",
       "    <tr>\n",
       "      <th>7776</th>\n",
       "      <td>ffd88cd84</td>\n",
       "      <td>14</td>\n",
       "      <td>1</td>\n",
       "      <td>3.2000</td>\n",
       "      <td>2531.2500</td>\n",
       "      <td>3.7867</td>\n",
       "      <td>5531.2500</td>\n",
       "    </tr>\n",
       "    <tr>\n",
       "      <th>7777</th>\n",
       "      <td>ffebe7313</td>\n",
       "      <td>1</td>\n",
       "      <td>1</td>\n",
       "      <td>35.2000</td>\n",
       "      <td>3843.7500</td>\n",
       "      <td>36.0960</td>\n",
       "      <td>5625.0000</td>\n",
       "    </tr>\n",
       "    <tr>\n",
       "      <th>7778</th>\n",
       "      <td>fff163132</td>\n",
       "      <td>17</td>\n",
       "      <td>4</td>\n",
       "      <td>22.5547</td>\n",
       "      <td>1312.5000</td>\n",
       "      <td>25.0880</td>\n",
       "      <td>7406.2500</td>\n",
       "    </tr>\n",
       "    <tr>\n",
       "      <th>7779</th>\n",
       "      <td>fff163132</td>\n",
       "      <td>14</td>\n",
       "      <td>1</td>\n",
       "      <td>37.0827</td>\n",
       "      <td>2531.2500</td>\n",
       "      <td>37.6693</td>\n",
       "      <td>5531.2500</td>\n",
       "    </tr>\n",
       "    <tr>\n",
       "      <th>7780</th>\n",
       "      <td>fffb79246</td>\n",
       "      <td>6</td>\n",
       "      <td>1</td>\n",
       "      <td>8.3573</td>\n",
       "      <td>562.5000</td>\n",
       "      <td>10.5013</td>\n",
       "      <td>4406.2500</td>\n",
       "    </tr>\n",
       "  </tbody>\n",
       "</table>\n",
       "<p>7781 rows × 7 columns</p>\n",
       "</div>"
      ],
      "text/plain": [
       "     recording_id  species_id  songtype_id    t_min       f_min    t_max  \\\n",
       "0       00204008d          21            1  13.8400   3281.2500  14.9333   \n",
       "1       00204008d           8            1  24.4960   3750.0000  28.6187   \n",
       "2       00204008d           4            1  15.0027   2343.7500  16.8587   \n",
       "3       003b04435          22            1  43.2533  10687.5000  44.8587   \n",
       "4       003b04435          23            1   9.1254   7235.1562  15.2091   \n",
       "...           ...         ...          ...      ...         ...      ...   \n",
       "7776    ffd88cd84          14            1   3.2000   2531.2500   3.7867   \n",
       "7777    ffebe7313           1            1  35.2000   3843.7500  36.0960   \n",
       "7778    fff163132          17            4  22.5547   1312.5000  25.0880   \n",
       "7779    fff163132          14            1  37.0827   2531.2500  37.6693   \n",
       "7780    fffb79246           6            1   8.3573    562.5000  10.5013   \n",
       "\n",
       "           f_max  \n",
       "0      4125.0000  \n",
       "1      5531.2500  \n",
       "2      4218.7500  \n",
       "3     13687.5000  \n",
       "4     11283.3984  \n",
       "...          ...  \n",
       "7776   5531.2500  \n",
       "7777   5625.0000  \n",
       "7778   7406.2500  \n",
       "7779   5531.2500  \n",
       "7780   4406.2500  \n",
       "\n",
       "[7781 rows x 7 columns]"
      ]
     },
     "metadata": {},
     "output_type": "display_data"
    }
   ],
   "source": [
    "df_tp = pd.read_csv('/home/birdsong/kaggle-data/train_tp.csv')\n",
    "df_fp = pd.read_csv('/home/birdsong/kaggle-data/train_fp.csv')\n",
    "display(df_tp)\n",
    "display(df_fp)"
   ]
  },
  {
   "cell_type": "code",
   "execution_count": 5,
   "id": "f93db15d",
   "metadata": {},
   "outputs": [
    {
     "data": {
      "text/plain": [
       "128"
      ]
     },
     "execution_count": 5,
     "metadata": {},
     "output_type": "execute_result"
    }
   ],
   "source": [
    "len(df_tp[df_tp['songtype_id']==4])"
   ]
  },
  {
   "cell_type": "code",
   "execution_count": 6,
   "id": "b1ecca94",
   "metadata": {},
   "outputs": [
    {
     "data": {
      "text/plain": [
       "1088"
      ]
     },
     "execution_count": 6,
     "metadata": {},
     "output_type": "execute_result"
    }
   ],
   "source": [
    "1216 - 128"
   ]
  },
  {
   "cell_type": "code",
   "execution_count": 7,
   "id": "dcb29160",
   "metadata": {},
   "outputs": [
    {
     "data": {
      "text/plain": [
       "900"
      ]
     },
     "execution_count": 7,
     "metadata": {},
     "output_type": "execute_result"
    }
   ],
   "source": [
    "len(df_fp[df_fp['songtype_id']==4])"
   ]
  },
  {
   "cell_type": "code",
   "execution_count": 8,
   "id": "6ff6cbe7",
   "metadata": {},
   "outputs": [
    {
     "data": {
      "text/plain": [
       "0.8634709499309826"
      ]
     },
     "execution_count": 8,
     "metadata": {},
     "output_type": "execute_result"
    }
   ],
   "source": [
    "(7781 - 900)/7969"
   ]
  },
  {
   "cell_type": "code",
   "execution_count": 9,
   "id": "1923f07a",
   "metadata": {},
   "outputs": [
    {
     "data": {
      "text/plain": [
       "6881"
      ]
     },
     "execution_count": 9,
     "metadata": {},
     "output_type": "execute_result"
    }
   ],
   "source": [
    "(7781 - 900)"
   ]
  },
  {
   "cell_type": "code",
   "execution_count": 10,
   "id": "c4057068",
   "metadata": {},
   "outputs": [
    {
     "data": {
      "text/plain": [
       "7969"
      ]
     },
     "execution_count": 10,
     "metadata": {},
     "output_type": "execute_result"
    }
   ],
   "source": [
    "8997 - 128 - 900"
   ]
  },
  {
   "cell_type": "code",
   "execution_count": 80,
   "id": "976bc053",
   "metadata": {},
   "outputs": [],
   "source": [
    "spectrograms = pd.read_csv('/home/birdsong/processed_data/spectrograms/spectrograms.csv').values\n",
    "labels = pd.read_csv('/home/birdsong/processed_data/spectrograms/labels.csv').values[:,1]\n",
    "probabilities = pd.read_csv('/home/birdsong/processed_data/spectrograms/probabilities.csv').values"
   ]
  },
  {
   "cell_type": "code",
   "execution_count": 81,
   "id": "a52c6b96",
   "metadata": {},
   "outputs": [],
   "source": [
    "spec = spectrograms[0]\n"
   ]
  },
  {
   "cell_type": "code",
   "execution_count": 82,
   "id": "78d9a83a",
   "metadata": {},
   "outputs": [
    {
     "data": {
      "text/plain": [
       "(8997, 1409)"
      ]
     },
     "execution_count": 82,
     "metadata": {},
     "output_type": "execute_result"
    }
   ],
   "source": [
    "spectrograms.shape"
   ]
  },
  {
   "cell_type": "code",
   "execution_count": 13,
   "id": "5e5275e4",
   "metadata": {},
   "outputs": [
    {
     "data": {
      "text/plain": [
       "(7969,)"
      ]
     },
     "execution_count": 13,
     "metadata": {},
     "output_type": "execute_result"
    }
   ],
   "source": [
    "labels.shape"
   ]
  },
  {
   "cell_type": "code",
   "execution_count": 14,
   "id": "dcb0a3d7",
   "metadata": {},
   "outputs": [
    {
     "data": {
      "text/plain": [
       "(7969, 25)"
      ]
     },
     "execution_count": 14,
     "metadata": {},
     "output_type": "execute_result"
    }
   ],
   "source": [
    "probabilities.shape"
   ]
  },
  {
   "cell_type": "code",
   "execution_count": 15,
   "id": "551a9d16",
   "metadata": {},
   "outputs": [
    {
     "data": {
      "text/plain": [
       "8997"
      ]
     },
     "execution_count": 15,
     "metadata": {},
     "output_type": "execute_result"
    }
   ],
   "source": [
    "1216 +7781"
   ]
  },
  {
   "cell_type": "code",
   "execution_count": 84,
   "id": "73b442ab",
   "metadata": {},
   "outputs": [
    {
     "name": "stdout",
     "output_type": "stream",
     "text": [
      "(7969, 1)\n"
     ]
    },
    {
     "ename": "ValueError",
     "evalue": "all the input array dimensions except for the concatenation axis must match exactly, but along dimension 0, the array at index 0 has size 8997 and the array at index 1 has size 7969",
     "output_type": "error",
     "traceback": [
      "\u001b[0;31m---------------------------------------------------------------------------\u001b[0m",
      "\u001b[0;31mValueError\u001b[0m                                Traceback (most recent call last)",
      "Cell \u001b[0;32mIn[84], line 5\u001b[0m\n\u001b[1;32m      3\u001b[0m arr \u001b[38;5;241m=\u001b[39m np\u001b[38;5;241m.\u001b[39mconcatenate((arr1, arr0))\u001b[38;5;241m.\u001b[39mreshape(\u001b[38;5;241m-\u001b[39m\u001b[38;5;241m1\u001b[39m,\u001b[38;5;241m1\u001b[39m)\n\u001b[1;32m      4\u001b[0m \u001b[38;5;28mprint\u001b[39m(arr\u001b[38;5;241m.\u001b[39mshape)\n\u001b[0;32m----> 5\u001b[0m spec_tpfp \u001b[38;5;241m=\u001b[39m \u001b[43mnp\u001b[49m\u001b[38;5;241;43m.\u001b[39;49m\u001b[43mconcatenate\u001b[49m\u001b[43m(\u001b[49m\u001b[43m(\u001b[49m\u001b[43mspectrograms\u001b[49m\u001b[43m,\u001b[49m\u001b[43m \u001b[49m\u001b[43marr\u001b[49m\u001b[43m)\u001b[49m\u001b[43m,\u001b[49m\u001b[43m \u001b[49m\u001b[43maxis\u001b[49m\u001b[38;5;241;43m=\u001b[39;49m\u001b[38;5;241;43m1\u001b[39;49m\u001b[43m)\u001b[49m\n",
      "File \u001b[0;32m<__array_function__ internals>:200\u001b[0m, in \u001b[0;36mconcatenate\u001b[0;34m(*args, **kwargs)\u001b[0m\n",
      "\u001b[0;31mValueError\u001b[0m: all the input array dimensions except for the concatenation axis must match exactly, but along dimension 0, the array at index 0 has size 8997 and the array at index 1 has size 7969"
     ]
    }
   ],
   "source": [
    "arr0 = np.zeros(6881, dtype=int)\n",
    "arr1 = np.ones(1088, dtype=int)\n",
    "arr = np.concatenate((arr1, arr0)).reshape(-1,1)\n",
    "print(arr.shape)\n",
    "spec_tpfp = np.concatenate((spectrograms, arr), axis=1)"
   ]
  },
  {
   "cell_type": "code",
   "execution_count": 17,
   "id": "a625431c",
   "metadata": {},
   "outputs": [
    {
     "name": "stdout",
     "output_type": "stream",
     "text": [
      "(7969, 4162)\n"
     ]
    }
   ],
   "source": [
    "print(spec_tpfp.shape)"
   ]
  },
  {
   "cell_type": "code",
   "execution_count": 18,
   "id": "cde253b3",
   "metadata": {},
   "outputs": [
    {
     "data": {
      "text/plain": [
       "(7969, 4161)"
      ]
     },
     "execution_count": 18,
     "metadata": {},
     "output_type": "execute_result"
    }
   ],
   "source": [
    "spec_tpfp[:,:-1].shape"
   ]
  },
  {
   "cell_type": "code",
   "execution_count": 19,
   "id": "abdb9ed9",
   "metadata": {},
   "outputs": [
    {
     "data": {
      "text/plain": [
       "(7969,)"
      ]
     },
     "execution_count": 19,
     "metadata": {},
     "output_type": "execute_result"
    }
   ],
   "source": [
    "spec_tpfp[:,-1].shape"
   ]
  },
  {
   "cell_type": "code",
   "execution_count": 20,
   "id": "05304547",
   "metadata": {},
   "outputs": [],
   "source": [
    "X_train, X_test, y_train, y_test = train_test_split(spec_tpfp[:,:-1], \n",
    "                                                    labels,\n",
    "                                                    shuffle=True,\n",
    "                                                    test_size = 0.15, \n",
    "                                                    random_state = 431,\n",
    "                                                    stratify = spec_tpfp[:,-1])\n",
    "\n",
    "#### Need to stratify wrt distrib of TP vs FP"
   ]
  },
  {
   "cell_type": "code",
   "execution_count": 21,
   "id": "5659f76e",
   "metadata": {},
   "outputs": [
    {
     "data": {
      "text/plain": [
       "array([14, 23, 12, ..., -1, -1, -1])"
      ]
     },
     "execution_count": 21,
     "metadata": {},
     "output_type": "execute_result"
    }
   ],
   "source": [
    "labels"
   ]
  },
  {
   "cell_type": "code",
   "execution_count": 22,
   "id": "b446c9f3",
   "metadata": {},
   "outputs": [
    {
     "name": "stderr",
     "output_type": "stream",
     "text": [
      "/home/birdsong/.local/lib/python3.11/site-packages/sklearn/linear_model/_logistic.py:458: ConvergenceWarning: lbfgs failed to converge (status=1):\n",
      "STOP: TOTAL NO. of ITERATIONS REACHED LIMIT.\n",
      "\n",
      "Increase the number of iterations (max_iter) or scale the data as shown in:\n",
      "    https://scikit-learn.org/stable/modules/preprocessing.html\n",
      "Please also refer to the documentation for alternative solver options:\n",
      "    https://scikit-learn.org/stable/modules/linear_model.html#logistic-regression\n",
      "  n_iter_i = _check_optimize_result(\n"
     ]
    }
   ],
   "source": [
    "scaler = StandardScaler().fit(X_train)\n",
    "X_train_scaled = scaler.transform(X_train)\n",
    "reg = LogisticRegression(max_iter=1000).fit(X_train_scaled, y_train)\n",
    "\n",
    "X_test_scaled = scaler.transform(X_test)"
   ]
  },
  {
   "cell_type": "code",
   "execution_count": 23,
   "id": "507d87c4",
   "metadata": {},
   "outputs": [
    {
     "data": {
      "text/plain": [
       "6773"
      ]
     },
     "execution_count": 23,
     "metadata": {},
     "output_type": "execute_result"
    }
   ],
   "source": [
    "len(y_train)"
   ]
  },
  {
   "cell_type": "code",
   "execution_count": 24,
   "id": "032c3cc9",
   "metadata": {},
   "outputs": [],
   "source": [
    "y_test_pred = reg.predict(X_test_scaled)"
   ]
  },
  {
   "cell_type": "code",
   "execution_count": 25,
   "id": "aef0f142",
   "metadata": {
    "scrolled": true
   },
   "outputs": [
    {
     "data": {
      "text/plain": [
       "(1084, 1196, 0.9063545150501672)"
      ]
     },
     "execution_count": 25,
     "metadata": {},
     "output_type": "execute_result"
    }
   ],
   "source": [
    "correct = np.count_nonzero(y_test == y_test_pred)\n",
    "all = len(y_test)\n",
    "correct, all, correct/all"
   ]
  },
  {
   "cell_type": "code",
   "execution_count": 27,
   "id": "4b1bd483",
   "metadata": {},
   "outputs": [
    {
     "data": {
      "text/plain": [
       "(6772, 6773, 0.9998523549387273)"
      ]
     },
     "execution_count": 27,
     "metadata": {},
     "output_type": "execute_result"
    }
   ],
   "source": [
    "y_train_pred = reg.predict(X_train_scaled)\n",
    "correct = np.count_nonzero(y_train == y_train_pred)\n",
    "all = len(y_train)\n",
    "correct, all, correct/all"
   ]
  },
  {
   "cell_type": "markdown",
   "id": "cdefbd7d",
   "metadata": {},
   "source": [
    "### Trying out some classifiers with and without PCA preprocessing"
   ]
  },
  {
   "cell_type": "markdown",
   "id": "bef96ba2",
   "metadata": {},
   "source": [
    "##### KNN with PCA"
   ]
  },
  {
   "cell_type": "code",
   "execution_count": 28,
   "id": "7f64ce36",
   "metadata": {},
   "outputs": [],
   "source": [
    "from sklearn.neighbors import KNeighborsClassifier\n",
    "from sklearn.model_selection import KFold\n",
    "from sklearn.metrics import accuracy_score\n",
    "from sklearn.decomposition import PCA"
   ]
  },
  {
   "cell_type": "code",
   "execution_count": 29,
   "id": "51a44a93",
   "metadata": {},
   "outputs": [],
   "source": [
    "## Make the kfold object here\n",
    "kfold = KFold(n_splits = 5,\n",
    "              shuffle=True,\n",
    "              random_state= 423)"
   ]
  },
  {
   "cell_type": "code",
   "execution_count": 30,
   "id": "fa99efa2",
   "metadata": {},
   "outputs": [],
   "source": [
    "## Make the PCA Pipeline here\n",
    "pipe = Pipeline([('scale', StandardScaler()),\n",
    "                 ('pca', PCA(2))])\n",
    "\n",
    "## Fit the PCA here\n",
    "pipe.fit(X_train)\n",
    "\n",
    "## Get the transformed training data here\n",
    "## Store it in the variable fit provided below\n",
    "fit = pipe.transform(X_train)"
   ]
  },
  {
   "cell_type": "code",
   "execution_count": 31,
   "id": "ea022216",
   "metadata": {},
   "outputs": [],
   "source": [
    "from matplotlib.pyplot import cm"
   ]
  },
  {
   "cell_type": "code",
   "execution_count": 74,
   "id": "e90f2f5d",
   "metadata": {
    "scrolled": true
   },
   "outputs": [
    {
     "name": "stdout",
     "output_type": "stream",
     "text": [
      "CV Split 0\n",
      "CV Split 1\n",
      "CV Split 2\n",
      "CV Split 3\n",
      "CV Split 4\n"
     ]
    }
   ],
   "source": [
    "ks = range(1, 11)\n",
    "comps = range(2,30)\n",
    "n_splits = 5\n",
    "## Makes a 3-D array of to record the accuracies in\n",
    "pca_accs = np.zeros((n_splits, len(comps), len(ks)))\n",
    "pca_accs2 = np.zeros((n_splits, len(comps), len(ks)))\n",
    "\n",
    "i = 0\n",
    "for train_index, test_index in kfold.split(X_train, y_train):\n",
    "    ## Keeps track of the cross validation split you are on\n",
    "    ## This loop can be a little long\n",
    "    print(\"CV Split\", i)\n",
    "    tt = X_train[train_index]\n",
    "    ho = X_train[test_index]\n",
    "    y_tt = y_train[train_index]\n",
    "    y_ho = y_train[test_index]\n",
    "    \n",
    "    j = 0\n",
    "    for n_comps in comps:\n",
    "        ## Make the PCA pipeline here\n",
    "        pca_pipe = Pipeline([('scale', StandardScaler()),\n",
    "                            ('pca', PCA(n_comps))])\n",
    "        \n",
    "        ## Fit and then get the PCA transformed tt data here\n",
    "        pca_tt = pca_pipe.fit_transform(tt)\n",
    "        \n",
    "        ## Get the transformed holdout data here\n",
    "        pca_ho = pca_pipe.transform(ho)\n",
    "        \n",
    "        k = 0\n",
    "        for neighbors in ks:\n",
    "            knn = KNeighborsClassifier(neighbors)\n",
    "            \n",
    "            ## Fit on the tt data\n",
    "            knn.fit(pca_tt, y_tt)\n",
    "\n",
    "            ## Get the holdout prediction\n",
    "            pred = knn.predict(pca_ho)\n",
    "\n",
    "            pca_accs[i,j,k] = accuracy_score(y_ho, pred)\n",
    "            pca_accs2[i,j,k] = accuracy_score(y_tt, knn.predict(pca_tt))\n",
    "            \n",
    "            k = k + 1\n",
    "        j = j + 1\n",
    "    i = i + 1"
   ]
  },
  {
   "cell_type": "markdown",
   "id": "7c204c16",
   "metadata": {},
   "source": [
    "##### The above CV analysis with KNN takes ~10 min"
   ]
  },
  {
   "cell_type": "code",
   "execution_count": 75,
   "id": "bbe2cf40",
   "metadata": {},
   "outputs": [
    {
     "name": "stdout",
     "output_type": "stream",
     "text": [
      "The pair with the highest AVG CV Accuracy was k = 7 and number of components = 27\n",
      "The highest AVG CV Accuracy was 0.8672674649937046\n",
      "The AVG CV training Accuracy for this pair was 0.8728775698700639\n"
     ]
    }
   ],
   "source": [
    "## This code will print out the best # components - k combo for you\n",
    "## It also prints out the highest AVG CV Accuracy\n",
    "max_index = np.unravel_index(np.argmax(np.mean(pca_accs, axis=0), axis=None), \n",
    "                                       np.mean(pca_accs, axis=0).shape)\n",
    "\n",
    "\n",
    "print(\"The pair with the highest AVG CV Accuracy was\",\n",
    "         \"k =\", ks[max_index[1]],\n",
    "         \"and number of components =\", np.round(comps[max_index[0]],2))\n",
    "print(\"The highest AVG CV Accuracy was\", np.max(np.mean(pca_accs, axis=0)))\n",
    "\n",
    "print(\"The AVG CV training Accuracy for this pair was\", np.mean(pca_accs2[:,max_index[0], max_index[1]]))"
   ]
  },
  {
   "cell_type": "markdown",
   "id": "87092941",
   "metadata": {},
   "source": [
    "##### It looks like the ideal PCA dimension to reduce to was the highest we tested..."
   ]
  },
  {
   "cell_type": "markdown",
   "id": "ddb61606",
   "metadata": {},
   "source": [
    "##### KNN without PCA (since it liked the higher dimension anyways)"
   ]
  },
  {
   "cell_type": "code",
   "execution_count": 76,
   "id": "d8250801",
   "metadata": {},
   "outputs": [
    {
     "name": "stdout",
     "output_type": "stream",
     "text": [
      "CV Split 0\n",
      "Num Neighbors = 1\n",
      "1.4076030254364014\n",
      "Num Neighbors = 2\n",
      "1.307558298110962\n",
      "Num Neighbors = 3\n",
      "1.406339168548584\n",
      "Num Neighbors = 4\n",
      "1.2950439453125\n",
      "Num Neighbors = 5\n",
      "1.3648946285247803\n",
      "Num Neighbors = 6\n",
      "1.2574679851531982\n",
      "Num Neighbors = 7\n",
      "1.4088208675384521\n",
      "Num Neighbors = 8\n",
      "1.4468560218811035\n",
      "Num Neighbors = 9\n",
      "1.4507479667663574\n",
      "Num Neighbors = 10\n",
      "1.4916636943817139\n",
      "Num Neighbors = 11\n",
      "1.4090452194213867\n",
      "Num Neighbors = 12\n",
      "1.3121085166931152\n",
      "Num Neighbors = 13\n",
      "1.4511187076568604\n",
      "Num Neighbors = 14\n",
      "1.4716544151306152\n",
      "Num Neighbors = 15\n",
      "1.4130501747131348\n",
      "Num Neighbors = 16\n",
      "1.3074095249176025\n",
      "Num Neighbors = 17\n",
      "1.4632441997528076\n",
      "Num Neighbors = 18\n",
      "1.4221079349517822\n",
      "Num Neighbors = 19\n",
      "1.3811593055725098\n",
      "Num Neighbors = 20\n",
      "1.291818618774414\n",
      "Num Neighbors = 21\n",
      "1.3915891647338867\n",
      "Num Neighbors = 22\n",
      "1.3298687934875488\n",
      "Num Neighbors = 23\n",
      "1.464447259902954\n",
      "Num Neighbors = 24\n",
      "1.3389487266540527\n",
      "Num Neighbors = 25\n",
      "1.3565983772277832\n",
      "Num Neighbors = 26\n",
      "1.4059550762176514\n",
      "Num Neighbors = 27\n",
      "1.4505186080932617\n",
      "Num Neighbors = 28\n",
      "1.404998779296875\n",
      "Num Neighbors = 29\n",
      "1.485398292541504\n",
      "CV Split 1\n",
      "Num Neighbors = 1\n",
      "1.3681085109710693\n",
      "Num Neighbors = 2\n",
      "1.3228724002838135\n",
      "Num Neighbors = 3\n",
      "1.2872722148895264\n",
      "Num Neighbors = 4\n",
      "1.3875882625579834\n",
      "Num Neighbors = 5\n",
      "1.2876763343811035\n",
      "Num Neighbors = 6\n",
      "1.3618049621582031\n",
      "Num Neighbors = 7\n",
      "1.3529648780822754\n",
      "Num Neighbors = 8\n",
      "1.319962978363037\n",
      "Num Neighbors = 9\n",
      "1.4098753929138184\n",
      "Num Neighbors = 10\n",
      "1.3625538349151611\n",
      "Num Neighbors = 11\n",
      "1.372809886932373\n",
      "Num Neighbors = 12\n",
      "1.3341033458709717\n",
      "Num Neighbors = 13\n",
      "1.412233591079712\n",
      "Num Neighbors = 14\n",
      "1.3918652534484863\n",
      "Num Neighbors = 15\n",
      "1.3308091163635254\n",
      "Num Neighbors = 16\n",
      "1.454993724822998\n",
      "Num Neighbors = 17\n",
      "1.3595786094665527\n",
      "Num Neighbors = 18\n",
      "1.4336621761322021\n",
      "Num Neighbors = 19\n",
      "1.4688329696655273\n",
      "Num Neighbors = 20\n",
      "1.4504644870758057\n",
      "Num Neighbors = 21\n",
      "1.3422048091888428\n",
      "Num Neighbors = 22\n",
      "1.3787386417388916\n",
      "Num Neighbors = 23\n",
      "1.3396310806274414\n",
      "Num Neighbors = 24\n",
      "1.3425350189208984\n",
      "Num Neighbors = 25\n",
      "1.4342379570007324\n",
      "Num Neighbors = 26\n",
      "1.5044279098510742\n",
      "Num Neighbors = 27\n",
      "1.3776133060455322\n",
      "Num Neighbors = 28\n",
      "1.4374768733978271\n",
      "Num Neighbors = 29\n",
      "1.3297572135925293\n",
      "CV Split 2\n",
      "Num Neighbors = 1\n",
      "1.3309495449066162\n",
      "Num Neighbors = 2\n",
      "1.3417949676513672\n",
      "Num Neighbors = 3\n",
      "1.3351068496704102\n",
      "Num Neighbors = 4\n",
      "1.4378082752227783\n",
      "Num Neighbors = 5\n",
      "1.3956682682037354\n",
      "Num Neighbors = 6\n",
      "1.3778412342071533\n",
      "Num Neighbors = 7\n",
      "1.3191256523132324\n",
      "Num Neighbors = 8\n",
      "1.3962492942810059\n",
      "Num Neighbors = 9\n",
      "1.3266265392303467\n",
      "Num Neighbors = 10\n",
      "1.4145927429199219\n",
      "Num Neighbors = 11\n",
      "1.3429603576660156\n",
      "Num Neighbors = 12\n",
      "1.4556939601898193\n",
      "Num Neighbors = 13\n",
      "1.374084711074829\n",
      "Num Neighbors = 14\n",
      "1.3633220195770264\n",
      "Num Neighbors = 15\n",
      "1.4015004634857178\n",
      "Num Neighbors = 16\n",
      "1.3686399459838867\n",
      "Num Neighbors = 17\n",
      "1.340057373046875\n",
      "Num Neighbors = 18\n",
      "1.4381494522094727\n",
      "Num Neighbors = 19\n",
      "1.3781049251556396\n",
      "Num Neighbors = 20\n",
      "1.4059820175170898\n",
      "Num Neighbors = 21\n",
      "1.3686950206756592\n",
      "Num Neighbors = 22\n",
      "1.3440439701080322\n",
      "Num Neighbors = 23\n",
      "1.3245587348937988\n",
      "Num Neighbors = 24\n",
      "1.4094440937042236\n",
      "Num Neighbors = 25\n",
      "1.3315067291259766\n",
      "Num Neighbors = 26\n",
      "1.4258975982666016\n",
      "Num Neighbors = 27\n",
      "1.40919828414917\n",
      "Num Neighbors = 28\n",
      "1.384573221206665\n",
      "Num Neighbors = 29\n",
      "1.3019967079162598\n",
      "CV Split 3\n",
      "Num Neighbors = 1\n",
      "1.3661751747131348\n",
      "Num Neighbors = 2\n",
      "1.323967456817627\n",
      "Num Neighbors = 3\n",
      "1.4398846626281738\n",
      "Num Neighbors = 4\n",
      "1.362147331237793\n",
      "Num Neighbors = 5\n",
      "1.4158594608306885\n",
      "Num Neighbors = 6\n",
      "1.406851053237915\n",
      "Num Neighbors = 7\n",
      "1.4060132503509521\n",
      "Num Neighbors = 8\n",
      "1.342010259628296\n",
      "Num Neighbors = 9\n",
      "1.4309096336364746\n",
      "Num Neighbors = 10\n",
      "1.3815832138061523\n",
      "Num Neighbors = 11\n",
      "1.4788951873779297\n",
      "Num Neighbors = 12\n",
      "1.3724091053009033\n",
      "Num Neighbors = 13\n",
      "1.4786949157714844\n",
      "Num Neighbors = 14\n",
      "1.3790555000305176\n",
      "Num Neighbors = 15\n",
      "1.4253668785095215\n",
      "Num Neighbors = 16\n",
      "1.4256582260131836\n",
      "Num Neighbors = 17\n",
      "1.3418195247650146\n",
      "Num Neighbors = 18\n",
      "1.275679588317871\n",
      "Num Neighbors = 19\n",
      "1.3951551914215088\n",
      "Num Neighbors = 20\n",
      "1.3815019130706787\n",
      "Num Neighbors = 21\n",
      "1.4008736610412598\n",
      "Num Neighbors = 22\n",
      "1.3118672370910645\n",
      "Num Neighbors = 23\n",
      "1.4120471477508545\n",
      "Num Neighbors = 24\n",
      "1.343390941619873\n",
      "Num Neighbors = 25\n",
      "1.4607200622558594\n",
      "Num Neighbors = 26\n",
      "1.3444664478302002\n",
      "Num Neighbors = 27\n",
      "1.4388229846954346\n",
      "Num Neighbors = 28\n",
      "1.3874428272247314\n",
      "Num Neighbors = 29\n",
      "1.4086925983428955\n",
      "CV Split 4\n",
      "Num Neighbors = 1\n",
      "1.327993392944336\n",
      "Num Neighbors = 2\n",
      "1.4210035800933838\n",
      "Num Neighbors = 3\n",
      "1.3003809452056885\n",
      "Num Neighbors = 4\n",
      "1.3737523555755615\n",
      "Num Neighbors = 5\n",
      "1.2815864086151123\n",
      "Num Neighbors = 6\n",
      "1.4087843894958496\n",
      "Num Neighbors = 7\n",
      "1.3631081581115723\n",
      "Num Neighbors = 8\n",
      "1.361377239227295\n",
      "Num Neighbors = 9\n",
      "1.3288545608520508\n",
      "Num Neighbors = 10\n",
      "1.393242597579956\n",
      "Num Neighbors = 11\n",
      "1.4463298320770264\n",
      "Num Neighbors = 12\n",
      "1.402461290359497\n",
      "Num Neighbors = 13\n",
      "1.396674633026123\n",
      "Num Neighbors = 14\n",
      "1.462043285369873\n",
      "Num Neighbors = 15\n",
      "1.293311357498169\n",
      "Num Neighbors = 16\n",
      "1.3726093769073486\n",
      "Num Neighbors = 17\n",
      "1.3392949104309082\n",
      "Num Neighbors = 18\n",
      "1.462841272354126\n",
      "Num Neighbors = 19\n",
      "1.388883352279663\n",
      "Num Neighbors = 20\n",
      "1.393075704574585\n",
      "Num Neighbors = 21\n",
      "1.4497663974761963\n",
      "Num Neighbors = 22\n",
      "1.4029364585876465\n",
      "Num Neighbors = 23\n",
      "1.2872557640075684\n",
      "Num Neighbors = 24\n",
      "1.4763562679290771\n",
      "Num Neighbors = 25\n",
      "1.3488304615020752\n",
      "Num Neighbors = 26\n",
      "1.4767706394195557\n",
      "Num Neighbors = 27\n",
      "1.443990707397461\n",
      "Num Neighbors = 28\n",
      "1.4952845573425293\n",
      "Num Neighbors = 29\n",
      "1.4177498817443848\n",
      "201.01066327095032\n"
     ]
    }
   ],
   "source": [
    "ks = range(1, 30)\n",
    "n_splits = 5\n",
    "\n",
    "st = time.time()\n",
    "\n",
    "## Makes a 3-D array of to record the accuracies in\n",
    "knn_accs = np.zeros((n_splits, len(ks)))\n",
    "knn_accs2 = np.zeros((n_splits, len(ks)))\n",
    "\n",
    "i = 0\n",
    "for train_index, test_index in kfold.split(X_train, y_train):\n",
    "    ## Keeps track of the cross validation split you are on\n",
    "    ## This loop can be a little long\n",
    "    print(\"CV Split\", i)\n",
    "    tt = X_train[train_index]\n",
    "    ho = X_train[test_index]\n",
    "    y_tt = y_train[train_index]\n",
    "    y_ho = y_train[test_index]\n",
    "    \n",
    "    j = 0\n",
    "    for neighbors in ks:\n",
    "        dimst = time.time()\n",
    "        knn = KNeighborsClassifier(neighbors)\n",
    "\n",
    "        ## Fit on the tt data\n",
    "        knn.fit(tt, y_tt)\n",
    "\n",
    "        ## Get the holdout prediction\n",
    "        pred = knn.predict(ho)\n",
    "\n",
    "        knn_accs[i,j] = accuracy_score(y_ho, pred)\n",
    "        knn_accs2[i,j] = accuracy_score(y_tt, knn.predict(tt))\n",
    "        \n",
    "        j = j + 1\n",
    "        dimtime = time.time() - dimst\n",
    "        print(\"Num Neighbors = %s\" % neighbors)\n",
    "        print(dimtime)\n",
    "    i = i + 1\n",
    "et = time.time() - st\n",
    "print(et)"
   ]
  },
  {
   "cell_type": "code",
   "execution_count": 77,
   "id": "a9664a6d",
   "metadata": {},
   "outputs": [
    {
     "name": "stdout",
     "output_type": "stream",
     "text": [
      "(5, 29)\n",
      "The k with the highest AVG CV Accuracy was k = 1\n",
      "The highest AVG CV Accuracy was 0.8991589768187194\n",
      "The AVG CV training Accuracy for this pair was 1.0\n"
     ]
    }
   ],
   "source": [
    "## This code will print out the best # components - k combo for you\n",
    "## It also prints out the highest AVG CV Accuracy\n",
    "max_index = np.argmax(np.mean(knn_accs, axis=0))\n",
    "\n",
    "print(knn_accs.shape)\n",
    "\n",
    "print(\"The k with the highest AVG CV Accuracy was\",\n",
    "         \"k =\", ks[max_index])\n",
    "print(\"The highest AVG CV Accuracy was\", np.max(np.mean(knn_accs, axis=0)))\n",
    "\n",
    "print(\"The AVG CV training Accuracy for this pair was\", np.mean(knn_accs2[:,max_index]))"
   ]
  },
  {
   "cell_type": "markdown",
   "id": "fce79b55",
   "metadata": {},
   "source": [
    "#### Let's try out some small NN's:"
   ]
  },
  {
   "cell_type": "code",
   "execution_count": 34,
   "id": "d273236d",
   "metadata": {},
   "outputs": [],
   "source": [
    "from sklearn.neural_network import MLPClassifier"
   ]
  },
  {
   "cell_type": "code",
   "execution_count": 35,
   "id": "066aeaa2",
   "metadata": {},
   "outputs": [
    {
     "data": {
      "text/plain": [
       "0.8637123745819398"
      ]
     },
     "execution_count": 35,
     "metadata": {},
     "output_type": "execute_result"
    }
   ],
   "source": [
    "mlp = MLPClassifier(hidden_layer_sizes=(5,5,),\n",
    "                    max_iter=10000)\n",
    "\n",
    "mlp.fit(X_train, y_train)\n",
    "\n",
    "accuracy_score(mlp.predict(X_test), y_test)"
   ]
  },
  {
   "cell_type": "code",
   "execution_count": 36,
   "id": "c77de129",
   "metadata": {},
   "outputs": [
    {
     "data": {
      "text/plain": [
       "0.8637123745819398"
      ]
     },
     "execution_count": 36,
     "metadata": {},
     "output_type": "execute_result"
    }
   ],
   "source": [
    "mlp = MLPClassifier(hidden_layer_sizes=(8,5,),\n",
    "                    max_iter=10000)\n",
    "\n",
    "mlp.fit(X_train, y_train)\n",
    "\n",
    "accuracy_score(mlp.predict(X_test), y_test)"
   ]
  },
  {
   "cell_type": "code",
   "execution_count": 37,
   "id": "99b7462b",
   "metadata": {},
   "outputs": [
    {
     "data": {
      "text/plain": [
       "0.8662207357859532"
      ]
     },
     "execution_count": 37,
     "metadata": {},
     "output_type": "execute_result"
    }
   ],
   "source": [
    "mlp = MLPClassifier(hidden_layer_sizes=(8,8,5,),\n",
    "                    max_iter=10000)\n",
    "\n",
    "mlp.fit(X_train, y_train)\n",
    "\n",
    "accuracy_score(mlp.predict(X_test), y_test)"
   ]
  },
  {
   "cell_type": "code",
   "execution_count": 38,
   "id": "5755a1bd",
   "metadata": {},
   "outputs": [
    {
     "data": {
      "text/plain": [
       "0.8637123745819398"
      ]
     },
     "execution_count": 38,
     "metadata": {},
     "output_type": "execute_result"
    }
   ],
   "source": [
    "mlp = MLPClassifier(hidden_layer_sizes=(100,50,5,),\n",
    "                    max_iter=10000)\n",
    "\n",
    "mlp.fit(X_train, y_train)\n",
    "\n",
    "accuracy_score(mlp.predict(X_test), y_test)"
   ]
  },
  {
   "cell_type": "markdown",
   "id": "b01798b7",
   "metadata": {},
   "source": [
    "##### Something must be weird with the MLPClassifier if the accuracy scores are all the same."
   ]
  },
  {
   "cell_type": "markdown",
   "id": "e99a4425",
   "metadata": {},
   "source": [
    "#### Random forests with CV:"
   ]
  },
  {
   "cell_type": "code",
   "execution_count": 39,
   "id": "42afbd82",
   "metadata": {},
   "outputs": [],
   "source": [
    "from sklearn.ensemble import RandomForestClassifier"
   ]
  },
  {
   "cell_type": "code",
   "execution_count": 40,
   "id": "7afde099",
   "metadata": {},
   "outputs": [
    {
     "name": "stdout",
     "output_type": "stream",
     "text": [
      "0 0 0\n",
      "0 1 0\n",
      "0 2 0\n",
      "0 3 0\n",
      "0 4 0\n",
      "0 5 0\n",
      "0 6 0\n",
      "0 7 0\n",
      "0 8 0\n",
      "0 9 0\n",
      "1 0 0\n",
      "1 1 0\n",
      "1 2 0\n",
      "1 3 0\n",
      "1 4 0\n",
      "1 5 0\n",
      "1 6 0\n",
      "1 7 0\n",
      "1 8 0\n",
      "1 9 0\n",
      "2 0 0\n",
      "2 1 0\n",
      "2 2 0\n",
      "2 3 0\n",
      "2 4 0\n",
      "2 5 0\n",
      "2 6 0\n",
      "2 7 0\n",
      "2 8 0\n",
      "2 9 0\n",
      "3 0 0\n",
      "3 1 0\n",
      "3 2 0\n",
      "3 3 0\n",
      "3 4 0\n",
      "3 5 0\n",
      "3 6 0\n",
      "3 7 0\n",
      "3 8 0\n",
      "3 9 0\n",
      "4 0 0\n",
      "4 1 0\n",
      "4 2 0\n",
      "4 3 0\n",
      "4 4 0\n",
      "4 5 0\n",
      "4 6 0\n",
      "4 7 0\n",
      "4 8 0\n",
      "4 9 0\n"
     ]
    }
   ],
   "source": [
    "## note this will take a minute or so to run\n",
    "\n",
    "max_depths = range(1, 11)\n",
    "n_trees = [100]\n",
    "\n",
    "## Make an array of zeros that will hold the cv accuracies\n",
    "rf_accs = np.zeros((5, len(max_depths), len(n_trees)))\n",
    "\n",
    "\n",
    "i = 0\n",
    "for train_index, test_index in kfold.split(X_train, y_train):\n",
    "    tt = X_train[train_index]\n",
    "    ho = X_train[test_index]\n",
    "    y_tt = y_train[train_index]\n",
    "    y_ho = y_train[test_index]\n",
    "    \n",
    "    ## Loop through the max_depth options\n",
    "    j = 0\n",
    "    for depth in max_depths:\n",
    "        ## Look through the number of estimators options\n",
    "        k = 0\n",
    "        for n_est in n_trees:\n",
    "            ## This will help you keep track of where the loop is\n",
    "            print(i,j,k)\n",
    "            ## Make the model object, include a random state\n",
    "            rf = RandomForestClassifier(max_depth=depth,\n",
    "                                        n_estimators=n_est,\n",
    "                                        max_samples = int(.8*len(tt)))\n",
    "            \n",
    "            ## Fit the model\n",
    "            rf.fit(tt, y_tt)\n",
    "            \n",
    "            ## predict on the holdout set\n",
    "            pred = rf.predict(ho)\n",
    "            \n",
    "            ## Record the accuracy\n",
    "            rf_accs[i,j,k] = accuracy_score(y_ho,  pred)\n",
    "            k = k + 1\n",
    "        j = j + 1\n",
    "    i = i + 1"
   ]
  },
  {
   "cell_type": "code",
   "execution_count": 41,
   "id": "2d5f750a",
   "metadata": {},
   "outputs": [
    {
     "name": "stdout",
     "output_type": "stream",
     "text": [
      "9 100\n"
     ]
    }
   ],
   "source": [
    "## This gives you the optimal depth and number of trees\n",
    "max_index = np.unravel_index(np.argmax(np.mean(rf_accs, axis=0), axis=None), \n",
    "                                       np.mean(rf_accs, axis=0).shape)\n",
    "\n",
    "\n",
    "print(max_depths[max_index[0]],n_trees[max_index[1]])"
   ]
  },
  {
   "cell_type": "code",
   "execution_count": 42,
   "id": "5e7fb004",
   "metadata": {},
   "outputs": [
    {
     "data": {
      "text/plain": [
       "0.8638709958739174"
      ]
     },
     "execution_count": 42,
     "metadata": {},
     "output_type": "execute_result"
    }
   ],
   "source": [
    "## What is the best avg cv accuracy? (Note here we only tried it out for 100 classifiers, hence the index of 0 below)\n",
    "np.mean(rf_accs, axis = 0)[max_depths[max_index[0]]-1, 0]"
   ]
  },
  {
   "cell_type": "markdown",
   "id": "263453c1",
   "metadata": {},
   "source": [
    "#### Bayes Classifiers:"
   ]
  },
  {
   "cell_type": "code",
   "execution_count": 43,
   "id": "7d1b41b9",
   "metadata": {},
   "outputs": [],
   "source": [
    "from sklearn.naive_bayes import GaussianNB\n",
    "from sklearn.discriminant_analysis import LinearDiscriminantAnalysis, QuadraticDiscriminantAnalysis"
   ]
  },
  {
   "cell_type": "code",
   "execution_count": null,
   "id": "b71b6e37",
   "metadata": {},
   "outputs": [],
   "source": []
  },
  {
   "cell_type": "code",
   "execution_count": 44,
   "id": "65d3a6df",
   "metadata": {},
   "outputs": [
    {
     "name": "stderr",
     "output_type": "stream",
     "text": [
      "/home/birdsong/.local/lib/python3.11/site-packages/sklearn/discriminant_analysis.py:926: UserWarning: Variables are collinear\n",
      "  warnings.warn(\"Variables are collinear\")\n",
      "/home/birdsong/.local/lib/python3.11/site-packages/sklearn/discriminant_analysis.py:926: UserWarning: Variables are collinear\n",
      "  warnings.warn(\"Variables are collinear\")\n",
      "/home/birdsong/.local/lib/python3.11/site-packages/sklearn/discriminant_analysis.py:926: UserWarning: Variables are collinear\n",
      "  warnings.warn(\"Variables are collinear\")\n",
      "/home/birdsong/.local/lib/python3.11/site-packages/sklearn/discriminant_analysis.py:926: UserWarning: Variables are collinear\n",
      "  warnings.warn(\"Variables are collinear\")\n",
      "/home/birdsong/.local/lib/python3.11/site-packages/sklearn/discriminant_analysis.py:926: UserWarning: Variables are collinear\n",
      "  warnings.warn(\"Variables are collinear\")\n"
     ]
    }
   ],
   "source": [
    "## Make a holder for the accuracies\n",
    "bayes_accs = np.zeros((5,3))\n",
    "\n",
    "i = 0\n",
    "for train_index, test_index in kfold.split(X_train, y_train):\n",
    "    tt = X_train[train_index]\n",
    "    ho = X_train[test_index]\n",
    "    y_tt = y_train[train_index]\n",
    "    y_ho = y_train[test_index]\n",
    "    \n",
    "    ## Linear Discriminant Analysis\n",
    "    lda = LinearDiscriminantAnalysis()\n",
    "    \n",
    "    lda.fit(tt, y_tt)\n",
    "    lda_pred = lda.predict(ho)\n",
    "    \n",
    "    ## Records the accuracies\n",
    "    bayes_accs[i, 0] = accuracy_score(y_ho,\n",
    "                                      lda_pred)\n",
    "    \n",
    "    ## Quadratic Discriminant Analysis\n",
    "    qda = QuadraticDiscriminantAnalysis()\n",
    "    \n",
    "    qda.fit(tt,y_tt)\n",
    "    \n",
    "    qda_pred = qda.predict(ho)\n",
    "    \n",
    "    ## Records the accuracies\n",
    "    bayes_accs[i, 1] = accuracy_score(y_ho,\n",
    "                                      qda_pred)\n",
    "    \n",
    "    \n",
    "    ## Gaussian Naive Bayes\n",
    "    nb = GaussianNB()\n",
    "    \n",
    "    nb.fit(tt, y_tt)\n",
    "    nb_pred = nb.predict(ho)\n",
    "    \n",
    "    ## Records the accuracies\n",
    "    bayes_accs[i, 2] = accuracy_score(y_ho,\n",
    "                                      nb_pred)\n",
    "    \n",
    "    i = i + 1"
   ]
  },
  {
   "cell_type": "code",
   "execution_count": 45,
   "id": "3329c2af",
   "metadata": {},
   "outputs": [
    {
     "data": {
      "text/plain": [
       "array([0.79019475, 0.86697117, 0.08858847])"
      ]
     },
     "execution_count": 45,
     "metadata": {},
     "output_type": "execute_result"
    }
   ],
   "source": [
    "## Print the Average CV Accuracies here\n",
    "np.mean(bayes_accs, axis=0)"
   ]
  },
  {
   "cell_type": "code",
   "execution_count": 46,
   "id": "dff80bd8",
   "metadata": {},
   "outputs": [
    {
     "data": {
      "text/plain": [
       "array([[0.79852399, 0.86642066, 0.07527675],\n",
       "       [0.79557196, 0.86715867, 0.09741697],\n",
       "       [0.78745387, 0.87158672, 0.08339483],\n",
       "       [0.79320532, 0.86262925, 0.07237814],\n",
       "       [0.77621861, 0.86706056, 0.11447563]])"
      ]
     },
     "execution_count": 46,
     "metadata": {},
     "output_type": "execute_result"
    }
   ],
   "source": [
    "bayes_accs"
   ]
  },
  {
   "cell_type": "markdown",
   "id": "cdffd88a",
   "metadata": {},
   "source": [
    "#### Log Reg with PCA first:"
   ]
  },
  {
   "cell_type": "code",
   "execution_count": 49,
   "id": "adb3d1b7",
   "metadata": {},
   "outputs": [],
   "source": [
    "import time"
   ]
  },
  {
   "cell_type": "code",
   "execution_count": 50,
   "id": "04bf9183",
   "metadata": {},
   "outputs": [
    {
     "name": "stdout",
     "output_type": "stream",
     "text": [
      "CV Split 0\n",
      "1\n",
      "75.3173816204071\n",
      "2\n",
      "74.08127331733704\n",
      "3\n",
      "74.68946123123169\n",
      "4\n",
      "74.618723154068\n",
      "5\n",
      "75.09591746330261\n",
      "6\n",
      "74.65824604034424\n",
      "7\n",
      "74.8973925113678\n",
      "8\n",
      "76.45788550376892\n",
      "9\n",
      "76.43886756896973\n",
      "10\n",
      "75.61822986602783\n",
      "11\n",
      "74.49753785133362\n",
      "12\n",
      "75.70071363449097\n",
      "13\n",
      "75.31284999847412\n",
      "14\n",
      "75.03169059753418\n",
      "15\n",
      "73.48317122459412\n",
      "16\n",
      "75.00130105018616\n",
      "17\n",
      "77.48497009277344\n",
      "18\n",
      "76.40409994125366\n",
      "19\n",
      "74.8336353302002\n",
      "20\n",
      "76.09874534606934\n",
      "21\n",
      "75.94515895843506\n",
      "22\n",
      "75.8968141078949\n",
      "23\n",
      "75.02217864990234\n",
      "24\n",
      "74.13532328605652\n"
     ]
    },
    {
     "ename": "KeyboardInterrupt",
     "evalue": "",
     "output_type": "error",
     "traceback": [
      "\u001b[0;31m---------------------------------------------------------------------------\u001b[0m",
      "\u001b[0;31mKeyboardInterrupt\u001b[0m                         Traceback (most recent call last)",
      "Cell \u001b[0;32mIn[50], line 37\u001b[0m\n\u001b[1;32m     33\u001b[0m \u001b[38;5;66;03m#Logistic Regression here:\u001b[39;00m\n\u001b[1;32m     34\u001b[0m log_reg \u001b[38;5;241m=\u001b[39m LogisticRegression(max_iter\u001b[38;5;241m=\u001b[39m\u001b[38;5;241m10000\u001b[39m,\n\u001b[1;32m     35\u001b[0m                              penalty\u001b[38;5;241m=\u001b[39m\u001b[38;5;28;01mNone\u001b[39;00m)\n\u001b[0;32m---> 37\u001b[0m \u001b[43mlog_reg\u001b[49m\u001b[38;5;241;43m.\u001b[39;49m\u001b[43mfit\u001b[49m\u001b[43m(\u001b[49m\u001b[43mtt\u001b[49m\u001b[43m,\u001b[49m\u001b[43m \u001b[49m\u001b[43my_tt\u001b[49m\u001b[43m)\u001b[49m\n\u001b[1;32m     39\u001b[0m pred \u001b[38;5;241m=\u001b[39m log_reg\u001b[38;5;241m.\u001b[39mpredict((ho))\n\u001b[1;32m     41\u001b[0m log_reg_pca_accs[i,j] \u001b[38;5;241m=\u001b[39m accuracy_score(y_ho, pred)\n",
      "File \u001b[0;32m~/.local/lib/python3.11/site-packages/sklearn/linear_model/_logistic.py:1291\u001b[0m, in \u001b[0;36mLogisticRegression.fit\u001b[0;34m(self, X, y, sample_weight)\u001b[0m\n\u001b[1;32m   1288\u001b[0m \u001b[38;5;28;01melse\u001b[39;00m:\n\u001b[1;32m   1289\u001b[0m     n_threads \u001b[38;5;241m=\u001b[39m \u001b[38;5;241m1\u001b[39m\n\u001b[0;32m-> 1291\u001b[0m fold_coefs_ \u001b[38;5;241m=\u001b[39m \u001b[43mParallel\u001b[49m\u001b[43m(\u001b[49m\u001b[43mn_jobs\u001b[49m\u001b[38;5;241;43m=\u001b[39;49m\u001b[38;5;28;43mself\u001b[39;49m\u001b[38;5;241;43m.\u001b[39;49m\u001b[43mn_jobs\u001b[49m\u001b[43m,\u001b[49m\u001b[43m \u001b[49m\u001b[43mverbose\u001b[49m\u001b[38;5;241;43m=\u001b[39;49m\u001b[38;5;28;43mself\u001b[39;49m\u001b[38;5;241;43m.\u001b[39;49m\u001b[43mverbose\u001b[49m\u001b[43m,\u001b[49m\u001b[43m \u001b[49m\u001b[43mprefer\u001b[49m\u001b[38;5;241;43m=\u001b[39;49m\u001b[43mprefer\u001b[49m\u001b[43m)\u001b[49m\u001b[43m(\u001b[49m\n\u001b[1;32m   1292\u001b[0m \u001b[43m    \u001b[49m\u001b[43mpath_func\u001b[49m\u001b[43m(\u001b[49m\n\u001b[1;32m   1293\u001b[0m \u001b[43m        \u001b[49m\u001b[43mX\u001b[49m\u001b[43m,\u001b[49m\n\u001b[1;32m   1294\u001b[0m \u001b[43m        \u001b[49m\u001b[43my\u001b[49m\u001b[43m,\u001b[49m\n\u001b[1;32m   1295\u001b[0m \u001b[43m        \u001b[49m\u001b[43mpos_class\u001b[49m\u001b[38;5;241;43m=\u001b[39;49m\u001b[43mclass_\u001b[49m\u001b[43m,\u001b[49m\n\u001b[1;32m   1296\u001b[0m \u001b[43m        \u001b[49m\u001b[43mCs\u001b[49m\u001b[38;5;241;43m=\u001b[39;49m\u001b[43m[\u001b[49m\u001b[43mC_\u001b[49m\u001b[43m]\u001b[49m\u001b[43m,\u001b[49m\n\u001b[1;32m   1297\u001b[0m \u001b[43m        \u001b[49m\u001b[43ml1_ratio\u001b[49m\u001b[38;5;241;43m=\u001b[39;49m\u001b[38;5;28;43mself\u001b[39;49m\u001b[38;5;241;43m.\u001b[39;49m\u001b[43ml1_ratio\u001b[49m\u001b[43m,\u001b[49m\n\u001b[1;32m   1298\u001b[0m \u001b[43m        \u001b[49m\u001b[43mfit_intercept\u001b[49m\u001b[38;5;241;43m=\u001b[39;49m\u001b[38;5;28;43mself\u001b[39;49m\u001b[38;5;241;43m.\u001b[39;49m\u001b[43mfit_intercept\u001b[49m\u001b[43m,\u001b[49m\n\u001b[1;32m   1299\u001b[0m \u001b[43m        \u001b[49m\u001b[43mtol\u001b[49m\u001b[38;5;241;43m=\u001b[39;49m\u001b[38;5;28;43mself\u001b[39;49m\u001b[38;5;241;43m.\u001b[39;49m\u001b[43mtol\u001b[49m\u001b[43m,\u001b[49m\n\u001b[1;32m   1300\u001b[0m \u001b[43m        \u001b[49m\u001b[43mverbose\u001b[49m\u001b[38;5;241;43m=\u001b[39;49m\u001b[38;5;28;43mself\u001b[39;49m\u001b[38;5;241;43m.\u001b[39;49m\u001b[43mverbose\u001b[49m\u001b[43m,\u001b[49m\n\u001b[1;32m   1301\u001b[0m \u001b[43m        \u001b[49m\u001b[43msolver\u001b[49m\u001b[38;5;241;43m=\u001b[39;49m\u001b[43msolver\u001b[49m\u001b[43m,\u001b[49m\n\u001b[1;32m   1302\u001b[0m \u001b[43m        \u001b[49m\u001b[43mmulti_class\u001b[49m\u001b[38;5;241;43m=\u001b[39;49m\u001b[43mmulti_class\u001b[49m\u001b[43m,\u001b[49m\n\u001b[1;32m   1303\u001b[0m \u001b[43m        \u001b[49m\u001b[43mmax_iter\u001b[49m\u001b[38;5;241;43m=\u001b[39;49m\u001b[38;5;28;43mself\u001b[39;49m\u001b[38;5;241;43m.\u001b[39;49m\u001b[43mmax_iter\u001b[49m\u001b[43m,\u001b[49m\n\u001b[1;32m   1304\u001b[0m \u001b[43m        \u001b[49m\u001b[43mclass_weight\u001b[49m\u001b[38;5;241;43m=\u001b[39;49m\u001b[38;5;28;43mself\u001b[39;49m\u001b[38;5;241;43m.\u001b[39;49m\u001b[43mclass_weight\u001b[49m\u001b[43m,\u001b[49m\n\u001b[1;32m   1305\u001b[0m \u001b[43m        \u001b[49m\u001b[43mcheck_input\u001b[49m\u001b[38;5;241;43m=\u001b[39;49m\u001b[38;5;28;43;01mFalse\u001b[39;49;00m\u001b[43m,\u001b[49m\n\u001b[1;32m   1306\u001b[0m \u001b[43m        \u001b[49m\u001b[43mrandom_state\u001b[49m\u001b[38;5;241;43m=\u001b[39;49m\u001b[38;5;28;43mself\u001b[39;49m\u001b[38;5;241;43m.\u001b[39;49m\u001b[43mrandom_state\u001b[49m\u001b[43m,\u001b[49m\n\u001b[1;32m   1307\u001b[0m \u001b[43m        \u001b[49m\u001b[43mcoef\u001b[49m\u001b[38;5;241;43m=\u001b[39;49m\u001b[43mwarm_start_coef_\u001b[49m\u001b[43m,\u001b[49m\n\u001b[1;32m   1308\u001b[0m \u001b[43m        \u001b[49m\u001b[43mpenalty\u001b[49m\u001b[38;5;241;43m=\u001b[39;49m\u001b[43mpenalty\u001b[49m\u001b[43m,\u001b[49m\n\u001b[1;32m   1309\u001b[0m \u001b[43m        \u001b[49m\u001b[43mmax_squared_sum\u001b[49m\u001b[38;5;241;43m=\u001b[39;49m\u001b[43mmax_squared_sum\u001b[49m\u001b[43m,\u001b[49m\n\u001b[1;32m   1310\u001b[0m \u001b[43m        \u001b[49m\u001b[43msample_weight\u001b[49m\u001b[38;5;241;43m=\u001b[39;49m\u001b[43msample_weight\u001b[49m\u001b[43m,\u001b[49m\n\u001b[1;32m   1311\u001b[0m \u001b[43m        \u001b[49m\u001b[43mn_threads\u001b[49m\u001b[38;5;241;43m=\u001b[39;49m\u001b[43mn_threads\u001b[49m\u001b[43m,\u001b[49m\n\u001b[1;32m   1312\u001b[0m \u001b[43m    \u001b[49m\u001b[43m)\u001b[49m\n\u001b[1;32m   1313\u001b[0m \u001b[43m    \u001b[49m\u001b[38;5;28;43;01mfor\u001b[39;49;00m\u001b[43m \u001b[49m\u001b[43mclass_\u001b[49m\u001b[43m,\u001b[49m\u001b[43m \u001b[49m\u001b[43mwarm_start_coef_\u001b[49m\u001b[43m \u001b[49m\u001b[38;5;129;43;01min\u001b[39;49;00m\u001b[43m \u001b[49m\u001b[38;5;28;43mzip\u001b[39;49m\u001b[43m(\u001b[49m\u001b[43mclasses_\u001b[49m\u001b[43m,\u001b[49m\u001b[43m \u001b[49m\u001b[43mwarm_start_coef\u001b[49m\u001b[43m)\u001b[49m\n\u001b[1;32m   1314\u001b[0m \u001b[43m\u001b[49m\u001b[43m)\u001b[49m\n\u001b[1;32m   1316\u001b[0m fold_coefs_, _, n_iter_ \u001b[38;5;241m=\u001b[39m \u001b[38;5;28mzip\u001b[39m(\u001b[38;5;241m*\u001b[39mfold_coefs_)\n\u001b[1;32m   1317\u001b[0m \u001b[38;5;28mself\u001b[39m\u001b[38;5;241m.\u001b[39mn_iter_ \u001b[38;5;241m=\u001b[39m np\u001b[38;5;241m.\u001b[39masarray(n_iter_, dtype\u001b[38;5;241m=\u001b[39mnp\u001b[38;5;241m.\u001b[39mint32)[:, \u001b[38;5;241m0\u001b[39m]\n",
      "File \u001b[0;32m~/.local/lib/python3.11/site-packages/sklearn/utils/parallel.py:63\u001b[0m, in \u001b[0;36mParallel.__call__\u001b[0;34m(self, iterable)\u001b[0m\n\u001b[1;32m     58\u001b[0m config \u001b[38;5;241m=\u001b[39m get_config()\n\u001b[1;32m     59\u001b[0m iterable_with_config \u001b[38;5;241m=\u001b[39m (\n\u001b[1;32m     60\u001b[0m     (_with_config(delayed_func, config), args, kwargs)\n\u001b[1;32m     61\u001b[0m     \u001b[38;5;28;01mfor\u001b[39;00m delayed_func, args, kwargs \u001b[38;5;129;01min\u001b[39;00m iterable\n\u001b[1;32m     62\u001b[0m )\n\u001b[0;32m---> 63\u001b[0m \u001b[38;5;28;01mreturn\u001b[39;00m \u001b[38;5;28;43msuper\u001b[39;49m\u001b[43m(\u001b[49m\u001b[43m)\u001b[49m\u001b[38;5;241;43m.\u001b[39;49m\u001b[38;5;21;43m__call__\u001b[39;49m\u001b[43m(\u001b[49m\u001b[43miterable_with_config\u001b[49m\u001b[43m)\u001b[49m\n",
      "File \u001b[0;32m~/.local/lib/python3.11/site-packages/joblib/parallel.py:1085\u001b[0m, in \u001b[0;36mParallel.__call__\u001b[0;34m(self, iterable)\u001b[0m\n\u001b[1;32m   1076\u001b[0m \u001b[38;5;28;01mtry\u001b[39;00m:\n\u001b[1;32m   1077\u001b[0m     \u001b[38;5;66;03m# Only set self._iterating to True if at least a batch\u001b[39;00m\n\u001b[1;32m   1078\u001b[0m     \u001b[38;5;66;03m# was dispatched. In particular this covers the edge\u001b[39;00m\n\u001b[0;32m   (...)\u001b[0m\n\u001b[1;32m   1082\u001b[0m     \u001b[38;5;66;03m# was very quick and its callback already dispatched all the\u001b[39;00m\n\u001b[1;32m   1083\u001b[0m     \u001b[38;5;66;03m# remaining jobs.\u001b[39;00m\n\u001b[1;32m   1084\u001b[0m     \u001b[38;5;28mself\u001b[39m\u001b[38;5;241m.\u001b[39m_iterating \u001b[38;5;241m=\u001b[39m \u001b[38;5;28;01mFalse\u001b[39;00m\n\u001b[0;32m-> 1085\u001b[0m     \u001b[38;5;28;01mif\u001b[39;00m \u001b[38;5;28;43mself\u001b[39;49m\u001b[38;5;241;43m.\u001b[39;49m\u001b[43mdispatch_one_batch\u001b[49m\u001b[43m(\u001b[49m\u001b[43miterator\u001b[49m\u001b[43m)\u001b[49m:\n\u001b[1;32m   1086\u001b[0m         \u001b[38;5;28mself\u001b[39m\u001b[38;5;241m.\u001b[39m_iterating \u001b[38;5;241m=\u001b[39m \u001b[38;5;28mself\u001b[39m\u001b[38;5;241m.\u001b[39m_original_iterator \u001b[38;5;129;01mis\u001b[39;00m \u001b[38;5;129;01mnot\u001b[39;00m \u001b[38;5;28;01mNone\u001b[39;00m\n\u001b[1;32m   1088\u001b[0m     \u001b[38;5;28;01mwhile\u001b[39;00m \u001b[38;5;28mself\u001b[39m\u001b[38;5;241m.\u001b[39mdispatch_one_batch(iterator):\n",
      "File \u001b[0;32m~/.local/lib/python3.11/site-packages/joblib/parallel.py:901\u001b[0m, in \u001b[0;36mParallel.dispatch_one_batch\u001b[0;34m(self, iterator)\u001b[0m\n\u001b[1;32m    899\u001b[0m     \u001b[38;5;28;01mreturn\u001b[39;00m \u001b[38;5;28;01mFalse\u001b[39;00m\n\u001b[1;32m    900\u001b[0m \u001b[38;5;28;01melse\u001b[39;00m:\n\u001b[0;32m--> 901\u001b[0m     \u001b[38;5;28;43mself\u001b[39;49m\u001b[38;5;241;43m.\u001b[39;49m\u001b[43m_dispatch\u001b[49m\u001b[43m(\u001b[49m\u001b[43mtasks\u001b[49m\u001b[43m)\u001b[49m\n\u001b[1;32m    902\u001b[0m     \u001b[38;5;28;01mreturn\u001b[39;00m \u001b[38;5;28;01mTrue\u001b[39;00m\n",
      "File \u001b[0;32m~/.local/lib/python3.11/site-packages/joblib/parallel.py:819\u001b[0m, in \u001b[0;36mParallel._dispatch\u001b[0;34m(self, batch)\u001b[0m\n\u001b[1;32m    817\u001b[0m \u001b[38;5;28;01mwith\u001b[39;00m \u001b[38;5;28mself\u001b[39m\u001b[38;5;241m.\u001b[39m_lock:\n\u001b[1;32m    818\u001b[0m     job_idx \u001b[38;5;241m=\u001b[39m \u001b[38;5;28mlen\u001b[39m(\u001b[38;5;28mself\u001b[39m\u001b[38;5;241m.\u001b[39m_jobs)\n\u001b[0;32m--> 819\u001b[0m     job \u001b[38;5;241m=\u001b[39m \u001b[38;5;28;43mself\u001b[39;49m\u001b[38;5;241;43m.\u001b[39;49m\u001b[43m_backend\u001b[49m\u001b[38;5;241;43m.\u001b[39;49m\u001b[43mapply_async\u001b[49m\u001b[43m(\u001b[49m\u001b[43mbatch\u001b[49m\u001b[43m,\u001b[49m\u001b[43m \u001b[49m\u001b[43mcallback\u001b[49m\u001b[38;5;241;43m=\u001b[39;49m\u001b[43mcb\u001b[49m\u001b[43m)\u001b[49m\n\u001b[1;32m    820\u001b[0m     \u001b[38;5;66;03m# A job can complete so quickly than its callback is\u001b[39;00m\n\u001b[1;32m    821\u001b[0m     \u001b[38;5;66;03m# called before we get here, causing self._jobs to\u001b[39;00m\n\u001b[1;32m    822\u001b[0m     \u001b[38;5;66;03m# grow. To ensure correct results ordering, .insert is\u001b[39;00m\n\u001b[1;32m    823\u001b[0m     \u001b[38;5;66;03m# used (rather than .append) in the following line\u001b[39;00m\n\u001b[1;32m    824\u001b[0m     \u001b[38;5;28mself\u001b[39m\u001b[38;5;241m.\u001b[39m_jobs\u001b[38;5;241m.\u001b[39minsert(job_idx, job)\n",
      "File \u001b[0;32m~/.local/lib/python3.11/site-packages/joblib/_parallel_backends.py:208\u001b[0m, in \u001b[0;36mSequentialBackend.apply_async\u001b[0;34m(self, func, callback)\u001b[0m\n\u001b[1;32m    206\u001b[0m \u001b[38;5;28;01mdef\u001b[39;00m \u001b[38;5;21mapply_async\u001b[39m(\u001b[38;5;28mself\u001b[39m, func, callback\u001b[38;5;241m=\u001b[39m\u001b[38;5;28;01mNone\u001b[39;00m):\n\u001b[1;32m    207\u001b[0m \u001b[38;5;250m    \u001b[39m\u001b[38;5;124;03m\"\"\"Schedule a func to be run\"\"\"\u001b[39;00m\n\u001b[0;32m--> 208\u001b[0m     result \u001b[38;5;241m=\u001b[39m \u001b[43mImmediateResult\u001b[49m\u001b[43m(\u001b[49m\u001b[43mfunc\u001b[49m\u001b[43m)\u001b[49m\n\u001b[1;32m    209\u001b[0m     \u001b[38;5;28;01mif\u001b[39;00m callback:\n\u001b[1;32m    210\u001b[0m         callback(result)\n",
      "File \u001b[0;32m~/.local/lib/python3.11/site-packages/joblib/_parallel_backends.py:597\u001b[0m, in \u001b[0;36mImmediateResult.__init__\u001b[0;34m(self, batch)\u001b[0m\n\u001b[1;32m    594\u001b[0m \u001b[38;5;28;01mdef\u001b[39;00m \u001b[38;5;21m__init__\u001b[39m(\u001b[38;5;28mself\u001b[39m, batch):\n\u001b[1;32m    595\u001b[0m     \u001b[38;5;66;03m# Don't delay the application, to avoid keeping the input\u001b[39;00m\n\u001b[1;32m    596\u001b[0m     \u001b[38;5;66;03m# arguments in memory\u001b[39;00m\n\u001b[0;32m--> 597\u001b[0m     \u001b[38;5;28mself\u001b[39m\u001b[38;5;241m.\u001b[39mresults \u001b[38;5;241m=\u001b[39m \u001b[43mbatch\u001b[49m\u001b[43m(\u001b[49m\u001b[43m)\u001b[49m\n",
      "File \u001b[0;32m~/.local/lib/python3.11/site-packages/joblib/parallel.py:288\u001b[0m, in \u001b[0;36mBatchedCalls.__call__\u001b[0;34m(self)\u001b[0m\n\u001b[1;32m    284\u001b[0m \u001b[38;5;28;01mdef\u001b[39;00m \u001b[38;5;21m__call__\u001b[39m(\u001b[38;5;28mself\u001b[39m):\n\u001b[1;32m    285\u001b[0m     \u001b[38;5;66;03m# Set the default nested backend to self._backend but do not set the\u001b[39;00m\n\u001b[1;32m    286\u001b[0m     \u001b[38;5;66;03m# change the default number of processes to -1\u001b[39;00m\n\u001b[1;32m    287\u001b[0m     \u001b[38;5;28;01mwith\u001b[39;00m parallel_backend(\u001b[38;5;28mself\u001b[39m\u001b[38;5;241m.\u001b[39m_backend, n_jobs\u001b[38;5;241m=\u001b[39m\u001b[38;5;28mself\u001b[39m\u001b[38;5;241m.\u001b[39m_n_jobs):\n\u001b[0;32m--> 288\u001b[0m         \u001b[38;5;28;01mreturn\u001b[39;00m \u001b[43m[\u001b[49m\u001b[43mfunc\u001b[49m\u001b[43m(\u001b[49m\u001b[38;5;241;43m*\u001b[39;49m\u001b[43margs\u001b[49m\u001b[43m,\u001b[49m\u001b[43m \u001b[49m\u001b[38;5;241;43m*\u001b[39;49m\u001b[38;5;241;43m*\u001b[39;49m\u001b[43mkwargs\u001b[49m\u001b[43m)\u001b[49m\n\u001b[1;32m    289\u001b[0m \u001b[43m                \u001b[49m\u001b[38;5;28;43;01mfor\u001b[39;49;00m\u001b[43m \u001b[49m\u001b[43mfunc\u001b[49m\u001b[43m,\u001b[49m\u001b[43m \u001b[49m\u001b[43margs\u001b[49m\u001b[43m,\u001b[49m\u001b[43m \u001b[49m\u001b[43mkwargs\u001b[49m\u001b[43m \u001b[49m\u001b[38;5;129;43;01min\u001b[39;49;00m\u001b[43m \u001b[49m\u001b[38;5;28;43mself\u001b[39;49m\u001b[38;5;241;43m.\u001b[39;49m\u001b[43mitems\u001b[49m\u001b[43m]\u001b[49m\n",
      "File \u001b[0;32m~/.local/lib/python3.11/site-packages/joblib/parallel.py:288\u001b[0m, in \u001b[0;36m<listcomp>\u001b[0;34m(.0)\u001b[0m\n\u001b[1;32m    284\u001b[0m \u001b[38;5;28;01mdef\u001b[39;00m \u001b[38;5;21m__call__\u001b[39m(\u001b[38;5;28mself\u001b[39m):\n\u001b[1;32m    285\u001b[0m     \u001b[38;5;66;03m# Set the default nested backend to self._backend but do not set the\u001b[39;00m\n\u001b[1;32m    286\u001b[0m     \u001b[38;5;66;03m# change the default number of processes to -1\u001b[39;00m\n\u001b[1;32m    287\u001b[0m     \u001b[38;5;28;01mwith\u001b[39;00m parallel_backend(\u001b[38;5;28mself\u001b[39m\u001b[38;5;241m.\u001b[39m_backend, n_jobs\u001b[38;5;241m=\u001b[39m\u001b[38;5;28mself\u001b[39m\u001b[38;5;241m.\u001b[39m_n_jobs):\n\u001b[0;32m--> 288\u001b[0m         \u001b[38;5;28;01mreturn\u001b[39;00m [\u001b[43mfunc\u001b[49m\u001b[43m(\u001b[49m\u001b[38;5;241;43m*\u001b[39;49m\u001b[43margs\u001b[49m\u001b[43m,\u001b[49m\u001b[43m \u001b[49m\u001b[38;5;241;43m*\u001b[39;49m\u001b[38;5;241;43m*\u001b[39;49m\u001b[43mkwargs\u001b[49m\u001b[43m)\u001b[49m\n\u001b[1;32m    289\u001b[0m                 \u001b[38;5;28;01mfor\u001b[39;00m func, args, kwargs \u001b[38;5;129;01min\u001b[39;00m \u001b[38;5;28mself\u001b[39m\u001b[38;5;241m.\u001b[39mitems]\n",
      "File \u001b[0;32m~/.local/lib/python3.11/site-packages/sklearn/utils/parallel.py:123\u001b[0m, in \u001b[0;36m_FuncWrapper.__call__\u001b[0;34m(self, *args, **kwargs)\u001b[0m\n\u001b[1;32m    121\u001b[0m     config \u001b[38;5;241m=\u001b[39m {}\n\u001b[1;32m    122\u001b[0m \u001b[38;5;28;01mwith\u001b[39;00m config_context(\u001b[38;5;241m*\u001b[39m\u001b[38;5;241m*\u001b[39mconfig):\n\u001b[0;32m--> 123\u001b[0m     \u001b[38;5;28;01mreturn\u001b[39;00m \u001b[38;5;28;43mself\u001b[39;49m\u001b[38;5;241;43m.\u001b[39;49m\u001b[43mfunction\u001b[49m\u001b[43m(\u001b[49m\u001b[38;5;241;43m*\u001b[39;49m\u001b[43margs\u001b[49m\u001b[43m,\u001b[49m\u001b[43m \u001b[49m\u001b[38;5;241;43m*\u001b[39;49m\u001b[38;5;241;43m*\u001b[39;49m\u001b[43mkwargs\u001b[49m\u001b[43m)\u001b[49m\n",
      "File \u001b[0;32m~/.local/lib/python3.11/site-packages/sklearn/linear_model/_logistic.py:450\u001b[0m, in \u001b[0;36m_logistic_regression_path\u001b[0;34m(X, y, pos_class, Cs, fit_intercept, max_iter, tol, verbose, solver, coef, class_weight, dual, penalty, intercept_scaling, multi_class, random_state, check_input, max_squared_sum, sample_weight, l1_ratio, n_threads)\u001b[0m\n\u001b[1;32m    446\u001b[0m l2_reg_strength \u001b[38;5;241m=\u001b[39m \u001b[38;5;241m1.0\u001b[39m \u001b[38;5;241m/\u001b[39m C\n\u001b[1;32m    447\u001b[0m iprint \u001b[38;5;241m=\u001b[39m [\u001b[38;5;241m-\u001b[39m\u001b[38;5;241m1\u001b[39m, \u001b[38;5;241m50\u001b[39m, \u001b[38;5;241m1\u001b[39m, \u001b[38;5;241m100\u001b[39m, \u001b[38;5;241m101\u001b[39m][\n\u001b[1;32m    448\u001b[0m     np\u001b[38;5;241m.\u001b[39msearchsorted(np\u001b[38;5;241m.\u001b[39marray([\u001b[38;5;241m0\u001b[39m, \u001b[38;5;241m1\u001b[39m, \u001b[38;5;241m2\u001b[39m, \u001b[38;5;241m3\u001b[39m]), verbose)\n\u001b[1;32m    449\u001b[0m ]\n\u001b[0;32m--> 450\u001b[0m opt_res \u001b[38;5;241m=\u001b[39m \u001b[43moptimize\u001b[49m\u001b[38;5;241;43m.\u001b[39;49m\u001b[43mminimize\u001b[49m\u001b[43m(\u001b[49m\n\u001b[1;32m    451\u001b[0m \u001b[43m    \u001b[49m\u001b[43mfunc\u001b[49m\u001b[43m,\u001b[49m\n\u001b[1;32m    452\u001b[0m \u001b[43m    \u001b[49m\u001b[43mw0\u001b[49m\u001b[43m,\u001b[49m\n\u001b[1;32m    453\u001b[0m \u001b[43m    \u001b[49m\u001b[43mmethod\u001b[49m\u001b[38;5;241;43m=\u001b[39;49m\u001b[38;5;124;43m\"\u001b[39;49m\u001b[38;5;124;43mL-BFGS-B\u001b[39;49m\u001b[38;5;124;43m\"\u001b[39;49m\u001b[43m,\u001b[49m\n\u001b[1;32m    454\u001b[0m \u001b[43m    \u001b[49m\u001b[43mjac\u001b[49m\u001b[38;5;241;43m=\u001b[39;49m\u001b[38;5;28;43;01mTrue\u001b[39;49;00m\u001b[43m,\u001b[49m\n\u001b[1;32m    455\u001b[0m \u001b[43m    \u001b[49m\u001b[43margs\u001b[49m\u001b[38;5;241;43m=\u001b[39;49m\u001b[43m(\u001b[49m\u001b[43mX\u001b[49m\u001b[43m,\u001b[49m\u001b[43m \u001b[49m\u001b[43mtarget\u001b[49m\u001b[43m,\u001b[49m\u001b[43m \u001b[49m\u001b[43msample_weight\u001b[49m\u001b[43m,\u001b[49m\u001b[43m \u001b[49m\u001b[43ml2_reg_strength\u001b[49m\u001b[43m,\u001b[49m\u001b[43m \u001b[49m\u001b[43mn_threads\u001b[49m\u001b[43m)\u001b[49m\u001b[43m,\u001b[49m\n\u001b[1;32m    456\u001b[0m \u001b[43m    \u001b[49m\u001b[43moptions\u001b[49m\u001b[38;5;241;43m=\u001b[39;49m\u001b[43m{\u001b[49m\u001b[38;5;124;43m\"\u001b[39;49m\u001b[38;5;124;43miprint\u001b[39;49m\u001b[38;5;124;43m\"\u001b[39;49m\u001b[43m:\u001b[49m\u001b[43m \u001b[49m\u001b[43miprint\u001b[49m\u001b[43m,\u001b[49m\u001b[43m \u001b[49m\u001b[38;5;124;43m\"\u001b[39;49m\u001b[38;5;124;43mgtol\u001b[39;49m\u001b[38;5;124;43m\"\u001b[39;49m\u001b[43m:\u001b[49m\u001b[43m \u001b[49m\u001b[43mtol\u001b[49m\u001b[43m,\u001b[49m\u001b[43m \u001b[49m\u001b[38;5;124;43m\"\u001b[39;49m\u001b[38;5;124;43mmaxiter\u001b[39;49m\u001b[38;5;124;43m\"\u001b[39;49m\u001b[43m:\u001b[49m\u001b[43m \u001b[49m\u001b[43mmax_iter\u001b[49m\u001b[43m}\u001b[49m\u001b[43m,\u001b[49m\n\u001b[1;32m    457\u001b[0m \u001b[43m\u001b[49m\u001b[43m)\u001b[49m\n\u001b[1;32m    458\u001b[0m n_iter_i \u001b[38;5;241m=\u001b[39m _check_optimize_result(\n\u001b[1;32m    459\u001b[0m     solver,\n\u001b[1;32m    460\u001b[0m     opt_res,\n\u001b[1;32m    461\u001b[0m     max_iter,\n\u001b[1;32m    462\u001b[0m     extra_warning_msg\u001b[38;5;241m=\u001b[39m_LOGISTIC_SOLVER_CONVERGENCE_MSG,\n\u001b[1;32m    463\u001b[0m )\n\u001b[1;32m    464\u001b[0m w0, loss \u001b[38;5;241m=\u001b[39m opt_res\u001b[38;5;241m.\u001b[39mx, opt_res\u001b[38;5;241m.\u001b[39mfun\n",
      "File \u001b[0;32m~/.local/lib/python3.11/site-packages/scipy/optimize/_minimize.py:696\u001b[0m, in \u001b[0;36mminimize\u001b[0;34m(fun, x0, args, method, jac, hess, hessp, bounds, constraints, tol, callback, options)\u001b[0m\n\u001b[1;32m    693\u001b[0m     res \u001b[38;5;241m=\u001b[39m _minimize_newtoncg(fun, x0, args, jac, hess, hessp, callback,\n\u001b[1;32m    694\u001b[0m                              \u001b[38;5;241m*\u001b[39m\u001b[38;5;241m*\u001b[39moptions)\n\u001b[1;32m    695\u001b[0m \u001b[38;5;28;01melif\u001b[39;00m meth \u001b[38;5;241m==\u001b[39m \u001b[38;5;124m'\u001b[39m\u001b[38;5;124ml-bfgs-b\u001b[39m\u001b[38;5;124m'\u001b[39m:\n\u001b[0;32m--> 696\u001b[0m     res \u001b[38;5;241m=\u001b[39m \u001b[43m_minimize_lbfgsb\u001b[49m\u001b[43m(\u001b[49m\u001b[43mfun\u001b[49m\u001b[43m,\u001b[49m\u001b[43m \u001b[49m\u001b[43mx0\u001b[49m\u001b[43m,\u001b[49m\u001b[43m \u001b[49m\u001b[43margs\u001b[49m\u001b[43m,\u001b[49m\u001b[43m \u001b[49m\u001b[43mjac\u001b[49m\u001b[43m,\u001b[49m\u001b[43m \u001b[49m\u001b[43mbounds\u001b[49m\u001b[43m,\u001b[49m\n\u001b[1;32m    697\u001b[0m \u001b[43m                           \u001b[49m\u001b[43mcallback\u001b[49m\u001b[38;5;241;43m=\u001b[39;49m\u001b[43mcallback\u001b[49m\u001b[43m,\u001b[49m\u001b[43m \u001b[49m\u001b[38;5;241;43m*\u001b[39;49m\u001b[38;5;241;43m*\u001b[39;49m\u001b[43moptions\u001b[49m\u001b[43m)\u001b[49m\n\u001b[1;32m    698\u001b[0m \u001b[38;5;28;01melif\u001b[39;00m meth \u001b[38;5;241m==\u001b[39m \u001b[38;5;124m'\u001b[39m\u001b[38;5;124mtnc\u001b[39m\u001b[38;5;124m'\u001b[39m:\n\u001b[1;32m    699\u001b[0m     res \u001b[38;5;241m=\u001b[39m _minimize_tnc(fun, x0, args, jac, bounds, callback\u001b[38;5;241m=\u001b[39mcallback,\n\u001b[1;32m    700\u001b[0m                         \u001b[38;5;241m*\u001b[39m\u001b[38;5;241m*\u001b[39moptions)\n",
      "File \u001b[0;32m~/.local/lib/python3.11/site-packages/scipy/optimize/_lbfgsb_py.py:359\u001b[0m, in \u001b[0;36m_minimize_lbfgsb\u001b[0;34m(fun, x0, args, jac, bounds, disp, maxcor, ftol, gtol, eps, maxfun, maxiter, iprint, callback, maxls, finite_diff_rel_step, **unknown_options)\u001b[0m\n\u001b[1;32m    353\u001b[0m task_str \u001b[38;5;241m=\u001b[39m task\u001b[38;5;241m.\u001b[39mtobytes()\n\u001b[1;32m    354\u001b[0m \u001b[38;5;28;01mif\u001b[39;00m task_str\u001b[38;5;241m.\u001b[39mstartswith(\u001b[38;5;124mb\u001b[39m\u001b[38;5;124m'\u001b[39m\u001b[38;5;124mFG\u001b[39m\u001b[38;5;124m'\u001b[39m):\n\u001b[1;32m    355\u001b[0m     \u001b[38;5;66;03m# The minimization routine wants f and g at the current x.\u001b[39;00m\n\u001b[1;32m    356\u001b[0m     \u001b[38;5;66;03m# Note that interruptions due to maxfun are postponed\u001b[39;00m\n\u001b[1;32m    357\u001b[0m     \u001b[38;5;66;03m# until the completion of the current minimization iteration.\u001b[39;00m\n\u001b[1;32m    358\u001b[0m     \u001b[38;5;66;03m# Overwrite f and g:\u001b[39;00m\n\u001b[0;32m--> 359\u001b[0m     f, g \u001b[38;5;241m=\u001b[39m \u001b[43mfunc_and_grad\u001b[49m\u001b[43m(\u001b[49m\u001b[43mx\u001b[49m\u001b[43m)\u001b[49m\n\u001b[1;32m    360\u001b[0m \u001b[38;5;28;01melif\u001b[39;00m task_str\u001b[38;5;241m.\u001b[39mstartswith(\u001b[38;5;124mb\u001b[39m\u001b[38;5;124m'\u001b[39m\u001b[38;5;124mNEW_X\u001b[39m\u001b[38;5;124m'\u001b[39m):\n\u001b[1;32m    361\u001b[0m     \u001b[38;5;66;03m# new iteration\u001b[39;00m\n\u001b[1;32m    362\u001b[0m     n_iterations \u001b[38;5;241m+\u001b[39m\u001b[38;5;241m=\u001b[39m \u001b[38;5;241m1\u001b[39m\n",
      "File \u001b[0;32m~/.local/lib/python3.11/site-packages/scipy/optimize/_differentiable_functions.py:285\u001b[0m, in \u001b[0;36mScalarFunction.fun_and_grad\u001b[0;34m(self, x)\u001b[0m\n\u001b[1;32m    283\u001b[0m \u001b[38;5;28;01mif\u001b[39;00m \u001b[38;5;129;01mnot\u001b[39;00m np\u001b[38;5;241m.\u001b[39marray_equal(x, \u001b[38;5;28mself\u001b[39m\u001b[38;5;241m.\u001b[39mx):\n\u001b[1;32m    284\u001b[0m     \u001b[38;5;28mself\u001b[39m\u001b[38;5;241m.\u001b[39m_update_x_impl(x)\n\u001b[0;32m--> 285\u001b[0m \u001b[38;5;28;43mself\u001b[39;49m\u001b[38;5;241;43m.\u001b[39;49m\u001b[43m_update_fun\u001b[49m\u001b[43m(\u001b[49m\u001b[43m)\u001b[49m\n\u001b[1;32m    286\u001b[0m \u001b[38;5;28mself\u001b[39m\u001b[38;5;241m.\u001b[39m_update_grad()\n\u001b[1;32m    287\u001b[0m \u001b[38;5;28;01mreturn\u001b[39;00m \u001b[38;5;28mself\u001b[39m\u001b[38;5;241m.\u001b[39mf, \u001b[38;5;28mself\u001b[39m\u001b[38;5;241m.\u001b[39mg\n",
      "File \u001b[0;32m~/.local/lib/python3.11/site-packages/scipy/optimize/_differentiable_functions.py:251\u001b[0m, in \u001b[0;36mScalarFunction._update_fun\u001b[0;34m(self)\u001b[0m\n\u001b[1;32m    249\u001b[0m \u001b[38;5;28;01mdef\u001b[39;00m \u001b[38;5;21m_update_fun\u001b[39m(\u001b[38;5;28mself\u001b[39m):\n\u001b[1;32m    250\u001b[0m     \u001b[38;5;28;01mif\u001b[39;00m \u001b[38;5;129;01mnot\u001b[39;00m \u001b[38;5;28mself\u001b[39m\u001b[38;5;241m.\u001b[39mf_updated:\n\u001b[0;32m--> 251\u001b[0m         \u001b[38;5;28;43mself\u001b[39;49m\u001b[38;5;241;43m.\u001b[39;49m\u001b[43m_update_fun_impl\u001b[49m\u001b[43m(\u001b[49m\u001b[43m)\u001b[49m\n\u001b[1;32m    252\u001b[0m         \u001b[38;5;28mself\u001b[39m\u001b[38;5;241m.\u001b[39mf_updated \u001b[38;5;241m=\u001b[39m \u001b[38;5;28;01mTrue\u001b[39;00m\n",
      "File \u001b[0;32m~/.local/lib/python3.11/site-packages/scipy/optimize/_differentiable_functions.py:155\u001b[0m, in \u001b[0;36mScalarFunction.__init__.<locals>.update_fun\u001b[0;34m()\u001b[0m\n\u001b[1;32m    154\u001b[0m \u001b[38;5;28;01mdef\u001b[39;00m \u001b[38;5;21mupdate_fun\u001b[39m():\n\u001b[0;32m--> 155\u001b[0m     \u001b[38;5;28mself\u001b[39m\u001b[38;5;241m.\u001b[39mf \u001b[38;5;241m=\u001b[39m \u001b[43mfun_wrapped\u001b[49m\u001b[43m(\u001b[49m\u001b[38;5;28;43mself\u001b[39;49m\u001b[38;5;241;43m.\u001b[39;49m\u001b[43mx\u001b[49m\u001b[43m)\u001b[49m\n",
      "File \u001b[0;32m~/.local/lib/python3.11/site-packages/scipy/optimize/_differentiable_functions.py:137\u001b[0m, in \u001b[0;36mScalarFunction.__init__.<locals>.fun_wrapped\u001b[0;34m(x)\u001b[0m\n\u001b[1;32m    133\u001b[0m \u001b[38;5;28mself\u001b[39m\u001b[38;5;241m.\u001b[39mnfev \u001b[38;5;241m+\u001b[39m\u001b[38;5;241m=\u001b[39m \u001b[38;5;241m1\u001b[39m\n\u001b[1;32m    134\u001b[0m \u001b[38;5;66;03m# Send a copy because the user may overwrite it.\u001b[39;00m\n\u001b[1;32m    135\u001b[0m \u001b[38;5;66;03m# Overwriting results in undefined behaviour because\u001b[39;00m\n\u001b[1;32m    136\u001b[0m \u001b[38;5;66;03m# fun(self.x) will change self.x, with the two no longer linked.\u001b[39;00m\n\u001b[0;32m--> 137\u001b[0m fx \u001b[38;5;241m=\u001b[39m \u001b[43mfun\u001b[49m\u001b[43m(\u001b[49m\u001b[43mnp\u001b[49m\u001b[38;5;241;43m.\u001b[39;49m\u001b[43mcopy\u001b[49m\u001b[43m(\u001b[49m\u001b[43mx\u001b[49m\u001b[43m)\u001b[49m\u001b[43m,\u001b[49m\u001b[43m \u001b[49m\u001b[38;5;241;43m*\u001b[39;49m\u001b[43margs\u001b[49m\u001b[43m)\u001b[49m\n\u001b[1;32m    138\u001b[0m \u001b[38;5;66;03m# Make sure the function returns a true scalar\u001b[39;00m\n\u001b[1;32m    139\u001b[0m \u001b[38;5;28;01mif\u001b[39;00m \u001b[38;5;129;01mnot\u001b[39;00m np\u001b[38;5;241m.\u001b[39misscalar(fx):\n",
      "File \u001b[0;32m~/.local/lib/python3.11/site-packages/scipy/optimize/_optimize.py:76\u001b[0m, in \u001b[0;36mMemoizeJac.__call__\u001b[0;34m(self, x, *args)\u001b[0m\n\u001b[1;32m     74\u001b[0m \u001b[38;5;28;01mdef\u001b[39;00m \u001b[38;5;21m__call__\u001b[39m(\u001b[38;5;28mself\u001b[39m, x, \u001b[38;5;241m*\u001b[39margs):\n\u001b[1;32m     75\u001b[0m \u001b[38;5;250m    \u001b[39m\u001b[38;5;124;03m\"\"\" returns the function value \"\"\"\u001b[39;00m\n\u001b[0;32m---> 76\u001b[0m     \u001b[38;5;28;43mself\u001b[39;49m\u001b[38;5;241;43m.\u001b[39;49m\u001b[43m_compute_if_needed\u001b[49m\u001b[43m(\u001b[49m\u001b[43mx\u001b[49m\u001b[43m,\u001b[49m\u001b[43m \u001b[49m\u001b[38;5;241;43m*\u001b[39;49m\u001b[43margs\u001b[49m\u001b[43m)\u001b[49m\n\u001b[1;32m     77\u001b[0m     \u001b[38;5;28;01mreturn\u001b[39;00m \u001b[38;5;28mself\u001b[39m\u001b[38;5;241m.\u001b[39m_value\n",
      "File \u001b[0;32m~/.local/lib/python3.11/site-packages/scipy/optimize/_optimize.py:70\u001b[0m, in \u001b[0;36mMemoizeJac._compute_if_needed\u001b[0;34m(self, x, *args)\u001b[0m\n\u001b[1;32m     68\u001b[0m \u001b[38;5;28;01mif\u001b[39;00m \u001b[38;5;129;01mnot\u001b[39;00m np\u001b[38;5;241m.\u001b[39mall(x \u001b[38;5;241m==\u001b[39m \u001b[38;5;28mself\u001b[39m\u001b[38;5;241m.\u001b[39mx) \u001b[38;5;129;01mor\u001b[39;00m \u001b[38;5;28mself\u001b[39m\u001b[38;5;241m.\u001b[39m_value \u001b[38;5;129;01mis\u001b[39;00m \u001b[38;5;28;01mNone\u001b[39;00m \u001b[38;5;129;01mor\u001b[39;00m \u001b[38;5;28mself\u001b[39m\u001b[38;5;241m.\u001b[39mjac \u001b[38;5;129;01mis\u001b[39;00m \u001b[38;5;28;01mNone\u001b[39;00m:\n\u001b[1;32m     69\u001b[0m     \u001b[38;5;28mself\u001b[39m\u001b[38;5;241m.\u001b[39mx \u001b[38;5;241m=\u001b[39m np\u001b[38;5;241m.\u001b[39masarray(x)\u001b[38;5;241m.\u001b[39mcopy()\n\u001b[0;32m---> 70\u001b[0m     fg \u001b[38;5;241m=\u001b[39m \u001b[38;5;28;43mself\u001b[39;49m\u001b[38;5;241;43m.\u001b[39;49m\u001b[43mfun\u001b[49m\u001b[43m(\u001b[49m\u001b[43mx\u001b[49m\u001b[43m,\u001b[49m\u001b[43m \u001b[49m\u001b[38;5;241;43m*\u001b[39;49m\u001b[43margs\u001b[49m\u001b[43m)\u001b[49m\n\u001b[1;32m     71\u001b[0m     \u001b[38;5;28mself\u001b[39m\u001b[38;5;241m.\u001b[39mjac \u001b[38;5;241m=\u001b[39m fg[\u001b[38;5;241m1\u001b[39m]\n\u001b[1;32m     72\u001b[0m     \u001b[38;5;28mself\u001b[39m\u001b[38;5;241m.\u001b[39m_value \u001b[38;5;241m=\u001b[39m fg[\u001b[38;5;241m0\u001b[39m]\n",
      "File \u001b[0;32m~/.local/lib/python3.11/site-packages/sklearn/linear_model/_linear_loss.py:297\u001b[0m, in \u001b[0;36mLinearModelLoss.loss_gradient\u001b[0;34m(self, coef, X, y, sample_weight, l2_reg_strength, n_threads, raw_prediction)\u001b[0m\n\u001b[1;32m    295\u001b[0m grad[:, :n_features] \u001b[38;5;241m=\u001b[39m grad_pointwise\u001b[38;5;241m.\u001b[39mT \u001b[38;5;241m@\u001b[39m X \u001b[38;5;241m+\u001b[39m l2_reg_strength \u001b[38;5;241m*\u001b[39m weights\n\u001b[1;32m    296\u001b[0m \u001b[38;5;28;01mif\u001b[39;00m \u001b[38;5;28mself\u001b[39m\u001b[38;5;241m.\u001b[39mfit_intercept:\n\u001b[0;32m--> 297\u001b[0m     grad[:, \u001b[38;5;241m-\u001b[39m\u001b[38;5;241m1\u001b[39m] \u001b[38;5;241m=\u001b[39m \u001b[43mgrad_pointwise\u001b[49m\u001b[38;5;241;43m.\u001b[39;49m\u001b[43msum\u001b[49m\u001b[43m(\u001b[49m\u001b[43maxis\u001b[49m\u001b[38;5;241;43m=\u001b[39;49m\u001b[38;5;241;43m0\u001b[39;49m\u001b[43m)\u001b[49m\n\u001b[1;32m    298\u001b[0m \u001b[38;5;28;01mif\u001b[39;00m coef\u001b[38;5;241m.\u001b[39mndim \u001b[38;5;241m==\u001b[39m \u001b[38;5;241m1\u001b[39m:\n\u001b[1;32m    299\u001b[0m     grad \u001b[38;5;241m=\u001b[39m grad\u001b[38;5;241m.\u001b[39mravel(order\u001b[38;5;241m=\u001b[39m\u001b[38;5;124m\"\u001b[39m\u001b[38;5;124mF\u001b[39m\u001b[38;5;124m\"\u001b[39m)\n",
      "File \u001b[0;32m~/.local/lib/python3.11/site-packages/numpy/core/_methods.py:47\u001b[0m, in \u001b[0;36m_sum\u001b[0;34m(a, axis, dtype, out, keepdims, initial, where)\u001b[0m\n\u001b[1;32m     43\u001b[0m \u001b[38;5;28;01mdef\u001b[39;00m \u001b[38;5;21m_amin\u001b[39m(a, axis\u001b[38;5;241m=\u001b[39m\u001b[38;5;28;01mNone\u001b[39;00m, out\u001b[38;5;241m=\u001b[39m\u001b[38;5;28;01mNone\u001b[39;00m, keepdims\u001b[38;5;241m=\u001b[39m\u001b[38;5;28;01mFalse\u001b[39;00m,\n\u001b[1;32m     44\u001b[0m           initial\u001b[38;5;241m=\u001b[39m_NoValue, where\u001b[38;5;241m=\u001b[39m\u001b[38;5;28;01mTrue\u001b[39;00m):\n\u001b[1;32m     45\u001b[0m     \u001b[38;5;28;01mreturn\u001b[39;00m umr_minimum(a, axis, \u001b[38;5;28;01mNone\u001b[39;00m, out, keepdims, initial, where)\n\u001b[0;32m---> 47\u001b[0m \u001b[38;5;28;01mdef\u001b[39;00m \u001b[38;5;21m_sum\u001b[39m(a, axis\u001b[38;5;241m=\u001b[39m\u001b[38;5;28;01mNone\u001b[39;00m, dtype\u001b[38;5;241m=\u001b[39m\u001b[38;5;28;01mNone\u001b[39;00m, out\u001b[38;5;241m=\u001b[39m\u001b[38;5;28;01mNone\u001b[39;00m, keepdims\u001b[38;5;241m=\u001b[39m\u001b[38;5;28;01mFalse\u001b[39;00m,\n\u001b[1;32m     48\u001b[0m          initial\u001b[38;5;241m=\u001b[39m_NoValue, where\u001b[38;5;241m=\u001b[39m\u001b[38;5;28;01mTrue\u001b[39;00m):\n\u001b[1;32m     49\u001b[0m     \u001b[38;5;28;01mreturn\u001b[39;00m umr_sum(a, axis, dtype, out, keepdims, initial, where)\n\u001b[1;32m     51\u001b[0m \u001b[38;5;28;01mdef\u001b[39;00m \u001b[38;5;21m_prod\u001b[39m(a, axis\u001b[38;5;241m=\u001b[39m\u001b[38;5;28;01mNone\u001b[39;00m, dtype\u001b[38;5;241m=\u001b[39m\u001b[38;5;28;01mNone\u001b[39;00m, out\u001b[38;5;241m=\u001b[39m\u001b[38;5;28;01mNone\u001b[39;00m, keepdims\u001b[38;5;241m=\u001b[39m\u001b[38;5;28;01mFalse\u001b[39;00m,\n\u001b[1;32m     52\u001b[0m           initial\u001b[38;5;241m=\u001b[39m_NoValue, where\u001b[38;5;241m=\u001b[39m\u001b[38;5;28;01mTrue\u001b[39;00m):\n",
      "\u001b[0;31mKeyboardInterrupt\u001b[0m: "
     ]
    }
   ],
   "source": [
    "st = time.time()\n",
    "dimst = time.time()\n",
    "\n",
    "comps = range(2,30)\n",
    "n_splits = 5\n",
    "## Makes a 3-D array of to record the accuracies in\n",
    "log_reg_pca_accs = np.zeros((n_splits, len(comps)))\n",
    "log_reg_pca_accs2 = np.zeros((n_splits, len(comps)))\n",
    "\n",
    "i = 0\n",
    "for train_index, test_index in kfold.split(X_train, y_train):\n",
    "    ## Keeps track of the cross validation split you are on\n",
    "    ## This loop can be a little long\n",
    "    print(\"CV Split\", i)\n",
    "    tt = X_train[train_index]\n",
    "    ho = X_train[test_index]\n",
    "    y_tt = y_train[train_index]\n",
    "    y_ho = y_train[test_index]\n",
    "    \n",
    "    j = 0\n",
    "    for n_comps in comps:\n",
    "        dimst = time.time()\n",
    "        ## Make the PCA pipeline here\n",
    "        pca_pipe = Pipeline([('scale', StandardScaler()),\n",
    "                            ('pca', PCA(n_comps))])\n",
    "        \n",
    "        ## Fit and then get the PCA transformed tt data here\n",
    "        pca_tt = pca_pipe.fit_transform(tt)\n",
    "        \n",
    "        ## Get the transformed holdout data here\n",
    "        pca_ho = pca_pipe.transform(ho)\n",
    "        \n",
    "        #Logistic Regression here:\n",
    "        log_reg = LogisticRegression(max_iter=10000,\n",
    "                                     penalty=None)\n",
    "        \n",
    "        log_reg.fit(tt, y_tt)\n",
    "        \n",
    "        pred = log_reg.predict((ho))\n",
    "        \n",
    "        log_reg_pca_accs[i,j] = accuracy_score(y_ho, pred)\n",
    "        log_reg_pca_accs2[i,j] = accuracy_score(y_tt, log_reg.predict(tt))\n",
    "        \n",
    "        j = j + 1\n",
    "        dimtime = time.time() - dimst\n",
    "        print(j)\n",
    "        print(dimtime)\n",
    "    i = i + 1\n",
    "et = time.time() - st\n",
    "print(et)"
   ]
  },
  {
   "cell_type": "code",
   "execution_count": 51,
   "id": "f13a7cd1",
   "metadata": {},
   "outputs": [
    {
     "name": "stdout",
     "output_type": "stream",
     "text": [
      "CV Split 0\n",
      "1\n",
      "74.47110629081726\n",
      "2\n",
      "75.22611665725708\n",
      "CV Split 1\n",
      "1\n",
      "28.218788862228394\n",
      "2\n",
      "26.66051197052002\n",
      "CV Split 2\n",
      "1\n",
      "90.16496181488037\n",
      "2\n",
      "90.33793878555298\n",
      "CV Split 3\n",
      "1\n",
      "27.94273543357849\n",
      "2\n",
      "27.7144615650177\n",
      "CV Split 4\n",
      "1\n",
      "23.92130708694458\n",
      "2\n",
      "23.379066467285156\n",
      "488.2016701698303\n"
     ]
    }
   ],
   "source": [
    "st = time.time()\n",
    "dimst = time.time()\n",
    "\n",
    "comps = range(2,4)\n",
    "n_splits = 5\n",
    "## Makes a 3-D array of to record the accuracies in\n",
    "log_reg_pca_accs = np.zeros((n_splits, len(comps)))\n",
    "log_reg_pca_accs2 = np.zeros((n_splits, len(comps)))\n",
    "\n",
    "i = 0\n",
    "for train_index, test_index in kfold.split(X_train, y_train):\n",
    "    ## Keeps track of the cross validation split you are on\n",
    "    ## This loop can be a little long\n",
    "    print(\"CV Split\", i)\n",
    "    tt = X_train[train_index]\n",
    "    ho = X_train[test_index]\n",
    "    y_tt = y_train[train_index]\n",
    "    y_ho = y_train[test_index]\n",
    "    \n",
    "    j = 0\n",
    "    for n_comps in comps:\n",
    "        dimst = time.time()\n",
    "        ## Make the PCA pipeline here\n",
    "        pca_pipe = Pipeline([('scale', StandardScaler()),\n",
    "                            ('pca', PCA(n_comps))])\n",
    "        \n",
    "        ## Fit and then get the PCA transformed tt data here\n",
    "        pca_tt = pca_pipe.fit_transform(tt)\n",
    "        \n",
    "        ## Get the transformed holdout data here\n",
    "        pca_ho = pca_pipe.transform(ho)\n",
    "        \n",
    "        #Logistic Regression here:\n",
    "        log_reg = LogisticRegression(max_iter=10000,\n",
    "                                     penalty=None)\n",
    "        \n",
    "        log_reg.fit(tt, y_tt)\n",
    "        \n",
    "        pred = log_reg.predict((ho))\n",
    "        \n",
    "        log_reg_pca_accs[i,j] = accuracy_score(y_ho, pred)\n",
    "        log_reg_pca_accs2[i,j] = accuracy_score(y_tt, log_reg.predict(tt))\n",
    "        \n",
    "        j = j + 1\n",
    "        dimtime = time.time() - dimst\n",
    "        print(j)\n",
    "        print(dimtime)\n",
    "    i = i + 1\n",
    "et = time.time() - st\n",
    "print(et)"
   ]
  },
  {
   "cell_type": "code",
   "execution_count": 52,
   "id": "4b1f8c91",
   "metadata": {},
   "outputs": [
    {
     "name": "stdout",
     "output_type": "stream",
     "text": [
      "The highest AVG CV Accuracy corresponds to  number of components = 2\n",
      "The highest AVG CV Accuracy was 0.9162856535507748\n"
     ]
    }
   ],
   "source": [
    "## This code will print out the best # components - k combo for you\n",
    "## It also prints out the highest AVG CV Accuracy\n",
    "max_index = np.unravel_index(np.argmax(np.mean(log_reg_pca_accs, axis=0), axis=None), \n",
    "                                       np.mean(log_reg_pca_accs, axis=0).shape)\n",
    "\n",
    "\n",
    "print(\"The highest AVG CV Accuracy corresponds to  number of components =\", np.round(comps[max_index[0]],2))\n",
    "print(\"The highest AVG CV Accuracy was\", np.max(np.mean(log_reg_pca_accs, axis=0)))"
   ]
  },
  {
   "cell_type": "code",
   "execution_count": null,
   "id": "3e8049b4",
   "metadata": {},
   "outputs": [],
   "source": [
    "\n"
   ]
  }
 ],
 "metadata": {
  "kernelspec": {
   "display_name": "Python 3 (ipykernel)",
   "language": "python",
   "name": "python3"
  },
  "language_info": {
   "codemirror_mode": {
    "name": "ipython",
    "version": 3
   },
   "file_extension": ".py",
   "mimetype": "text/x-python",
   "name": "python",
   "nbconvert_exporter": "python",
   "pygments_lexer": "ipython3",
   "version": "3.11.3"
  }
 },
 "nbformat": 4,
 "nbformat_minor": 5
}
